{
 "cells": [
  {
   "cell_type": "markdown",
   "id": "72eeea41",
   "metadata": {},
   "source": [
    "# DDA3020 - Tutorial 2: Linear Algebra \\& Linear Regression"
   ]
  },
  {
   "cell_type": "markdown",
   "id": "457d8a89",
   "metadata": {
    "ExecuteTime": {
     "end_time": "2022-09-11T11:52:28.420689Z",
     "start_time": "2022-09-11T11:52:28.417538Z"
    }
   },
   "source": [
    "*Xudong Wang 王旭东*\n",
    "\n",
    "*xudongwang@link.cuhk.edu.cn*\n",
    "\n",
    "*School of Data Science*\n",
    "\n",
    "*The Chinese University of Hongkong, Shenzhen*\n",
    "\n",
    "*2022.09.20*"
   ]
  },
  {
   "cell_type": "code",
   "execution_count": 1,
   "id": "ab1985fd",
   "metadata": {
    "ExecuteTime": {
     "end_time": "2022-09-18T06:50:55.547440Z",
     "start_time": "2022-09-18T06:50:55.544857Z"
    }
   },
   "outputs": [],
   "source": [
    "import warnings; warnings.filterwarnings('ignore')"
   ]
  },
  {
   "cell_type": "markdown",
   "id": "2ed6cd87",
   "metadata": {},
   "source": [
    "# Linear Algebra in Python"
   ]
  },
  {
   "cell_type": "markdown",
   "id": "2410861b",
   "metadata": {},
   "source": [
    "## Basic Matrix Vector Operations\n",
    "please pay attention to assigning shape and an appropriate representation based on your application for numpy Ndarray."
   ]
  },
  {
   "cell_type": "code",
   "execution_count": 2,
   "id": "3ff090c6",
   "metadata": {
    "ExecuteTime": {
     "end_time": "2022-09-18T06:50:55.564178Z",
     "start_time": "2022-09-18T06:50:55.549707Z"
    }
   },
   "outputs": [],
   "source": [
    "import numpy as np\n",
    "import math \n",
    "import scipy \n",
    "np.random.seed(3020)"
   ]
  },
  {
   "cell_type": "markdown",
   "id": "ba4ec9f0",
   "metadata": {},
   "source": [
    "## Numpy Linear Algebra Algorithms"
   ]
  },
  {
   "cell_type": "code",
   "execution_count": 3,
   "id": "00f1cdae",
   "metadata": {
    "ExecuteTime": {
     "end_time": "2022-09-18T06:50:55.571352Z",
     "start_time": "2022-09-18T06:50:55.566473Z"
    }
   },
   "outputs": [
    {
     "name": "stdout",
     "output_type": "stream",
     "text": [
      "['LinAlgError', '_umath_linalg', 'absolute_import', 'cholesky', 'cond', 'det', 'division', 'eig', 'eigh', 'eigvals', 'eigvalsh', 'inv', 'lapack_lite', 'linalg', 'lstsq', 'matrix_power', 'matrix_rank', 'multi_dot', 'norm', 'pinv', 'print_function', 'qr', 'slogdet', 'solve', 'svd', 'tensorinv', 'tensorsolve', 'test']\n"
     ]
    }
   ],
   "source": [
    "print([method for method in dir(np.linalg) if '__' not in method])"
   ]
  },
  {
   "cell_type": "code",
   "execution_count": 4,
   "id": "3819722f",
   "metadata": {
    "ExecuteTime": {
     "end_time": "2022-09-18T06:50:55.578209Z",
     "start_time": "2022-09-18T06:50:55.573125Z"
    }
   },
   "outputs": [
    {
     "name": "stdout",
     "output_type": "stream",
     "text": [
      "5.477225575051661 10.0\n",
      "1\n",
      "0.0 [[1 0 0 0]\n",
      " [0 2 0 0]\n",
      " [0 0 3 0]\n",
      " [0 0 0 4]] 23.999999999999993\n"
     ]
    }
   ],
   "source": [
    "print(np.linalg.norm([1,2,3,4]),np.linalg.norm([1,2,3,4],1))\n",
    "print(np.linalg.matrix_rank([1,2,3,4]))\n",
    "print(np.linalg.det(np.ones((2,2))),np.diag([1,2,3,4]),np.linalg.det(np.diag([1,2,3,4])))  "
   ]
  },
  {
   "cell_type": "code",
   "execution_count": 5,
   "id": "08df392e",
   "metadata": {
    "ExecuteTime": {
     "end_time": "2022-09-18T06:50:55.589206Z",
     "start_time": "2022-09-18T06:50:55.580100Z"
    }
   },
   "outputs": [
    {
     "data": {
      "text/plain": [
       "array([1., 2., 3., 4.])"
      ]
     },
     "execution_count": 5,
     "metadata": {},
     "output_type": "execute_result"
    }
   ],
   "source": [
    "np.linalg.eigvals(np.diag([1,2,3,4])) "
   ]
  },
  {
   "cell_type": "code",
   "execution_count": 6,
   "id": "1b86df58",
   "metadata": {
    "ExecuteTime": {
     "end_time": "2022-09-18T06:50:55.595367Z",
     "start_time": "2022-09-18T06:50:55.591081Z"
    }
   },
   "outputs": [
    {
     "data": {
      "text/plain": [
       "(array([1., 2., 3., 4.]),\n",
       " array([[1., 0., 0., 0.],\n",
       "        [0., 1., 0., 0.],\n",
       "        [0., 0., 1., 0.],\n",
       "        [0., 0., 0., 1.]]))"
      ]
     },
     "execution_count": 6,
     "metadata": {},
     "output_type": "execute_result"
    }
   ],
   "source": [
    "np.linalg.eig(np.diag([1,2,3,4]))  "
   ]
  },
  {
   "cell_type": "code",
   "execution_count": 7,
   "id": "c314727a",
   "metadata": {
    "ExecuteTime": {
     "end_time": "2022-09-18T06:50:55.599212Z",
     "start_time": "2022-09-18T06:50:55.597278Z"
    }
   },
   "outputs": [],
   "source": [
    "# check the document.\n",
    "# help(np.linalg.norm)"
   ]
  },
  {
   "cell_type": "markdown",
   "id": "9764dd41",
   "metadata": {},
   "source": [
    "## Dot product"
   ]
  },
  {
   "cell_type": "code",
   "execution_count": 8,
   "id": "2dd54704",
   "metadata": {
    "ExecuteTime": {
     "end_time": "2022-09-18T06:50:55.604387Z",
     "start_time": "2022-09-18T06:50:55.601142Z"
    }
   },
   "outputs": [
    {
     "name": "stdout",
     "output_type": "stream",
     "text": [
      "(2, 1) (2, 1)\n"
     ]
    }
   ],
   "source": [
    "a = np.array([1,2]).reshape(2,1)\n",
    "b = np.array([3,4])\n",
    "b.shape = (2,1) # This is inplace handle, directly change the shape attribute of b\n",
    "print(a.shape,b.shape)"
   ]
  },
  {
   "cell_type": "markdown",
   "id": "dcd478b9",
   "metadata": {},
   "source": [
    "Generic matrix/vector multiplication "
   ]
  },
  {
   "cell_type": "code",
   "execution_count": 9,
   "id": "08be41fc",
   "metadata": {
    "ExecuteTime": {
     "end_time": "2022-09-18T06:50:55.609532Z",
     "start_time": "2022-09-18T06:50:55.606171Z"
    }
   },
   "outputs": [
    {
     "name": "stdout",
     "output_type": "stream",
     "text": [
      "11\n",
      "(2,)\n",
      "11\n"
     ]
    }
   ],
   "source": [
    "print(np.vdot(a,b)) \n",
    "# print(a.dot(b)) # ValueError: shapes (2,1) and (2,1) not aligned: 1 (dim 1) != 2 (dim 0)\n",
    "print(np.array([1,2]).shape) # default in 1-d, regard as vector.\n",
    "print(np.array([1,2]).dot(np.array([3,4])))"
   ]
  },
  {
   "cell_type": "code",
   "execution_count": 10,
   "id": "2fc4609c",
   "metadata": {
    "ExecuteTime": {
     "end_time": "2022-09-18T06:50:55.614631Z",
     "start_time": "2022-09-18T06:50:55.611365Z"
    }
   },
   "outputs": [
    {
     "data": {
      "text/plain": [
       "()"
      ]
     },
     "execution_count": 10,
     "metadata": {},
     "output_type": "execute_result"
    }
   ],
   "source": [
    "np.vdot(a,b).shape # Scalar"
   ]
  },
  {
   "cell_type": "markdown",
   "id": "7a402a38",
   "metadata": {},
   "source": [
    "## Inner Product\n",
    "Note: Numpy automatically transposes the second argument, so we need to account for this implementation. This implies we define a and b as row vectors, so inner product is $A.B^T$"
   ]
  },
  {
   "cell_type": "code",
   "execution_count": 11,
   "id": "2f953977",
   "metadata": {
    "ExecuteTime": {
     "end_time": "2022-09-18T06:50:55.618930Z",
     "start_time": "2022-09-18T06:50:55.616605Z"
    }
   },
   "outputs": [],
   "source": [
    "a = a.reshape(1,2)\n",
    "b = b.reshape(1,2)"
   ]
  },
  {
   "cell_type": "code",
   "execution_count": 12,
   "id": "41a6caef",
   "metadata": {
    "ExecuteTime": {
     "end_time": "2022-09-18T06:50:55.623363Z",
     "start_time": "2022-09-18T06:50:55.620437Z"
    }
   },
   "outputs": [
    {
     "name": "stdout",
     "output_type": "stream",
     "text": [
      "[[11]] (1, 1)\n"
     ]
    }
   ],
   "source": [
    "print(np.inner(b,a), np.inner(b,a).shape) "
   ]
  },
  {
   "cell_type": "code",
   "execution_count": 13,
   "id": "7dfe1759",
   "metadata": {
    "ExecuteTime": {
     "end_time": "2022-09-18T06:50:55.629062Z",
     "start_time": "2022-09-18T06:50:55.625234Z"
    }
   },
   "outputs": [
    {
     "name": "stdout",
     "output_type": "stream",
     "text": [
      "[[11]] (1, 1)\n",
      "[[11]] (1, 1)\n",
      "[[11]] (1, 1)\n"
     ]
    }
   ],
   "source": [
    "print(np.dot(a, np.transpose(b)),np.dot(a, np.transpose(b)).shape)\n",
    "print(np.dot(a, b.T),np.dot(a, b.T).shape)\n",
    "print(a.dot(b.T),a.dot(b.T).shape)"
   ]
  },
  {
   "cell_type": "markdown",
   "id": "b06a0f8c",
   "metadata": {},
   "source": [
    "## Outer product\n",
    "Similar note of caution as with inner product. Outer product is $A^T.B$"
   ]
  },
  {
   "cell_type": "code",
   "execution_count": 14,
   "id": "ea818a02",
   "metadata": {
    "ExecuteTime": {
     "end_time": "2022-09-18T06:50:55.633817Z",
     "start_time": "2022-09-18T06:50:55.630858Z"
    }
   },
   "outputs": [
    {
     "name": "stdout",
     "output_type": "stream",
     "text": [
      "[[1 2]] [[3 4]]\n",
      "[[3 4]\n",
      " [6 8]] (2, 2)\n"
     ]
    }
   ],
   "source": [
    "print(a,b)\n",
    "print(np.outer(a,b), np.outer(a,b).shape) "
   ]
  },
  {
   "cell_type": "code",
   "execution_count": 15,
   "id": "e44ea844",
   "metadata": {
    "ExecuteTime": {
     "end_time": "2022-09-18T06:50:55.642421Z",
     "start_time": "2022-09-18T06:50:55.638910Z"
    }
   },
   "outputs": [
    {
     "name": "stdout",
     "output_type": "stream",
     "text": [
      "[[3 4]\n",
      " [6 8]] (2, 2)\n",
      "[[3 4]\n",
      " [6 8]] (2, 2)\n",
      "[[3 4]\n",
      " [6 8]] (2, 2)\n"
     ]
    }
   ],
   "source": [
    "print(np.dot(np.transpose(a), b),np.dot(np.transpose(a), b).shape)\n",
    "print(np.dot(a.T, b),np.dot(a.T, b).shape)\n",
    "print(a.T.dot(b),a.T.dot(b).shape)"
   ]
  },
  {
   "cell_type": "markdown",
   "id": "46f41b8c",
   "metadata": {},
   "source": [
    "## Kronecker Product - Generalization of Outer Product to Matrices\n",
    "\n",
    "dim(A$\\otimes$B) = dim(A) $\\times$ dim(B)\n",
    "in the example below, A and B are each (2,2) so kron(A,B) is (4,4)"
   ]
  },
  {
   "cell_type": "markdown",
   "id": "5fa14d03",
   "metadata": {},
   "source": [
    "##Kronecker Product - Generalization of Outer Product to Matrices\n",
    "dim(A$\\otimes$B) = dim(A) $\\times$ dim(B)\n",
    "in the example below, A and B are each (2,2) so kron(A,B) is (4,4)"
   ]
  },
  {
   "cell_type": "code",
   "execution_count": 16,
   "id": "11ba58ac",
   "metadata": {
    "ExecuteTime": {
     "end_time": "2022-09-18T06:50:55.649277Z",
     "start_time": "2022-09-18T06:50:55.645922Z"
    }
   },
   "outputs": [
    {
     "name": "stdout",
     "output_type": "stream",
     "text": [
      "(2, 2) (2, 2)\n",
      "[[1 2]\n",
      " [3 4]] \n",
      " [[5 6]\n",
      " [7 8]]\n"
     ]
    }
   ],
   "source": [
    "a = np.array([[1,2],[3,4]])\n",
    "b = np.array([[5,6],[7,8]])\n",
    "print(a.shape,b.shape)\n",
    "print(a,'\\n',b)"
   ]
  },
  {
   "cell_type": "code",
   "execution_count": 17,
   "id": "7f15ccf7",
   "metadata": {
    "ExecuteTime": {
     "end_time": "2022-09-18T06:50:55.654472Z",
     "start_time": "2022-09-18T06:50:55.651191Z"
    }
   },
   "outputs": [
    {
     "data": {
      "text/plain": [
       "array([[ 5,  6, 10, 12],\n",
       "       [ 7,  8, 14, 16],\n",
       "       [15, 18, 20, 24],\n",
       "       [21, 24, 28, 32]])"
      ]
     },
     "execution_count": 17,
     "metadata": {},
     "output_type": "execute_result"
    }
   ],
   "source": [
    "np.kron(a,b)"
   ]
  },
  {
   "cell_type": "code",
   "execution_count": 18,
   "id": "8e20cf43",
   "metadata": {
    "ExecuteTime": {
     "end_time": "2022-09-18T06:50:55.659292Z",
     "start_time": "2022-09-18T06:50:55.656246Z"
    }
   },
   "outputs": [
    {
     "name": "stdout",
     "output_type": "stream",
     "text": [
      "[[17 23]\n",
      " [39 53]]\n",
      "[[17 23]\n",
      " [39 53]]\n",
      "[[19 22]\n",
      " [43 50]]\n"
     ]
    }
   ],
   "source": [
    "print(np.matmul(a, np.transpose(b)))\n",
    "print(a.dot(b.T)) \n",
    "print(a.dot(b)) "
   ]
  },
  {
   "cell_type": "markdown",
   "id": "1e11cc3a",
   "metadata": {},
   "source": [
    "## Applying Functions on Arrays\n",
    "Numpy provides many functions to apply aggregate functions over arrays\n"
   ]
  },
  {
   "cell_type": "code",
   "execution_count": 19,
   "id": "0b76e01a",
   "metadata": {
    "ExecuteTime": {
     "end_time": "2022-09-18T06:50:55.663036Z",
     "start_time": "2022-09-18T06:50:55.661081Z"
    }
   },
   "outputs": [],
   "source": [
    "import numpy as np\n",
    "from numpy import random"
   ]
  },
  {
   "cell_type": "code",
   "execution_count": 20,
   "id": "c3e7f1d1",
   "metadata": {
    "ExecuteTime": {
     "end_time": "2022-09-18T06:50:55.667782Z",
     "start_time": "2022-09-18T06:50:55.664763Z"
    }
   },
   "outputs": [
    {
     "name": "stdout",
     "output_type": "stream",
     "text": [
      "972.9122598556826\n",
      "972.9122598556825\n"
     ]
    }
   ],
   "source": [
    "# ndarray support math calculate from math package.\n",
    "import math\n",
    "from math import sqrt\n",
    "a = np.random.normal(10, 2, 100) # pick 100 values from a normal dist with mean 2 and sd of 2\n",
    "print(np.sum(a)) # add them up\n",
    "print(math.fsum(a))"
   ]
  },
  {
   "cell_type": "code",
   "execution_count": 21,
   "id": "3fb2a518",
   "metadata": {
    "ExecuteTime": {
     "end_time": "2022-09-18T06:50:55.672237Z",
     "start_time": "2022-09-18T06:50:55.669237Z"
    }
   },
   "outputs": [
    {
     "data": {
      "text/plain": [
       "9.729122598556826"
      ]
     },
     "execution_count": 21,
     "metadata": {},
     "output_type": "execute_result"
    }
   ],
   "source": [
    "np.mean(a) # find thier mean hopefully close to 10"
   ]
  },
  {
   "cell_type": "code",
   "execution_count": 22,
   "id": "05f8b65a",
   "metadata": {
    "ExecuteTime": {
     "end_time": "2022-09-18T06:50:55.676401Z",
     "start_time": "2022-09-18T06:50:55.673814Z"
    }
   },
   "outputs": [
    {
     "name": "stdout",
     "output_type": "stream",
     "text": [
      "1.745505848270528\n",
      "1.745505848270528\n"
     ]
    }
   ],
   "source": [
    "print(sqrt(a.var())) ## similarly can find variance or std deviation\n",
    "print(a.std()) "
   ]
  },
  {
   "cell_type": "markdown",
   "id": "7ed14400",
   "metadata": {},
   "source": [
    "For multi-dimensional arrays we will have to specify the axis argument to let numpy know we are interested in running the calculation along a particular axis only"
   ]
  },
  {
   "cell_type": "code",
   "execution_count": 23,
   "id": "353a467f",
   "metadata": {
    "ExecuteTime": {
     "end_time": "2022-09-18T06:50:55.679896Z",
     "start_time": "2022-09-18T06:50:55.677944Z"
    }
   },
   "outputs": [],
   "source": [
    "a = a.reshape((10,10)) # reshape a into a 10 x 10 matrix"
   ]
  },
  {
   "cell_type": "markdown",
   "id": "7b9e5817",
   "metadata": {},
   "source": [
    "Now perform any of the above operations by specifying an axis"
   ]
  },
  {
   "cell_type": "code",
   "execution_count": 24,
   "id": "a88a4a62",
   "metadata": {
    "ExecuteTime": {
     "end_time": "2022-09-18T06:50:55.684688Z",
     "start_time": "2022-09-18T06:50:55.681537Z"
    }
   },
   "outputs": [
    {
     "data": {
      "text/plain": [
       "array([ 9.87971785,  8.78532663, 10.46787871, 10.34352326,  9.06138705,\n",
       "        9.75170329,  9.71158607,  9.40572926, 10.48316634,  9.40120752])"
      ]
     },
     "execution_count": 24,
     "metadata": {},
     "output_type": "execute_result"
    }
   ],
   "source": [
    "np.mean(a, axis = 0) # row wise means"
   ]
  },
  {
   "cell_type": "code",
   "execution_count": 25,
   "id": "1d5e8cf8",
   "metadata": {
    "ExecuteTime": {
     "end_time": "2022-09-18T06:50:55.695194Z",
     "start_time": "2022-09-18T06:50:55.686141Z"
    }
   },
   "outputs": [
    {
     "name": "stdout",
     "output_type": "stream",
     "text": [
      "[9.879717851831924, 8.78532663146602, 10.467878705523997, 10.34352326200277, 9.061387048993671, 9.751703293427987, 9.711586069673851, 9.405729261935587, 10.483166344282154, 9.401207516430283]\n"
     ]
    }
   ],
   "source": [
    "print([np.mean(a[:,i]) for i in range(a.shape[1])]) "
   ]
  },
  {
   "cell_type": "code",
   "execution_count": 26,
   "id": "ecd567bf",
   "metadata": {
    "ExecuteTime": {
     "end_time": "2022-09-18T06:50:55.700680Z",
     "start_time": "2022-09-18T06:50:55.697231Z"
    }
   },
   "outputs": [
    {
     "data": {
      "text/plain": [
       "array([5.19146841, 4.59574648, 3.63753587, 1.32201885, 1.12150729,\n",
       "       2.29505394, 0.79426702, 3.77441507, 3.82230554, 0.84952797])"
      ]
     },
     "execution_count": 26,
     "metadata": {},
     "output_type": "execute_result"
    }
   ],
   "source": [
    "np.var(a, axis = 0) # row wise variances"
   ]
  },
  {
   "cell_type": "code",
   "execution_count": 27,
   "id": "3974820e",
   "metadata": {
    "ExecuteTime": {
     "end_time": "2022-09-18T06:50:55.706039Z",
     "start_time": "2022-09-18T06:50:55.702229Z"
    }
   },
   "outputs": [
    {
     "data": {
      "text/plain": [
       "array([ 98.79717852,  87.85326631, 104.67878706, 103.43523262,\n",
       "        90.61387049,  97.51703293,  97.1158607 ,  94.05729262,\n",
       "       104.83166344,  94.01207516])"
      ]
     },
     "execution_count": 27,
     "metadata": {},
     "output_type": "execute_result"
    }
   ],
   "source": [
    "np.sum(a, axis = 0)"
   ]
  },
  {
   "cell_type": "markdown",
   "id": "97b7b0de",
   "metadata": {},
   "source": [
    "## Comparing Arrays\n",
    "Operations on arrays are performed element by element. This can be used to perform logical selections"
   ]
  },
  {
   "cell_type": "code",
   "execution_count": 28,
   "id": "d04ae282",
   "metadata": {
    "ExecuteTime": {
     "end_time": "2022-09-18T06:50:55.711601Z",
     "start_time": "2022-09-18T06:50:55.707587Z"
    }
   },
   "outputs": [
    {
     "data": {
      "text/plain": [
       "array([False, False, False])"
      ]
     },
     "execution_count": 28,
     "metadata": {},
     "output_type": "execute_result"
    }
   ],
   "source": [
    "a = np.array([1,2,3])\n",
    "b = np.array([4,5,6])\n",
    "a > b "
   ]
  },
  {
   "cell_type": "code",
   "execution_count": 29,
   "id": "fc52ccfc",
   "metadata": {
    "ExecuteTime": {
     "end_time": "2022-09-18T06:50:55.717957Z",
     "start_time": "2022-09-18T06:50:55.713877Z"
    }
   },
   "outputs": [
    {
     "name": "stdout",
     "output_type": "stream",
     "text": [
      "c is a and b concatenated : [1 2 3 4 5 6]\n",
      "Values in c that are greater than 2: [3 4 5 6]\n"
     ]
    }
   ],
   "source": [
    "c = np.concatenate((a,b)) # Ref tut1, you can have many way to concatenate, like use stack.\n",
    "print (\"c is a and b concatenated : \" + str(c))\n",
    "select = c > 2\n",
    "cp = c[select]\n",
    "print(\"Values in c that are greater than 2: \" + str(cp))"
   ]
  },
  {
   "cell_type": "markdown",
   "id": "f26c3906",
   "metadata": {},
   "source": [
    "## Applying Functions on Arrays\n",
    "Functions are applied element by element"
   ]
  },
  {
   "cell_type": "code",
   "execution_count": 30,
   "id": "d782810a",
   "metadata": {
    "ExecuteTime": {
     "end_time": "2022-09-18T06:50:55.723514Z",
     "start_time": "2022-09-18T06:50:55.719813Z"
    }
   },
   "outputs": [
    {
     "data": {
      "text/plain": [
       "array([1., 2., 3., 4.])"
      ]
     },
     "execution_count": 30,
     "metadata": {},
     "output_type": "execute_result"
    }
   ],
   "source": [
    "a = np.array([2,4,8, 16])\n",
    "np.log2(a) # apply the log function along a"
   ]
  },
  {
   "cell_type": "markdown",
   "id": "cdbe4254",
   "metadata": {},
   "source": [
    "## Arithmetic Operations Using Arrays\n",
    "Element-Wise\n",
    "\n",
    "\n",
    "Again, these are performed element by element - please note that this not matrix type operation."
   ]
  },
  {
   "cell_type": "code",
   "execution_count": 31,
   "id": "5b8bf3c1",
   "metadata": {
    "ExecuteTime": {
     "end_time": "2022-09-18T06:50:55.728145Z",
     "start_time": "2022-09-18T06:50:55.725137Z"
    }
   },
   "outputs": [],
   "source": [
    "a = np.array([[1,2],[3,4]], float)\n",
    "b = np.array([[5,6],[7,8]], float)"
   ]
  },
  {
   "cell_type": "code",
   "execution_count": 32,
   "id": "2c0981ac",
   "metadata": {
    "ExecuteTime": {
     "end_time": "2022-09-18T06:50:55.733692Z",
     "start_time": "2022-09-18T06:50:55.730059Z"
    }
   },
   "outputs": [
    {
     "data": {
      "text/plain": [
       "array([[ 6.,  8.],\n",
       "       [10., 12.]])"
      ]
     },
     "execution_count": 32,
     "metadata": {},
     "output_type": "execute_result"
    }
   ],
   "source": [
    "a + b"
   ]
  },
  {
   "cell_type": "code",
   "execution_count": 33,
   "id": "8ca45efc",
   "metadata": {
    "ExecuteTime": {
     "end_time": "2022-09-18T06:50:55.738652Z",
     "start_time": "2022-09-18T06:50:55.735332Z"
    }
   },
   "outputs": [
    {
     "data": {
      "text/plain": [
       "array([[ 5., 12.],\n",
       "       [21., 32.]])"
      ]
     },
     "execution_count": 33,
     "metadata": {},
     "output_type": "execute_result"
    }
   ],
   "source": [
    "a*b"
   ]
  },
  {
   "cell_type": "code",
   "execution_count": 34,
   "id": "bd2bb206",
   "metadata": {
    "ExecuteTime": {
     "end_time": "2022-09-18T06:50:55.743604Z",
     "start_time": "2022-09-18T06:50:55.740408Z"
    }
   },
   "outputs": [
    {
     "data": {
      "text/plain": [
       "array([[0.2       , 0.33333333],\n",
       "       [0.42857143, 0.5       ]])"
      ]
     },
     "execution_count": 34,
     "metadata": {},
     "output_type": "execute_result"
    }
   ],
   "source": [
    "a/b # watch out for divide by zero - need to use special techniques if arrays contain very small numbers"
   ]
  },
  {
   "cell_type": "markdown",
   "id": "ab41721c",
   "metadata": {},
   "source": [
    "## Numpy Broadcasting\n",
    "Broadcasting is an important concept in numpy to handle situations where we perform arithmetic opertions where the operands are not of the same size. For example adding a scalar to a matrix. In this case, numpy converts the smaller operand to the size of the bigger operand behind the scenes so that this addition is possible. This is a crucial concept to keep in mind. The rules are quite elaborate and can be found here: https://numpy.org/doc/stable/user/basics.broadcasting.html"
   ]
  },
  {
   "cell_type": "markdown",
   "id": "35b119f9",
   "metadata": {},
   "source": [
    "**General Broadcasting Rules**"
   ]
  },
  {
   "cell_type": "markdown",
   "id": "c9608b51",
   "metadata": {},
   "source": [
    "<p>When operating on two arrays, NumPy compares their shapes element-wise.\n",
    "It starts with the trailing (i.e. rightmost) dimensions and works its\n",
    "way left.  Two dimensions are compatible when</p>"
   ]
  },
  {
   "cell_type": "markdown",
   "id": "1c2a3e21",
   "metadata": {},
   "source": [
    "<ol class=\"arabic simple\">\n",
    "<li><p>they are equal, or</p></li>\n",
    "<li><p>one of them is 1</p></li>\n",
    "</ol>"
   ]
  },
  {
   "cell_type": "markdown",
   "id": "7eb6594e",
   "metadata": {},
   "source": [
    "<p>If these conditions are not met, a\n",
    "<code class=\"docutils literal notranslate\"><span class=\"pre\">ValueError:</span> <span class=\"pre\">operands</span> <span class=\"pre\">could</span> <span class=\"pre\">not</span> <span class=\"pre\">be</span> <span class=\"pre\">broadcast</span> <span class=\"pre\">together</span></code> exception is\n",
    "thrown, indicating that the arrays have incompatible shapes. The size of\n",
    "the resulting array is the size that is not 1 along each axis of the inputs.</p>"
   ]
  },
  {
   "cell_type": "markdown",
   "id": "36eec594",
   "metadata": {},
   "source": [
    "![A scalar is broadcast to match the shape of the 1-d array it is being multiplied to.](./broadcasting_1.png)\n",
    "\n",
    "> _Figure 1_#\n",
    "\n",
    "> _In the simplest example of broadcasting, the scalar_ `b` _is stretched to become an array of same shape as_ `a` _so the shapes are compatible for element-by-element multiplication._"
   ]
  },
  {
   "cell_type": "code",
   "execution_count": 35,
   "id": "7477b740",
   "metadata": {
    "ExecuteTime": {
     "end_time": "2022-09-18T06:50:55.749070Z",
     "start_time": "2022-09-18T06:50:55.745317Z"
    }
   },
   "outputs": [
    {
     "data": {
      "text/plain": [
       "array([2., 4., 6.])"
      ]
     },
     "execution_count": 35,
     "metadata": {},
     "output_type": "execute_result"
    }
   ],
   "source": [
    "a = np.array([1.0, 2.0, 3.0])\n",
    "b = 2.0\n",
    "a * b"
   ]
  },
  {
   "cell_type": "markdown",
   "id": "9c805314",
   "metadata": {},
   "source": [
    "![A 1-d array with shape (3) is stretched to match the 2-d array of shape (4, 3) it is being added to, and the result is a 2-d array of shape (4, 3).](./broadcasting_2.png)\n",
    "\n",
    "> _Figure 2_#\n",
    "\n",
    "> _A one dimensional array added to a two dimensional array results in broadcasting if number of 1-d array elements matches the number of 2-d array columns._"
   ]
  },
  {
   "cell_type": "markdown",
   "id": "52020ab4",
   "metadata": {},
   "source": [
    "![A huge cross over the 2-d array of shape (4, 3) and the 1-d array of shape (4) shows that they can not be broadcast due to mismatch of shapes and thus produce no result.](./broadcasting_3.png)\n",
    "\n",
    "> _Figure 3_#\n",
    "\n",
    "> _When the trailing dimensions of the arrays are unequal, broadcasting fails because it is impossible to align the values in the rows of the 1st array with the elements of the 2nd arrays for element-by-element addition._"
   ]
  },
  {
   "cell_type": "code",
   "execution_count": 36,
   "id": "8f2e3441",
   "metadata": {
    "ExecuteTime": {
     "end_time": "2022-09-18T06:50:55.754794Z",
     "start_time": "2022-09-18T06:50:55.750687Z"
    }
   },
   "outputs": [
    {
     "name": "stdout",
     "output_type": "stream",
     "text": [
      "[[ 1.  2.  3.]\n",
      " [11. 12. 13.]\n",
      " [21. 22. 23.]\n",
      " [31. 32. 33.]]\n"
     ]
    }
   ],
   "source": [
    "a = np.array([[ 0.0,  0.0,  0.0],\n",
    "              [10.0, 10.0, 10.0],\n",
    "              [20.0, 20.0, 20.0],\n",
    "              [30.0, 30.0, 30.0]])\n",
    "b = np.array([1.0, 2.0, 3.0])\n",
    "print(a + b)\n",
    "b = np.array([1.0, 2.0, 3.0, 4.0])\n",
    "# a + b\n",
    "# Traceback (most recent call last):\n",
    "# ValueError: operands could not be broadcast together with shapes (4,3) (4,)"
   ]
  },
  {
   "cell_type": "code",
   "execution_count": 37,
   "id": "0e705439",
   "metadata": {
    "ExecuteTime": {
     "end_time": "2022-09-18T06:50:55.760101Z",
     "start_time": "2022-09-18T06:50:55.756377Z"
    }
   },
   "outputs": [
    {
     "data": {
      "text/plain": [
       "array([[1, 2, 3],\n",
       "       [4, 5, 6],\n",
       "       [7, 8, 9]])"
      ]
     },
     "execution_count": 37,
     "metadata": {},
     "output_type": "execute_result"
    }
   ],
   "source": [
    "A = np.arange(1, 10, 1)\n",
    "A = A.reshape((3,3)) # create a 3 x 3 matrix\n",
    "A"
   ]
  },
  {
   "cell_type": "code",
   "execution_count": 38,
   "id": "7889be7c",
   "metadata": {
    "ExecuteTime": {
     "end_time": "2022-09-18T06:50:55.764961Z",
     "start_time": "2022-09-18T06:50:55.761821Z"
    }
   },
   "outputs": [
    {
     "data": {
      "text/plain": [
       "array([[ 6,  7,  8],\n",
       "       [ 9, 10, 11],\n",
       "       [12, 13, 14]])"
      ]
     },
     "execution_count": 38,
     "metadata": {},
     "output_type": "execute_result"
    }
   ],
   "source": [
    "A = A + 5\n",
    "A"
   ]
  },
  {
   "cell_type": "code",
   "execution_count": 39,
   "id": "4347ca80",
   "metadata": {
    "ExecuteTime": {
     "end_time": "2022-09-18T06:50:55.770101Z",
     "start_time": "2022-09-18T06:50:55.766582Z"
    }
   },
   "outputs": [
    {
     "data": {
      "text/plain": [
       "array([[1],\n",
       "       [2],\n",
       "       [3]])"
      ]
     },
     "execution_count": 39,
     "metadata": {},
     "output_type": "execute_result"
    }
   ],
   "source": [
    "b = np.array([1,2,3])\n",
    "b = b.reshape((3,1))\n",
    "b"
   ]
  },
  {
   "cell_type": "code",
   "execution_count": 40,
   "id": "bbe30202",
   "metadata": {
    "ExecuteTime": {
     "end_time": "2022-09-18T06:50:55.774914Z",
     "start_time": "2022-09-18T06:50:55.771837Z"
    },
    "scrolled": true
   },
   "outputs": [
    {
     "data": {
      "text/plain": [
       "array([[ 7,  8,  9],\n",
       "       [11, 12, 13],\n",
       "       [15, 16, 17]])"
      ]
     },
     "execution_count": 40,
     "metadata": {},
     "output_type": "execute_result"
    }
   ],
   "source": [
    "C = A + b\n",
    "C"
   ]
  },
  {
   "cell_type": "markdown",
   "id": "2f2479ee",
   "metadata": {},
   "source": [
    "# Least Square & Linear Regression and its Optimization"
   ]
  },
  {
   "cell_type": "markdown",
   "id": "52cddbb1",
   "metadata": {
    "ExecuteTime": {
     "end_time": "2022-09-18T03:05:18.111296Z",
     "start_time": "2022-09-18T03:05:18.105589Z"
    }
   },
   "source": [
    "<p>The following are a set of methods intended for regression in which\n",
    "the target value is expected to be a linear combination of the features.\n",
    "In mathematical notation, if <span class=\"math notranslate nohighlight\"><mjx-container class=\"MathJax CtxtMenu_Attached_0\" jax=\"CHTML\" tabindex=\"0\" ctxtmenu_counter=\"0\" style=\"font-size: 118.8%; position: relative;\"><mjx-math class=\"MJX-TEX\" aria-hidden=\"true\"><mjx-texatom texclass=\"ORD\"><mjx-mover><mjx-over style=\"padding-bottom: 0.105em; padding-left: 0.301em; margin-bottom: -0.531em;\"><mjx-mo class=\"mjx-n\" style=\"width: 0px; margin-left: -0.25em;\"><mjx-c class=\"mjx-c5E\"></mjx-c></mjx-mo></mjx-over><mjx-base><mjx-mi class=\"mjx-i\"><mjx-c class=\"mjx-c1D466 TEX-I\"></mjx-c></mjx-mi></mjx-base></mjx-mover></mjx-texatom></mjx-math><mjx-assistive-mml unselectable=\"on\" display=\"inline\"><math xmlns=\"http://www.w3.org/1998/Math/MathML\"><mrow data-mjx-texclass=\"ORD\"><mover><mi>y</mi><mo stretchy=\"false\">^</mo></mover></mrow></math></mjx-assistive-mml></mjx-container></span> is the predicted\n",
    "value.</p>"
   ]
  },
  {
   "cell_type": "markdown",
   "id": "3e51af5b",
   "metadata": {},
   "source": [
    "$\\hat{y}(w, x) = w_0 + w_1 x_1 + ... + w_p x_p$"
   ]
  },
  {
   "cell_type": "markdown",
   "id": "14a82f67",
   "metadata": {},
   "source": [
    "<p>Across the module, we designate the vector <span class=\"math notranslate nohighlight\"><mjx-container class=\"MathJax CtxtMenu_Attached_0\" jax=\"CHTML\" tabindex=\"0\" ctxtmenu_counter=\"2\" style=\"font-size: 118.8%; position: relative;\"><mjx-math class=\"MJX-TEX\" aria-hidden=\"true\"><mjx-mi class=\"mjx-i\"><mjx-c class=\"mjx-c1D464 TEX-I\"></mjx-c></mjx-mi><mjx-mo class=\"mjx-n\" space=\"4\"><mjx-c class=\"mjx-c3D\"></mjx-c></mjx-mo><mjx-mo class=\"mjx-n\" space=\"4\"><mjx-c class=\"mjx-c28\"></mjx-c></mjx-mo><mjx-msub><mjx-mi class=\"mjx-i\"><mjx-c class=\"mjx-c1D464 TEX-I\"></mjx-c></mjx-mi><mjx-script style=\"vertical-align: -0.15em;\"><mjx-mn class=\"mjx-n\" size=\"s\"><mjx-c class=\"mjx-c31\"></mjx-c></mjx-mn></mjx-script></mjx-msub><mjx-mo class=\"mjx-n\"><mjx-c class=\"mjx-c2C\"></mjx-c></mjx-mo><mjx-mo class=\"mjx-n\" space=\"2\"><mjx-c class=\"mjx-c2E\"></mjx-c></mjx-mo><mjx-mo class=\"mjx-n\" space=\"2\"><mjx-c class=\"mjx-c2E\"></mjx-c></mjx-mo><mjx-mo class=\"mjx-n\" space=\"2\"><mjx-c class=\"mjx-c2E\"></mjx-c></mjx-mo><mjx-mo class=\"mjx-n\" space=\"2\"><mjx-c class=\"mjx-c2C\"></mjx-c></mjx-mo><mjx-msub space=\"2\"><mjx-mi class=\"mjx-i\"><mjx-c class=\"mjx-c1D464 TEX-I\"></mjx-c></mjx-mi><mjx-script style=\"vertical-align: -0.15em;\"><mjx-mi class=\"mjx-i\" size=\"s\"><mjx-c class=\"mjx-c1D45D TEX-I\"></mjx-c></mjx-mi></mjx-script></mjx-msub><mjx-mo class=\"mjx-n\"><mjx-c class=\"mjx-c29\"></mjx-c></mjx-mo></mjx-math><mjx-assistive-mml unselectable=\"on\" display=\"inline\"><math xmlns=\"http://www.w3.org/1998/Math/MathML\"><mi>w</mi><mo>=</mo><mo stretchy=\"false\">(</mo><msub><mi>w</mi><mn>1</mn></msub><mo>,</mo><mo>.</mo><mo>.</mo><mo>.</mo><mo>,</mo><msub><mi>w</mi><mi>p</mi></msub><mo stretchy=\"false\">)</mo></math></mjx-assistive-mml></mjx-container></span> as <code class=\"docutils literal notranslate\"><span class=\"pre\">coef_</span></code> and <span class=\"math notranslate nohighlight\"><mjx-container class=\"MathJax CtxtMenu_Attached_0\" jax=\"CHTML\" tabindex=\"0\" ctxtmenu_counter=\"3\" style=\"font-size: 118.8%; position: relative;\"><mjx-math class=\"MJX-TEX\" aria-hidden=\"true\"><mjx-msub><mjx-mi class=\"mjx-i\"><mjx-c class=\"mjx-c1D464 TEX-I\"></mjx-c></mjx-mi><mjx-script style=\"vertical-align: -0.15em;\"><mjx-mn class=\"mjx-n\" size=\"s\"><mjx-c class=\"mjx-c30\"></mjx-c></mjx-mn></mjx-script></mjx-msub></mjx-math><mjx-assistive-mml unselectable=\"on\" display=\"inline\"><math xmlns=\"http://www.w3.org/1998/Math/MathML\"><msub><mi>w</mi><mn>0</mn></msub></math></mjx-assistive-mml></mjx-container></span> as <code class=\"docutils literal notranslate\"><span class=\"pre\">intercept_</span></code>.</p>"
   ]
  },
  {
   "cell_type": "markdown",
   "id": "5b3be9fa",
   "metadata": {},
   "source": [
    "## Least Square"
   ]
  },
  {
   "cell_type": "markdown",
   "id": "b5c3d422",
   "metadata": {},
   "source": [
    "Recap the tutorial 1, we have learn the basic Sklearn API and linear Regression"
   ]
  },
  {
   "cell_type": "markdown",
   "id": "8d45ddb8",
   "metadata": {},
   "source": [
    "> `LinearRegression` fits a linear model with coefficients w=(w1,...,wp) to minimize the residual sum of squares between the observed targets in the dataset, and the targets predicted by the linear approximation. Mathematically it solves a problem of the form:"
   ]
  },
  {
   "cell_type": "markdown",
   "id": "5ee6acbe",
   "metadata": {},
   "source": [
    "$\\min_{w} || X w - y||_2^2$"
   ]
  },
  {
   "cell_type": "markdown",
   "id": "2c717283",
   "metadata": {},
   "source": [
    "## Solve Linear Regression by Sklearn"
   ]
  },
  {
   "cell_type": "code",
   "execution_count": 41,
   "id": "853a3f19",
   "metadata": {
    "ExecuteTime": {
     "end_time": "2022-09-18T06:50:56.696312Z",
     "start_time": "2022-09-18T06:50:55.776718Z"
    }
   },
   "outputs": [
    {
     "name": "stdout",
     "output_type": "stream",
     "text": [
      "LinearRegression()\n",
      "[[2.04241556]] [-1.38274542]\n"
     ]
    },
    {
     "data": {
      "image/png": "[encoded data removed]",
      "text/plain": [
       "<Figure size 576x396 with 1 Axes>"
      ]
     },
     "metadata": {},
     "output_type": "display_data"
    }
   ],
   "source": [
    "import matplotlib.pyplot as plt\n",
    "plt.style.use('seaborn')\n",
    "\n",
    "rng = np.random.RandomState(3020) # get a random seeds generator\n",
    "x = 10 * rng.rand(50)\n",
    "X = x[:, np.newaxis] # Recap the numpy usage. We can also use X = x.reshape(-1,1)\n",
    "y = 2 * x - 1 + rng.randn(50)\n",
    "y.shape = (-1,1)\n",
    "plt.scatter(x, y);\n",
    "\n",
    "from sklearn.linear_model import LinearRegression\n",
    "model = LinearRegression(fit_intercept=True)\n",
    "print(model) # LinearRegression(copy_X=True, fit_intercept=True, n_jobs=1, normalize=False)\n",
    "\n",
    "model.fit(X, y) # LinearRegression(copy_X=True, fit_intercept=True, n_jobs=1, normalize=False)\n",
    "print(model.coef_,model.intercept_)"
   ]
  },
  {
   "cell_type": "markdown",
   "id": "7d693eba",
   "metadata": {},
   "source": [
    "## Optimization For Least Square Problem (Scipy, Close form Sol)"
   ]
  },
  {
   "cell_type": "markdown",
   "id": "2dcdc114",
   "metadata": {},
   "source": [
    "### Toy demo for one varible optimization"
   ]
  },
  {
   "cell_type": "code",
   "execution_count": 42,
   "id": "f9f9bd18",
   "metadata": {
    "ExecuteTime": {
     "end_time": "2022-09-18T06:50:56.700683Z",
     "start_time": "2022-09-18T06:50:56.698180Z"
    }
   },
   "outputs": [],
   "source": [
    "x1 = np.asmatrix(np.linspace(0, 1, 20))\n",
    "w = 10\n",
    "y = w*x1"
   ]
  },
  {
   "cell_type": "code",
   "execution_count": 43,
   "id": "1dc71b98",
   "metadata": {
    "ExecuteTime": {
     "end_time": "2022-09-18T06:50:56.704682Z",
     "start_time": "2022-09-18T06:50:56.702670Z"
    }
   },
   "outputs": [],
   "source": [
    "def loss(wp):\n",
    "    res = y - wp*x1\n",
    "    return np.sum(np.power(res, 2))"
   ]
  },
  {
   "cell_type": "code",
   "execution_count": 44,
   "id": "d7f2fe4c",
   "metadata": {
    "ExecuteTime": {
     "end_time": "2022-09-18T06:50:56.722020Z",
     "start_time": "2022-09-18T06:50:56.705949Z"
    }
   },
   "outputs": [
    {
     "name": "stdout",
     "output_type": "stream",
     "text": [
      "     fun: 3.0009911130632097e-13\n",
      "     jac: array([2.96783024e-06])\n",
      " message: 'Optimization terminated successfully.'\n",
      "    nfev: 20\n",
      "     nit: 2\n",
      "    njev: 10\n",
      "  status: 0\n",
      " success: True\n",
      "       x: array([10.00000021])\n",
      "     fun: 2.5454482651074573e-10\n",
      "     jac: array([0.00060075])\n",
      " message: 'Warning: Desired error not necessarily achieved due to precision loss.'\n",
      "    nfev: 26\n",
      "    nhev: 0\n",
      "     nit: 1\n",
      "    njev: 16\n",
      "  status: 2\n",
      " success: False\n",
      "       x: array([9.9999939])\n"
     ]
    }
   ],
   "source": [
    "from scipy import optimize\n",
    "p0 = 0\n",
    "opt_cg = optimize.minimize(loss, p0, method='CG')\n",
    "print(opt_cg) \n",
    "\n",
    "fprime = lambda x: optimize.approx_fprime(x, loss, 0.0001)\n",
    "opt_NtCG = optimize.minimize(loss, p0,  method='Newton-CG',jac = fprime)\n",
    "print(opt_NtCG)"
   ]
  },
  {
   "cell_type": "markdown",
   "id": "7932d9f8",
   "metadata": {},
   "source": [
    "Ref Scipy official document for more methods. "
   ]
  },
  {
   "cell_type": "markdown",
   "id": "3d4cbf20",
   "metadata": {},
   "source": [
    "<dd><p>Type of solver.  Should be one of</p>\n",
    "<blockquote>\n",
    "<div><ul class=\"simple\">\n",
    "<li><p>‘Nelder-Mead’ <a class=\"reference internal\" href=\"https://docs.scipy.org/doc/scipy/reference/optimize.minimize-neldermead.html#optimize-minimize-neldermead\"><span class=\"std std-ref\">(see here)</span></a></p></li>\n",
    "<li><p>‘Powell’      <a class=\"reference internal\" href=\"https://docs.scipy.org/doc/scipy/reference/optimize.minimize-powell.html#optimize-minimize-powell\"><span class=\"std std-ref\">(see here)</span></a></p></li>\n",
    "<li><p>‘CG’          <a class=\"reference internal\" href=\"https://docs.scipy.org/doc/scipy/reference/optimize.minimize-cg.html#optimize-minimize-cg\"><span class=\"std std-ref\">(see here)</span></a></p></li>\n",
    "<li><p>‘BFGS’        <a class=\"reference internal\" href=\"https://docs.scipy.org/doc/scipy/reference/optimize.minimize-bfgs.html#optimize-minimize-bfgs\"><span class=\"std std-ref\">(see here)</span></a></p></li>\n",
    "<li><p>‘Newton-CG’   <a class=\"reference internal\" href=\"https://docs.scipy.org/doc/scipy/reference/optimize.minimize-newtoncg.html#optimize-minimize-newtoncg\"><span class=\"std std-ref\">(see here)</span></a></p></li>\n",
    "<li><p>‘L-BFGS-B’    <a class=\"reference internal\" href=\"https://docs.scipy.org/doc/scipy/reference/optimize.minimize-lbfgsb.html#optimize-minimize-lbfgsb\"><span class=\"std std-ref\">(see here)</span></a></p></li>\n",
    "<li><p>‘TNC’         <a class=\"reference internal\" href=\"https://docs.scipy.org/doc/scipy/reference/optimize.minimize-tnc.html#optimize-minimize-tnc\"><span class=\"std std-ref\">(see here)</span></a></p></li>\n",
    "<li><p>‘COBYLA’      <a class=\"reference internal\" href=\"https://docs.scipy.org/doc/scipy/reference/optimize.minimize-cobyla.html#optimize-minimize-cobyla\"><span class=\"std std-ref\">(see here)</span></a></p></li>\n",
    "<li><p>‘SLSQP’       <a class=\"reference internal\" href=\"https://docs.scipy.org/doc/scipy/reference/optimize.minimize-slsqp.html#optimize-minimize-slsqp\"><span class=\"std std-ref\">(see here)</span></a></p></li>\n",
    "<li><p>‘trust-constr’<a class=\"reference internal\" href=\"https://docs.scipy.org/doc/scipy/reference/optimize.minimize-trustconstr.html#optimize-minimize-trustconstr\"><span class=\"std std-ref\">(see here)</span></a></p></li>\n",
    "<li><p>‘dogleg’      <a class=\"reference internal\" href=\"https://docs.scipy.org/doc/scipy/reference/optimize.minimize-dogleg.html#optimize-minimize-dogleg\"><span class=\"std std-ref\">(see here)</span></a></p></li>\n",
    "<li><p>‘trust-ncg’   <a class=\"reference internal\" href=\"https://docs.scipy.org/doc/scipy/reference/optimize.minimize-trustncg.html#optimize-minimize-trustncg\"><span class=\"std std-ref\">(see here)</span></a></p></li>\n",
    "<li><p>‘trust-exact’ <a class=\"reference internal\" href=\"https://docs.scipy.org/doc/scipy/reference/optimize.minimize-trustexact.html#optimize-minimize-trustexact\"><span class=\"std std-ref\">(see here)</span></a></p></li>\n",
    "<li><p>‘trust-krylov’ <a class=\"reference internal\" href=\"https://docs.scipy.org/doc/scipy/reference/optimize.minimize-trustkrylov.html#optimize-minimize-trustkrylov\"><span class=\"std std-ref\">(see here)</span></a></p></li>\n",
    "<li><p>custom - a callable object (added in version 0.14.0),\n",
    "see below for description.</p></li>\n",
    "</ul>\n",
    "</div></blockquote>\n",
    "<p>If not given, chosen to be one of <code class=\"docutils literal notranslate\"><span class=\"pre\">BFGS</span></code>, <code class=\"docutils literal notranslate\"><span class=\"pre\">L-BFGS-B</span></code>, <code class=\"docutils literal notranslate\"><span class=\"pre\">SLSQP</span></code>,\n",
    "depending on whether or not the problem has constraints or bounds.</p>\n",
    "</dd>"
   ]
  },
  {
   "cell_type": "markdown",
   "id": "86b4ed0a",
   "metadata": {},
   "source": [
    "### Back to Linear Regression example with intercept"
   ]
  },
  {
   "cell_type": "code",
   "execution_count": 45,
   "id": "e3a1333e",
   "metadata": {
    "ExecuteTime": {
     "end_time": "2022-09-18T06:50:56.732872Z",
     "start_time": "2022-09-18T06:50:56.724350Z"
    }
   },
   "outputs": [
    {
     "name": "stdout",
     "output_type": "stream",
     "text": [
      "     fun: 41.32325782822299\n",
      "     jac: array([6.67572021e-06, 7.15255737e-06])\n",
      " message: 'Optimization terminated successfully.'\n",
      "    nfev: 15\n",
      "     nit: 2\n",
      "    njev: 5\n",
      "  status: 0\n",
      " success: True\n",
      "       x: array([ 2.04241551, -1.38274514])\n"
     ]
    }
   ],
   "source": [
    "rng = np.random.RandomState(3020) # get a random seeds generator\n",
    "x = 10 * rng.rand(50)\n",
    "X = x[:, np.newaxis] # Recap the numpy usage. We can also use X = x.reshape(-1,1)\n",
    "y = 2 * x - 1 + rng.randn(50)\n",
    "y.shape = (-1,1)\n",
    "\n",
    "def loss(p):\n",
    "    w = p[0]\n",
    "    b = p[1]\n",
    "    res = y - w*X - b\n",
    "    return np.sum(np.power(res, 2))\n",
    "\n",
    "w_0,b_0 = 0.0,0.0\n",
    "opt_cg = optimize.minimize(loss,[w_0,b_0], method='CG')\n",
    "print(opt_cg) "
   ]
  },
  {
   "cell_type": "code",
   "execution_count": 46,
   "id": "76c0f4f0",
   "metadata": {
    "ExecuteTime": {
     "end_time": "2022-09-18T06:50:56.737224Z",
     "start_time": "2022-09-18T06:50:56.734723Z"
    }
   },
   "outputs": [
    {
     "name": "stdout",
     "output_type": "stream",
     "text": [
      "[[2.04241556]] [-1.38274542]\n"
     ]
    }
   ],
   "source": [
    "# compare sklearn \n",
    "print(model.coef_,model.intercept_)"
   ]
  },
  {
   "cell_type": "markdown",
   "id": "f79917ec",
   "metadata": {},
   "source": [
    "### Close form Solution "
   ]
  },
  {
   "cell_type": "markdown",
   "id": "1532bbfe",
   "metadata": {},
   "source": [
    "\n",
    "<p>You have a design matrix\n",
    "<span class=\"MathJax_Preview\" style=\"color: inherit;\"></span><div class=\"MathJax_Display\" style=\"text-align: center;\"><span class=\"MathJax\" id=\"MathJax-Element-12-Frame\" tabindex=\"0\" style=\"text-align: center; position: relative;\" data-mathml=\"<math xmlns=&quot;http://www.w3.org/1998/Math/MathML&quot; display=&quot;block&quot;><mi>X</mi><mo>=</mo><mrow><mo>[</mo><mtable rowspacing=&quot;4pt&quot; columnspacing=&quot;1em&quot;><mtr><mtd><mn>1</mn></mtd><mtd><msub><mi>x</mi><mrow class=&quot;MJX-TeXAtom-ORD&quot;><mn>11</mn></mrow></msub></mtd><mtd><mo>&amp;#x22EF;</mo></mtd><mtd><msub><mi>x</mi><mrow class=&quot;MJX-TeXAtom-ORD&quot;><mn>1</mn><mi>n</mi></mrow></msub></mtd></mtr><mtr><mtd><mn>1</mn></mtd><mtd><msub><mi>x</mi><mrow class=&quot;MJX-TeXAtom-ORD&quot;><mn>21</mn></mrow></msub></mtd><mtd><mo>&amp;#x22EF;</mo></mtd><mtd><msub><mi>x</mi><mrow class=&quot;MJX-TeXAtom-ORD&quot;><mn>2</mn><mi>n</mi></mrow></msub></mtd></mtr><mtr><mtd><mo>&amp;#x22EE;</mo></mtd><mtd><mo>&amp;#x22EE;</mo></mtd><mtd /><mtd><mo>&amp;#x22EE;</mo></mtd></mtr><mtr><mtd><mn>1</mn></mtd><mtd><msub><mi>x</mi><mrow class=&quot;MJX-TeXAtom-ORD&quot;><mi>m</mi><mn>1</mn></mrow></msub></mtd><mtd><mo>&amp;#x22EF;</mo></mtd><mtd><msub><mi>x</mi><mrow class=&quot;MJX-TeXAtom-ORD&quot;><mi>m</mi><mi>n</mi></mrow></msub></mtd></mtr></mtable><mo>]</mo></mrow></math>\" role=\"presentation\"><nobr aria-hidden=\"true\"><span class=\"math\" id=\"MathJax-Span-136\" style=\"width: 12.315em; display: inline-block;\"><span style=\"display: inline-block; position: relative; width: 11.054em; height: 0px; font-size: 111%;\"><span style=\"position: absolute; clip: rect(2.225em, 1010.99em, 8.111em, -999.997em); top: -5.402em; left: 0em;\"><span class=\"mrow\" id=\"MathJax-Span-137\"><span class=\"mi\" id=\"MathJax-Span-138\" style=\"font-family: STIXGeneral-Italic;\">𝑋<span style=\"display: inline-block; overflow: hidden; height: 1px; width: 0.003em;\"></span></span><span class=\"mo\" id=\"MathJax-Span-139\" style=\"font-family: STIXGeneral-Regular; padding-left: 0.303em;\">=</span><span class=\"mrow\" id=\"MathJax-Span-140\" style=\"padding-left: 0.303em;\"><span class=\"mo\" id=\"MathJax-Span-141\" style=\"vertical-align: 3.006em;\"><span style=\"display: inline-block; position: relative; width: 0.423em; height: 0px;\"><span style=\"position: absolute; font-family: STIXSizeOneSym; top: -3.36em; left: 0em;\">⎡<span style=\"display: inline-block; width: 0px; height: 4.027em;\"></span></span><span style=\"position: absolute; font-family: STIXSizeOneSym; top: 1.204em; left: 0em;\">⎣<span style=\"display: inline-block; width: 0px; height: 4.027em;\"></span></span><span style=\"font-family: STIXSizeOneSym; position: absolute; top: -2.399em; left: 0em;\">⎢<span style=\"display: inline-block; width: 0px; height: 4.027em;\"></span></span><span style=\"font-family: STIXSizeOneSym; position: absolute; top: -1.498em; left: 0em;\">⎢<span style=\"display: inline-block; width: 0px; height: 4.027em;\"></span></span><span style=\"font-family: STIXSizeOneSym; position: absolute; top: -0.598em; left: 0em;\">⎢<span style=\"display: inline-block; width: 0px; height: 4.027em;\"></span></span><span style=\"font-family: STIXSizeOneSym; position: absolute; top: 0.303em; left: 0em;\">⎢<span style=\"display: inline-block; width: 0px; height: 4.027em;\"></span></span></span></span><span class=\"mtable\" id=\"MathJax-Span-142\"><span style=\"display: inline-block; position: relative; width: 7.751em; height: 0px; margin-right: 0.183em; margin-left: 0.183em;\"><span style=\"position: absolute; clip: rect(3.186em, 1000.42em, 8.772em, -999.997em); top: -6.243em; left: 0em;\"><span style=\"display: inline-block; position: relative; width: 0.544em; height: 0px;\"><span style=\"position: absolute; clip: rect(3.186em, 1000.42em, 4.207em, -999.997em); top: -6.243em; left: 50%; margin-left: -0.237em;\"><span class=\"mtd\" id=\"MathJax-Span-143\"><span class=\"mrow\" id=\"MathJax-Span-144\"><span class=\"mn\" id=\"MathJax-Span-145\" style=\"font-family: STIXGeneral-Regular;\">1</span></span></span><span style=\"display: inline-block; width: 0px; height: 4.027em;\"></span></span><span style=\"position: absolute; clip: rect(3.186em, 1000.42em, 4.207em, -999.997em); top: -4.802em; left: 50%; margin-left: -0.237em;\"><span class=\"mtd\" id=\"MathJax-Span-164\"><span class=\"mrow\" id=\"MathJax-Span-165\"><span class=\"mn\" id=\"MathJax-Span-166\" style=\"font-family: STIXGeneral-Regular;\">1</span></span></span><span style=\"display: inline-block; width: 0px; height: 4.027em;\"></span></span><span style=\"position: absolute; clip: rect(2.826em, 1000.3em, 4.327em, -999.997em); top: -3.12em; left: 50%; margin-left: -0.237em;\"><span class=\"mtd\" id=\"MathJax-Span-185\"><span class=\"mrow\" id=\"MathJax-Span-186\"><span class=\"mo\" id=\"MathJax-Span-187\" style=\"font-family: STIXGeneral-Regular;\">⋮</span></span></span><span style=\"display: inline-block; width: 0px; height: 4.027em;\"></span></span><span style=\"position: absolute; clip: rect(3.186em, 1000.42em, 4.207em, -999.997em); top: -1.679em; left: 50%; margin-left: -0.237em;\"><span class=\"mtd\" id=\"MathJax-Span-196\"><span class=\"mrow\" id=\"MathJax-Span-197\"><span class=\"mn\" id=\"MathJax-Span-198\" style=\"font-family: STIXGeneral-Regular;\">1</span></span></span><span style=\"display: inline-block; width: 0px; height: 4.027em;\"></span></span></span><span style=\"display: inline-block; width: 0px; height: 6.249em;\"></span></span><span style=\"position: absolute; clip: rect(3.306em, 1001.5em, 8.772em, -999.997em); top: -6.123em; left: 1.625em;\"><span style=\"display: inline-block; position: relative; width: 1.505em; height: 0px;\"><span style=\"position: absolute; clip: rect(3.426em, 1001.32em, 4.327em, -999.997em); top: -6.243em; left: 50%; margin-left: -0.658em;\"><span class=\"mtd\" id=\"MathJax-Span-146\"><span class=\"mrow\" id=\"MathJax-Span-147\"><span class=\"msubsup\" id=\"MathJax-Span-148\"><span style=\"display: inline-block; position: relative; width: 1.324em; height: 0px;\"><span style=\"position: absolute; clip: rect(3.426em, 1000.48em, 4.207em, -999.997em); top: -4.021em; left: 0em;\"><span class=\"mi\" id=\"MathJax-Span-149\" style=\"font-family: STIXGeneral-Italic;\">𝑥</span><span style=\"display: inline-block; width: 0px; height: 4.027em;\"></span></span><span style=\"position: absolute; top: -3.901em; left: 0.544em;\"><span class=\"texatom\" id=\"MathJax-Span-150\"><span class=\"mrow\" id=\"MathJax-Span-151\"><span class=\"mn\" id=\"MathJax-Span-152\" style=\"font-size: 70.7%; font-family: STIXGeneral-Regular;\">11</span></span></span><span style=\"display: inline-block; width: 0px; height: 4.027em;\"></span></span></span></span></span></span><span style=\"display: inline-block; width: 0px; height: 4.027em;\"></span></span><span style=\"position: absolute; clip: rect(3.426em, 1001.32em, 4.327em, -999.997em); top: -4.802em; left: 50%; margin-left: -0.658em;\"><span class=\"mtd\" id=\"MathJax-Span-167\"><span class=\"mrow\" id=\"MathJax-Span-168\"><span class=\"msubsup\" id=\"MathJax-Span-169\"><span style=\"display: inline-block; position: relative; width: 1.324em; height: 0px;\"><span style=\"position: absolute; clip: rect(3.426em, 1000.48em, 4.207em, -999.997em); top: -4.021em; left: 0em;\"><span class=\"mi\" id=\"MathJax-Span-170\" style=\"font-family: STIXGeneral-Italic;\">𝑥</span><span style=\"display: inline-block; width: 0px; height: 4.027em;\"></span></span><span style=\"position: absolute; top: -3.901em; left: 0.544em;\"><span class=\"texatom\" id=\"MathJax-Span-171\"><span class=\"mrow\" id=\"MathJax-Span-172\"><span class=\"mn\" id=\"MathJax-Span-173\" style=\"font-size: 70.7%; font-family: STIXGeneral-Regular;\">21</span></span></span><span style=\"display: inline-block; width: 0px; height: 4.027em;\"></span></span></span></span></span></span><span style=\"display: inline-block; width: 0px; height: 4.027em;\"></span></span><span style=\"position: absolute; clip: rect(2.826em, 1000.3em, 4.327em, -999.997em); top: -3.12em; left: 50%; margin-left: -0.237em;\"><span class=\"mtd\" id=\"MathJax-Span-188\"><span class=\"mrow\" id=\"MathJax-Span-189\"><span class=\"mo\" id=\"MathJax-Span-190\" style=\"font-family: STIXGeneral-Regular;\">⋮</span></span></span><span style=\"display: inline-block; width: 0px; height: 4.027em;\"></span></span><span style=\"position: absolute; clip: rect(3.426em, 1001.5em, 4.387em, -999.997em); top: -1.679em; left: 50%; margin-left: -0.718em;\"><span class=\"mtd\" id=\"MathJax-Span-199\"><span class=\"mrow\" id=\"MathJax-Span-200\"><span class=\"msubsup\" id=\"MathJax-Span-201\"><span style=\"display: inline-block; position: relative; width: 1.505em; height: 0px;\"><span style=\"position: absolute; clip: rect(3.426em, 1000.48em, 4.207em, -999.997em); top: -4.021em; left: 0em;\"><span class=\"mi\" id=\"MathJax-Span-202\" style=\"font-family: STIXGeneral-Italic;\">𝑥</span><span style=\"display: inline-block; width: 0px; height: 4.027em;\"></span></span><span style=\"position: absolute; top: -3.901em; left: 0.544em;\"><span class=\"texatom\" id=\"MathJax-Span-203\"><span class=\"mrow\" id=\"MathJax-Span-204\"><span class=\"mi\" id=\"MathJax-Span-205\" style=\"font-size: 70.7%; font-family: STIXGeneral-Italic;\">𝑚</span><span class=\"mn\" id=\"MathJax-Span-206\" style=\"font-size: 70.7%; font-family: STIXGeneral-Regular;\">1</span></span></span><span style=\"display: inline-block; width: 0px; height: 4.027em;\"></span></span></span></span></span></span><span style=\"display: inline-block; width: 0px; height: 4.027em;\"></span></span></span><span style=\"display: inline-block; width: 0px; height: 6.129em;\"></span></span><span style=\"position: absolute; clip: rect(3.006em, 1000.84em, 8.051em, -999.997em); top: -5.703em; left: 4.267em;\"><span style=\"display: inline-block; position: relative; width: 0.904em; height: 0px;\"><span style=\"position: absolute; clip: rect(3.547em, 1000.84em, 4.027em, -999.997em); top: -6.243em; left: 50%; margin-left: -0.477em;\"><span class=\"mtd\" id=\"MathJax-Span-153\"><span class=\"mrow\" id=\"MathJax-Span-154\"><span class=\"mo\" id=\"MathJax-Span-155\" style=\"font-family: STIXGeneral-Regular;\">⋯</span></span></span><span style=\"display: inline-block; width: 0px; height: 4.027em;\"></span></span><span style=\"position: absolute; clip: rect(3.547em, 1000.84em, 4.027em, -999.997em); top: -4.802em; left: 50%; margin-left: -0.477em;\"><span class=\"mtd\" id=\"MathJax-Span-174\"><span class=\"mrow\" id=\"MathJax-Span-175\"><span class=\"mo\" id=\"MathJax-Span-176\" style=\"font-family: STIXGeneral-Regular;\">⋯</span></span></span><span style=\"display: inline-block; width: 0px; height: 4.027em;\"></span></span><span style=\"position: absolute; clip: rect(3.847em, 1000em, 4.207em, -999.997em); top: -3.12em; left: 50%; margin-left: 0em;\"><span class=\"mtd\" id=\"MathJax-Span-191\"><span class=\"mrow\" id=\"MathJax-Span-192\"></span></span><span style=\"display: inline-block; width: 0px; height: 4.027em;\"></span></span><span style=\"position: absolute; clip: rect(3.547em, 1000.84em, 4.027em, -999.997em); top: -1.679em; left: 50%; margin-left: -0.477em;\"><span class=\"mtd\" id=\"MathJax-Span-207\"><span class=\"mrow\" id=\"MathJax-Span-208\"><span class=\"mo\" id=\"MathJax-Span-209\" style=\"font-family: STIXGeneral-Regular;\">⋯</span></span></span><span style=\"display: inline-block; width: 0px; height: 4.027em;\"></span></span></span><span style=\"display: inline-block; width: 0px; height: 5.709em;\"></span></span><span style=\"position: absolute; clip: rect(3.306em, 1001.5em, 8.772em, -999.997em); top: -6.123em; left: 6.309em;\"><span style=\"display: inline-block; position: relative; width: 1.505em; height: 0px;\"><span style=\"position: absolute; clip: rect(3.426em, 1001.32em, 4.387em, -999.997em); top: -6.243em; left: 50%; margin-left: -0.658em;\"><span class=\"mtd\" id=\"MathJax-Span-156\"><span class=\"mrow\" id=\"MathJax-Span-157\"><span class=\"msubsup\" id=\"MathJax-Span-158\"><span style=\"display: inline-block; position: relative; width: 1.324em; height: 0px;\"><span style=\"position: absolute; clip: rect(3.426em, 1000.48em, 4.207em, -999.997em); top: -4.021em; left: 0em;\"><span class=\"mi\" id=\"MathJax-Span-159\" style=\"font-family: STIXGeneral-Italic;\">𝑥</span><span style=\"display: inline-block; width: 0px; height: 4.027em;\"></span></span><span style=\"position: absolute; top: -3.901em; left: 0.544em;\"><span class=\"texatom\" id=\"MathJax-Span-160\"><span class=\"mrow\" id=\"MathJax-Span-161\"><span class=\"mn\" id=\"MathJax-Span-162\" style=\"font-size: 70.7%; font-family: STIXGeneral-Regular;\">1</span><span class=\"mi\" id=\"MathJax-Span-163\" style=\"font-size: 70.7%; font-family: STIXGeneral-Italic;\">𝑛</span></span></span><span style=\"display: inline-block; width: 0px; height: 4.027em;\"></span></span></span></span></span></span><span style=\"display: inline-block; width: 0px; height: 4.027em;\"></span></span><span style=\"position: absolute; clip: rect(3.426em, 1001.32em, 4.387em, -999.997em); top: -4.802em; left: 50%; margin-left: -0.658em;\"><span class=\"mtd\" id=\"MathJax-Span-177\"><span class=\"mrow\" id=\"MathJax-Span-178\"><span class=\"msubsup\" id=\"MathJax-Span-179\"><span style=\"display: inline-block; position: relative; width: 1.324em; height: 0px;\"><span style=\"position: absolute; clip: rect(3.426em, 1000.48em, 4.207em, -999.997em); top: -4.021em; left: 0em;\"><span class=\"mi\" id=\"MathJax-Span-180\" style=\"font-family: STIXGeneral-Italic;\">𝑥</span><span style=\"display: inline-block; width: 0px; height: 4.027em;\"></span></span><span style=\"position: absolute; top: -3.901em; left: 0.544em;\"><span class=\"texatom\" id=\"MathJax-Span-181\"><span class=\"mrow\" id=\"MathJax-Span-182\"><span class=\"mn\" id=\"MathJax-Span-183\" style=\"font-size: 70.7%; font-family: STIXGeneral-Regular;\">2</span><span class=\"mi\" id=\"MathJax-Span-184\" style=\"font-size: 70.7%; font-family: STIXGeneral-Italic;\">𝑛</span></span></span><span style=\"display: inline-block; width: 0px; height: 4.027em;\"></span></span></span></span></span></span><span style=\"display: inline-block; width: 0px; height: 4.027em;\"></span></span><span style=\"position: absolute; clip: rect(2.826em, 1000.3em, 4.327em, -999.997em); top: -3.12em; left: 50%; margin-left: -0.237em;\"><span class=\"mtd\" id=\"MathJax-Span-193\"><span class=\"mrow\" id=\"MathJax-Span-194\"><span class=\"mo\" id=\"MathJax-Span-195\" style=\"font-family: STIXGeneral-Regular;\">⋮</span></span></span><span style=\"display: inline-block; width: 0px; height: 4.027em;\"></span></span><span style=\"position: absolute; clip: rect(3.426em, 1001.5em, 4.387em, -999.997em); top: -1.679em; left: 50%; margin-left: -0.718em;\"><span class=\"mtd\" id=\"MathJax-Span-210\"><span class=\"mrow\" id=\"MathJax-Span-211\"><span class=\"msubsup\" id=\"MathJax-Span-212\"><span style=\"display: inline-block; position: relative; width: 1.505em; height: 0px;\"><span style=\"position: absolute; clip: rect(3.426em, 1000.48em, 4.207em, -999.997em); top: -4.021em; left: 0em;\"><span class=\"mi\" id=\"MathJax-Span-213\" style=\"font-family: STIXGeneral-Italic;\">𝑥</span><span style=\"display: inline-block; width: 0px; height: 4.027em;\"></span></span><span style=\"position: absolute; top: -3.901em; left: 0.544em;\"><span class=\"texatom\" id=\"MathJax-Span-214\"><span class=\"mrow\" id=\"MathJax-Span-215\"><span class=\"mi\" id=\"MathJax-Span-216\" style=\"font-size: 70.7%; font-family: STIXGeneral-Italic;\">𝑚</span><span class=\"mi\" id=\"MathJax-Span-217\" style=\"font-size: 70.7%; font-family: STIXGeneral-Italic;\">𝑛</span></span></span><span style=\"display: inline-block; width: 0px; height: 4.027em;\"></span></span></span></span></span></span><span style=\"display: inline-block; width: 0px; height: 4.027em;\"></span></span></span><span style=\"display: inline-block; width: 0px; height: 6.129em;\"></span></span></span></span><span class=\"mo\" id=\"MathJax-Span-218\" style=\"vertical-align: 3.006em;\"><span style=\"display: inline-block; position: relative; width: 0.423em; height: 0px;\"><span style=\"position: absolute; font-family: STIXSizeOneSym; top: -3.36em; left: 0em;\">⎤<span style=\"display: inline-block; width: 0px; height: 4.027em;\"></span></span><span style=\"position: absolute; font-family: STIXSizeOneSym; top: 1.204em; left: 0em;\">⎦<span style=\"display: inline-block; width: 0px; height: 4.027em;\"></span></span><span style=\"font-family: STIXSizeOneSym; position: absolute; top: -2.399em; left: 0em;\">⎥<span style=\"display: inline-block; width: 0px; height: 4.027em;\"></span></span><span style=\"font-family: STIXSizeOneSym; position: absolute; top: -1.498em; left: 0em;\">⎥<span style=\"display: inline-block; width: 0px; height: 4.027em;\"></span></span><span style=\"font-family: STIXSizeOneSym; position: absolute; top: -0.598em; left: 0em;\">⎥<span style=\"display: inline-block; width: 0px; height: 4.027em;\"></span></span><span style=\"font-family: STIXSizeOneSym; position: absolute; top: 0.303em; left: 0em;\">⎥<span style=\"display: inline-block; width: 0px; height: 4.027em;\"></span></span></span></span></span></span><span style=\"display: inline-block; width: 0px; height: 5.408em;\"></span></span></span><span style=\"display: inline-block; overflow: hidden; vertical-align: -2.863em; border-left: 0px solid; width: 0px; height: 6.337em;\"></span></span></nobr><span class=\"MJX_Assistive_MathML MJX_Assistive_MathML_Block\" role=\"presentation\"><math xmlns=\"http://www.w3.org/1998/Math/MathML\" display=\"block\"><mi>X</mi><mo>=</mo><mrow><mo>[</mo><mtable rowspacing=\"4pt\" columnspacing=\"1em\"><mtr><mtd><mn>1</mn></mtd><mtd><msub><mi>x</mi><mrow class=\"MJX-TeXAtom-ORD\"><mn>11</mn></mrow></msub></mtd><mtd><mo>⋯</mo></mtd><mtd><msub><mi>x</mi><mrow class=\"MJX-TeXAtom-ORD\"><mn>1</mn><mi>n</mi></mrow></msub></mtd></mtr><mtr><mtd><mn>1</mn></mtd><mtd><msub><mi>x</mi><mrow class=\"MJX-TeXAtom-ORD\"><mn>21</mn></mrow></msub></mtd><mtd><mo>⋯</mo></mtd><mtd><msub><mi>x</mi><mrow class=\"MJX-TeXAtom-ORD\"><mn>2</mn><mi>n</mi></mrow></msub></mtd></mtr><mtr><mtd><mo>⋮</mo></mtd><mtd><mo>⋮</mo></mtd><mtd></mtd><mtd><mo>⋮</mo></mtd></mtr><mtr><mtd><mn>1</mn></mtd><mtd><msub><mi>x</mi><mrow class=\"MJX-TeXAtom-ORD\"><mi>m</mi><mn>1</mn></mrow></msub></mtd><mtd><mo>⋯</mo></mtd><mtd><msub><mi>x</mi><mrow class=\"MJX-TeXAtom-ORD\"><mi>m</mi><mi>n</mi></mrow></msub></mtd></mtr></mtable><mo>]</mo></mrow></math></span></span></div><script type=\"math/tex; mode=display\" id=\"MathJax-Element-12\">\n",
    "X=\\begin{bmatrix} 1 & x_{11} & \\cdots & x_{1n} \\\\\n",
    "1 & x_{21} & \\cdots & x_{2n} \\\\\n",
    "\\vdots & \\vdots & & \\vdots \\\\\n",
    "1 & x_{m1} & \\cdots & x_{mn} \\end{bmatrix}\n",
    "</script>\n",
    "Then\n",
    "<span class=\"MathJax_Preview\" style=\"color: inherit;\"></span><div class=\"MathJax_Display\" style=\"text-align: center;\"><span class=\"MathJax\" id=\"MathJax-Element-13-Frame\" tabindex=\"0\" style=\"text-align: center; position: relative;\" data-mathml=\"<math xmlns=&quot;http://www.w3.org/1998/Math/MathML&quot; display=&quot;block&quot;><mrow><mo>[</mo><mtable rowspacing=&quot;4pt&quot; columnspacing=&quot;1em&quot;><mtr><mtd><msub><mi>Y</mi><mn>1</mn></msub></mtd></mtr><mtr><mtd><mo>&amp;#x22EE;</mo></mtd></mtr><mtr><mtd><msub><mi>Y</mi><mi>m</mi></msub></mtd></mtr></mtable><mo>]</mo></mrow><mo>=</mo><mrow><mo>[</mo><mtable rowspacing=&quot;4pt&quot; columnspacing=&quot;1em&quot;><mtr><mtd><mn>1</mn></mtd><mtd><msub><mi>x</mi><mrow class=&quot;MJX-TeXAtom-ORD&quot;><mn>11</mn></mrow></msub></mtd><mtd><mo>&amp;#x22EF;</mo></mtd><mtd><msub><mi>x</mi><mrow class=&quot;MJX-TeXAtom-ORD&quot;><mn>1</mn><mi>n</mi></mrow></msub></mtd></mtr><mtr><mtd><mn>1</mn></mtd><mtd><msub><mi>x</mi><mrow class=&quot;MJX-TeXAtom-ORD&quot;><mn>21</mn></mrow></msub></mtd><mtd><mo>&amp;#x22EF;</mo></mtd><mtd><msub><mi>x</mi><mrow class=&quot;MJX-TeXAtom-ORD&quot;><mn>2</mn><mi>n</mi></mrow></msub></mtd></mtr><mtr><mtd><mo>&amp;#x22EE;</mo></mtd><mtd><mo>&amp;#x22EE;</mo></mtd><mtd /><mtd><mo>&amp;#x22EE;</mo></mtd></mtr><mtr><mtd><mn>1</mn></mtd><mtd><msub><mi>x</mi><mrow class=&quot;MJX-TeXAtom-ORD&quot;><mi>m</mi><mn>1</mn></mrow></msub></mtd><mtd><mo>&amp;#x22EF;</mo></mtd><mtd><msub><mi>x</mi><mrow class=&quot;MJX-TeXAtom-ORD&quot;><mi>m</mi><mi>n</mi></mrow></msub></mtd></mtr></mtable><mo>]</mo></mrow><mrow><mo>[</mo><mtable rowspacing=&quot;4pt&quot; columnspacing=&quot;1em&quot;><mtr><mtd><msub><mi>&amp;#x03B2;</mi><mn>0</mn></msub></mtd></mtr><mtr><mtd><msub><mi>&amp;#x03B2;</mi><mn>1</mn></msub></mtd></mtr><mtr><mtd><mo>&amp;#x22EE;</mo></mtd></mtr><mtr><mtd><msub><mi>&amp;#x03B2;</mi><mi>n</mi></msub></mtd></mtr></mtable><mo>]</mo></mrow><mo>+</mo><mrow><mo>[</mo><mtable rowspacing=&quot;4pt&quot; columnspacing=&quot;1em&quot;><mtr><mtd><msub><mi>&amp;#x03B5;</mi><mn>1</mn></msub></mtd></mtr><mtr><mtd><mo>&amp;#x22EE;</mo></mtd></mtr><mtr><mtd><msub><mi>&amp;#x03B5;</mi><mi>m</mi></msub></mtd></mtr></mtable><mo>]</mo></mrow><mo>.</mo></math>\" role=\"presentation\"><nobr aria-hidden=\"true\"><span class=\"math\" id=\"MathJax-Span-219\" style=\"width: 20.904em; display: inline-block;\"><span style=\"display: inline-block; position: relative; width: 18.802em; height: 0px; font-size: 111%;\"><span style=\"position: absolute; clip: rect(2.225em, 1018.74em, 8.111em, -999.997em); top: -5.402em; left: 0em;\"><span class=\"mrow\" id=\"MathJax-Span-220\"><span class=\"mrow\" id=\"MathJax-Span-221\"><span class=\"mo\" id=\"MathJax-Span-222\" style=\"vertical-align: 2.285em;\"><span style=\"display: inline-block; position: relative; width: 0.423em; height: 0px;\"><span style=\"position: absolute; font-family: STIXSizeOneSym; top: -3.36em; left: 0em;\">⎡<span style=\"display: inline-block; width: 0px; height: 4.027em;\"></span></span><span style=\"position: absolute; font-family: STIXSizeOneSym; top: -0.237em; left: 0em;\">⎣<span style=\"display: inline-block; width: 0px; height: 4.027em;\"></span></span><span style=\"font-family: STIXSizeOneSym; position: absolute; top: -2.58em; left: 0em;\">⎢<span style=\"display: inline-block; width: 0px; height: 4.027em;\"></span></span><span style=\"font-family: STIXSizeOneSym; position: absolute; top: -1.799em; left: 0em;\">⎢<span style=\"display: inline-block; width: 0px; height: 4.027em;\"></span></span><span style=\"font-family: STIXSizeOneSym; position: absolute; top: -1.018em; left: 0em;\">⎢<span style=\"display: inline-block; width: 0px; height: 4.027em;\"></span></span></span></span><span class=\"mtable\" id=\"MathJax-Span-223\"><span style=\"display: inline-block; position: relative; width: 1.144em; height: 0px; margin-right: 0.183em; margin-left: 0.183em;\"><span style=\"position: absolute; clip: rect(2.586em, 1001.14em, 6.85em, -999.997em); top: -4.922em; left: 0em;\"><span style=\"display: inline-block; position: relative; width: 1.144em; height: 0px;\"><span style=\"position: absolute; clip: rect(3.186em, 1000.96em, 4.327em, -999.997em); top: -5.523em; left: 50%; margin-left: -0.477em;\"><span class=\"mtd\" id=\"MathJax-Span-224\"><span class=\"mrow\" id=\"MathJax-Span-225\"><span class=\"msubsup\" id=\"MathJax-Span-226\"><span style=\"display: inline-block; position: relative; width: 0.964em; height: 0px;\"><span style=\"position: absolute; clip: rect(3.186em, 1000.72em, 4.207em, -999.997em); top: -4.021em; left: 0em;\"><span class=\"mi\" id=\"MathJax-Span-227\" style=\"font-family: STIXGeneral-Italic;\">𝑌<span style=\"display: inline-block; overflow: hidden; height: 1px; width: 0.183em;\"></span></span><span style=\"display: inline-block; width: 0px; height: 4.027em;\"></span></span><span style=\"position: absolute; top: -3.901em; left: 0.544em;\"><span class=\"mn\" id=\"MathJax-Span-228\" style=\"font-size: 70.7%; font-family: STIXGeneral-Regular;\">1</span><span style=\"display: inline-block; width: 0px; height: 4.027em;\"></span></span></span></span></span></span><span style=\"display: inline-block; width: 0px; height: 4.027em;\"></span></span><span style=\"position: absolute; clip: rect(2.826em, 1000.3em, 4.327em, -999.997em); top: -3.841em; left: 50%; margin-left: -0.237em;\"><span class=\"mtd\" id=\"MathJax-Span-229\"><span class=\"mrow\" id=\"MathJax-Span-230\"><span class=\"mo\" id=\"MathJax-Span-231\" style=\"font-family: STIXGeneral-Regular;\">⋮</span></span></span><span style=\"display: inline-block; width: 0px; height: 4.027em;\"></span></span><span style=\"position: absolute; clip: rect(3.186em, 1001.14em, 4.387em, -999.997em); top: -2.399em; left: 50%; margin-left: -0.538em;\"><span class=\"mtd\" id=\"MathJax-Span-232\"><span class=\"mrow\" id=\"MathJax-Span-233\"><span class=\"msubsup\" id=\"MathJax-Span-234\"><span style=\"display: inline-block; position: relative; width: 1.144em; height: 0px;\"><span style=\"position: absolute; clip: rect(3.186em, 1000.72em, 4.207em, -999.997em); top: -4.021em; left: 0em;\"><span class=\"mi\" id=\"MathJax-Span-235\" style=\"font-family: STIXGeneral-Italic;\">𝑌<span style=\"display: inline-block; overflow: hidden; height: 1px; width: 0.183em;\"></span></span><span style=\"display: inline-block; width: 0px; height: 4.027em;\"></span></span><span style=\"position: absolute; top: -3.901em; left: 0.544em;\"><span class=\"mi\" id=\"MathJax-Span-236\" style=\"font-size: 70.7%; font-family: STIXGeneral-Italic;\">𝑚</span><span style=\"display: inline-block; width: 0px; height: 4.027em;\"></span></span></span></span></span></span><span style=\"display: inline-block; width: 0px; height: 4.027em;\"></span></span></span><span style=\"display: inline-block; width: 0px; height: 4.928em;\"></span></span></span></span><span class=\"mo\" id=\"MathJax-Span-237\" style=\"vertical-align: 2.285em;\"><span style=\"display: inline-block; position: relative; width: 0.423em; height: 0px;\"><span style=\"position: absolute; font-family: STIXSizeOneSym; top: -3.36em; left: 0em;\">⎤<span style=\"display: inline-block; width: 0px; height: 4.027em;\"></span></span><span style=\"position: absolute; font-family: STIXSizeOneSym; top: -0.237em; left: 0em;\">⎦<span style=\"display: inline-block; width: 0px; height: 4.027em;\"></span></span><span style=\"font-family: STIXSizeOneSym; position: absolute; top: -2.58em; left: 0em;\">⎥<span style=\"display: inline-block; width: 0px; height: 4.027em;\"></span></span><span style=\"font-family: STIXSizeOneSym; position: absolute; top: -1.799em; left: 0em;\">⎥<span style=\"display: inline-block; width: 0px; height: 4.027em;\"></span></span><span style=\"font-family: STIXSizeOneSym; position: absolute; top: -1.018em; left: 0em;\">⎥<span style=\"display: inline-block; width: 0px; height: 4.027em;\"></span></span></span></span></span><span class=\"mo\" id=\"MathJax-Span-238\" style=\"font-family: STIXGeneral-Regular; padding-left: 0.303em;\">=</span><span class=\"mrow\" id=\"MathJax-Span-239\" style=\"padding-left: 0.303em;\"><span class=\"mo\" id=\"MathJax-Span-240\" style=\"vertical-align: 3.006em;\"><span style=\"display: inline-block; position: relative; width: 0.423em; height: 0px;\"><span style=\"position: absolute; font-family: STIXSizeOneSym; top: -3.36em; left: 0em;\">⎡<span style=\"display: inline-block; width: 0px; height: 4.027em;\"></span></span><span style=\"position: absolute; font-family: STIXSizeOneSym; top: 1.204em; left: 0em;\">⎣<span style=\"display: inline-block; width: 0px; height: 4.027em;\"></span></span><span style=\"font-family: STIXSizeOneSym; position: absolute; top: -2.399em; left: 0em;\">⎢<span style=\"display: inline-block; width: 0px; height: 4.027em;\"></span></span><span style=\"font-family: STIXSizeOneSym; position: absolute; top: -1.498em; left: 0em;\">⎢<span style=\"display: inline-block; width: 0px; height: 4.027em;\"></span></span><span style=\"font-family: STIXSizeOneSym; position: absolute; top: -0.598em; left: 0em;\">⎢<span style=\"display: inline-block; width: 0px; height: 4.027em;\"></span></span><span style=\"font-family: STIXSizeOneSym; position: absolute; top: 0.303em; left: 0em;\">⎢<span style=\"display: inline-block; width: 0px; height: 4.027em;\"></span></span></span></span><span class=\"mtable\" id=\"MathJax-Span-241\"><span style=\"display: inline-block; position: relative; width: 7.751em; height: 0px; margin-right: 0.183em; margin-left: 0.183em;\"><span style=\"position: absolute; clip: rect(3.186em, 1000.42em, 8.772em, -999.997em); top: -6.243em; left: 0em;\"><span style=\"display: inline-block; position: relative; width: 0.544em; height: 0px;\"><span style=\"position: absolute; clip: rect(3.186em, 1000.42em, 4.207em, -999.997em); top: -6.243em; left: 50%; margin-left: -0.237em;\"><span class=\"mtd\" id=\"MathJax-Span-242\"><span class=\"mrow\" id=\"MathJax-Span-243\"><span class=\"mn\" id=\"MathJax-Span-244\" style=\"font-family: STIXGeneral-Regular;\">1</span></span></span><span style=\"display: inline-block; width: 0px; height: 4.027em;\"></span></span><span style=\"position: absolute; clip: rect(3.186em, 1000.42em, 4.207em, -999.997em); top: -4.802em; left: 50%; margin-left: -0.237em;\"><span class=\"mtd\" id=\"MathJax-Span-263\"><span class=\"mrow\" id=\"MathJax-Span-264\"><span class=\"mn\" id=\"MathJax-Span-265\" style=\"font-family: STIXGeneral-Regular;\">1</span></span></span><span style=\"display: inline-block; width: 0px; height: 4.027em;\"></span></span><span style=\"position: absolute; clip: rect(2.826em, 1000.3em, 4.327em, -999.997em); top: -3.12em; left: 50%; margin-left: -0.237em;\"><span class=\"mtd\" id=\"MathJax-Span-284\"><span class=\"mrow\" id=\"MathJax-Span-285\"><span class=\"mo\" id=\"MathJax-Span-286\" style=\"font-family: STIXGeneral-Regular;\">⋮</span></span></span><span style=\"display: inline-block; width: 0px; height: 4.027em;\"></span></span><span style=\"position: absolute; clip: rect(3.186em, 1000.42em, 4.207em, -999.997em); top: -1.679em; left: 50%; margin-left: -0.237em;\"><span class=\"mtd\" id=\"MathJax-Span-295\"><span class=\"mrow\" id=\"MathJax-Span-296\"><span class=\"mn\" id=\"MathJax-Span-297\" style=\"font-family: STIXGeneral-Regular;\">1</span></span></span><span style=\"display: inline-block; width: 0px; height: 4.027em;\"></span></span></span><span style=\"display: inline-block; width: 0px; height: 6.249em;\"></span></span><span style=\"position: absolute; clip: rect(3.306em, 1001.5em, 8.772em, -999.997em); top: -6.123em; left: 1.625em;\"><span style=\"display: inline-block; position: relative; width: 1.505em; height: 0px;\"><span style=\"position: absolute; clip: rect(3.426em, 1001.32em, 4.327em, -999.997em); top: -6.243em; left: 50%; margin-left: -0.658em;\"><span class=\"mtd\" id=\"MathJax-Span-245\"><span class=\"mrow\" id=\"MathJax-Span-246\"><span class=\"msubsup\" id=\"MathJax-Span-247\"><span style=\"display: inline-block; position: relative; width: 1.324em; height: 0px;\"><span style=\"position: absolute; clip: rect(3.426em, 1000.48em, 4.207em, -999.997em); top: -4.021em; left: 0em;\"><span class=\"mi\" id=\"MathJax-Span-248\" style=\"font-family: STIXGeneral-Italic;\">𝑥</span><span style=\"display: inline-block; width: 0px; height: 4.027em;\"></span></span><span style=\"position: absolute; top: -3.901em; left: 0.544em;\"><span class=\"texatom\" id=\"MathJax-Span-249\"><span class=\"mrow\" id=\"MathJax-Span-250\"><span class=\"mn\" id=\"MathJax-Span-251\" style=\"font-size: 70.7%; font-family: STIXGeneral-Regular;\">11</span></span></span><span style=\"display: inline-block; width: 0px; height: 4.027em;\"></span></span></span></span></span></span><span style=\"display: inline-block; width: 0px; height: 4.027em;\"></span></span><span style=\"position: absolute; clip: rect(3.426em, 1001.32em, 4.327em, -999.997em); top: -4.802em; left: 50%; margin-left: -0.658em;\"><span class=\"mtd\" id=\"MathJax-Span-266\"><span class=\"mrow\" id=\"MathJax-Span-267\"><span class=\"msubsup\" id=\"MathJax-Span-268\"><span style=\"display: inline-block; position: relative; width: 1.324em; height: 0px;\"><span style=\"position: absolute; clip: rect(3.426em, 1000.48em, 4.207em, -999.997em); top: -4.021em; left: 0em;\"><span class=\"mi\" id=\"MathJax-Span-269\" style=\"font-family: STIXGeneral-Italic;\">𝑥</span><span style=\"display: inline-block; width: 0px; height: 4.027em;\"></span></span><span style=\"position: absolute; top: -3.901em; left: 0.544em;\"><span class=\"texatom\" id=\"MathJax-Span-270\"><span class=\"mrow\" id=\"MathJax-Span-271\"><span class=\"mn\" id=\"MathJax-Span-272\" style=\"font-size: 70.7%; font-family: STIXGeneral-Regular;\">21</span></span></span><span style=\"display: inline-block; width: 0px; height: 4.027em;\"></span></span></span></span></span></span><span style=\"display: inline-block; width: 0px; height: 4.027em;\"></span></span><span style=\"position: absolute; clip: rect(2.826em, 1000.3em, 4.327em, -999.997em); top: -3.12em; left: 50%; margin-left: -0.237em;\"><span class=\"mtd\" id=\"MathJax-Span-287\"><span class=\"mrow\" id=\"MathJax-Span-288\"><span class=\"mo\" id=\"MathJax-Span-289\" style=\"font-family: STIXGeneral-Regular;\">⋮</span></span></span><span style=\"display: inline-block; width: 0px; height: 4.027em;\"></span></span><span style=\"position: absolute; clip: rect(3.426em, 1001.5em, 4.387em, -999.997em); top: -1.679em; left: 50%; margin-left: -0.718em;\"><span class=\"mtd\" id=\"MathJax-Span-298\"><span class=\"mrow\" id=\"MathJax-Span-299\"><span class=\"msubsup\" id=\"MathJax-Span-300\"><span style=\"display: inline-block; position: relative; width: 1.505em; height: 0px;\"><span style=\"position: absolute; clip: rect(3.426em, 1000.48em, 4.207em, -999.997em); top: -4.021em; left: 0em;\"><span class=\"mi\" id=\"MathJax-Span-301\" style=\"font-family: STIXGeneral-Italic;\">𝑥</span><span style=\"display: inline-block; width: 0px; height: 4.027em;\"></span></span><span style=\"position: absolute; top: -3.901em; left: 0.544em;\"><span class=\"texatom\" id=\"MathJax-Span-302\"><span class=\"mrow\" id=\"MathJax-Span-303\"><span class=\"mi\" id=\"MathJax-Span-304\" style=\"font-size: 70.7%; font-family: STIXGeneral-Italic;\">𝑚</span><span class=\"mn\" id=\"MathJax-Span-305\" style=\"font-size: 70.7%; font-family: STIXGeneral-Regular;\">1</span></span></span><span style=\"display: inline-block; width: 0px; height: 4.027em;\"></span></span></span></span></span></span><span style=\"display: inline-block; width: 0px; height: 4.027em;\"></span></span></span><span style=\"display: inline-block; width: 0px; height: 6.129em;\"></span></span><span style=\"position: absolute; clip: rect(3.006em, 1000.84em, 8.051em, -999.997em); top: -5.703em; left: 4.267em;\"><span style=\"display: inline-block; position: relative; width: 0.904em; height: 0px;\"><span style=\"position: absolute; clip: rect(3.547em, 1000.84em, 4.027em, -999.997em); top: -6.243em; left: 50%; margin-left: -0.477em;\"><span class=\"mtd\" id=\"MathJax-Span-252\"><span class=\"mrow\" id=\"MathJax-Span-253\"><span class=\"mo\" id=\"MathJax-Span-254\" style=\"font-family: STIXGeneral-Regular;\">⋯</span></span></span><span style=\"display: inline-block; width: 0px; height: 4.027em;\"></span></span><span style=\"position: absolute; clip: rect(3.547em, 1000.84em, 4.027em, -999.997em); top: -4.802em; left: 50%; margin-left: -0.477em;\"><span class=\"mtd\" id=\"MathJax-Span-273\"><span class=\"mrow\" id=\"MathJax-Span-274\"><span class=\"mo\" id=\"MathJax-Span-275\" style=\"font-family: STIXGeneral-Regular;\">⋯</span></span></span><span style=\"display: inline-block; width: 0px; height: 4.027em;\"></span></span><span style=\"position: absolute; clip: rect(3.847em, 1000em, 4.207em, -999.997em); top: -3.12em; left: 50%; margin-left: 0em;\"><span class=\"mtd\" id=\"MathJax-Span-290\"><span class=\"mrow\" id=\"MathJax-Span-291\"></span></span><span style=\"display: inline-block; width: 0px; height: 4.027em;\"></span></span><span style=\"position: absolute; clip: rect(3.547em, 1000.84em, 4.027em, -999.997em); top: -1.679em; left: 50%; margin-left: -0.477em;\"><span class=\"mtd\" id=\"MathJax-Span-306\"><span class=\"mrow\" id=\"MathJax-Span-307\"><span class=\"mo\" id=\"MathJax-Span-308\" style=\"font-family: STIXGeneral-Regular;\">⋯</span></span></span><span style=\"display: inline-block; width: 0px; height: 4.027em;\"></span></span></span><span style=\"display: inline-block; width: 0px; height: 5.709em;\"></span></span><span style=\"position: absolute; clip: rect(3.306em, 1001.5em, 8.772em, -999.997em); top: -6.123em; left: 6.309em;\"><span style=\"display: inline-block; position: relative; width: 1.505em; height: 0px;\"><span style=\"position: absolute; clip: rect(3.426em, 1001.32em, 4.387em, -999.997em); top: -6.243em; left: 50%; margin-left: -0.658em;\"><span class=\"mtd\" id=\"MathJax-Span-255\"><span class=\"mrow\" id=\"MathJax-Span-256\"><span class=\"msubsup\" id=\"MathJax-Span-257\"><span style=\"display: inline-block; position: relative; width: 1.324em; height: 0px;\"><span style=\"position: absolute; clip: rect(3.426em, 1000.48em, 4.207em, -999.997em); top: -4.021em; left: 0em;\"><span class=\"mi\" id=\"MathJax-Span-258\" style=\"font-family: STIXGeneral-Italic;\">𝑥</span><span style=\"display: inline-block; width: 0px; height: 4.027em;\"></span></span><span style=\"position: absolute; top: -3.901em; left: 0.544em;\"><span class=\"texatom\" id=\"MathJax-Span-259\"><span class=\"mrow\" id=\"MathJax-Span-260\"><span class=\"mn\" id=\"MathJax-Span-261\" style=\"font-size: 70.7%; font-family: STIXGeneral-Regular;\">1</span><span class=\"mi\" id=\"MathJax-Span-262\" style=\"font-size: 70.7%; font-family: STIXGeneral-Italic;\">𝑛</span></span></span><span style=\"display: inline-block; width: 0px; height: 4.027em;\"></span></span></span></span></span></span><span style=\"display: inline-block; width: 0px; height: 4.027em;\"></span></span><span style=\"position: absolute; clip: rect(3.426em, 1001.32em, 4.387em, -999.997em); top: -4.802em; left: 50%; margin-left: -0.658em;\"><span class=\"mtd\" id=\"MathJax-Span-276\"><span class=\"mrow\" id=\"MathJax-Span-277\"><span class=\"msubsup\" id=\"MathJax-Span-278\"><span style=\"display: inline-block; position: relative; width: 1.324em; height: 0px;\"><span style=\"position: absolute; clip: rect(3.426em, 1000.48em, 4.207em, -999.997em); top: -4.021em; left: 0em;\"><span class=\"mi\" id=\"MathJax-Span-279\" style=\"font-family: STIXGeneral-Italic;\">𝑥</span><span style=\"display: inline-block; width: 0px; height: 4.027em;\"></span></span><span style=\"position: absolute; top: -3.901em; left: 0.544em;\"><span class=\"texatom\" id=\"MathJax-Span-280\"><span class=\"mrow\" id=\"MathJax-Span-281\"><span class=\"mn\" id=\"MathJax-Span-282\" style=\"font-size: 70.7%; font-family: STIXGeneral-Regular;\">2</span><span class=\"mi\" id=\"MathJax-Span-283\" style=\"font-size: 70.7%; font-family: STIXGeneral-Italic;\">𝑛</span></span></span><span style=\"display: inline-block; width: 0px; height: 4.027em;\"></span></span></span></span></span></span><span style=\"display: inline-block; width: 0px; height: 4.027em;\"></span></span><span style=\"position: absolute; clip: rect(2.826em, 1000.3em, 4.327em, -999.997em); top: -3.12em; left: 50%; margin-left: -0.237em;\"><span class=\"mtd\" id=\"MathJax-Span-292\"><span class=\"mrow\" id=\"MathJax-Span-293\"><span class=\"mo\" id=\"MathJax-Span-294\" style=\"font-family: STIXGeneral-Regular;\">⋮</span></span></span><span style=\"display: inline-block; width: 0px; height: 4.027em;\"></span></span><span style=\"position: absolute; clip: rect(3.426em, 1001.5em, 4.387em, -999.997em); top: -1.679em; left: 50%; margin-left: -0.718em;\"><span class=\"mtd\" id=\"MathJax-Span-309\"><span class=\"mrow\" id=\"MathJax-Span-310\"><span class=\"msubsup\" id=\"MathJax-Span-311\"><span style=\"display: inline-block; position: relative; width: 1.505em; height: 0px;\"><span style=\"position: absolute; clip: rect(3.426em, 1000.48em, 4.207em, -999.997em); top: -4.021em; left: 0em;\"><span class=\"mi\" id=\"MathJax-Span-312\" style=\"font-family: STIXGeneral-Italic;\">𝑥</span><span style=\"display: inline-block; width: 0px; height: 4.027em;\"></span></span><span style=\"position: absolute; top: -3.901em; left: 0.544em;\"><span class=\"texatom\" id=\"MathJax-Span-313\"><span class=\"mrow\" id=\"MathJax-Span-314\"><span class=\"mi\" id=\"MathJax-Span-315\" style=\"font-size: 70.7%; font-family: STIXGeneral-Italic;\">𝑚</span><span class=\"mi\" id=\"MathJax-Span-316\" style=\"font-size: 70.7%; font-family: STIXGeneral-Italic;\">𝑛</span></span></span><span style=\"display: inline-block; width: 0px; height: 4.027em;\"></span></span></span></span></span></span><span style=\"display: inline-block; width: 0px; height: 4.027em;\"></span></span></span><span style=\"display: inline-block; width: 0px; height: 6.129em;\"></span></span></span></span><span class=\"mo\" id=\"MathJax-Span-317\" style=\"vertical-align: 3.006em;\"><span style=\"display: inline-block; position: relative; width: 0.423em; height: 0px;\"><span style=\"position: absolute; font-family: STIXSizeOneSym; top: -3.36em; left: 0em;\">⎤<span style=\"display: inline-block; width: 0px; height: 4.027em;\"></span></span><span style=\"position: absolute; font-family: STIXSizeOneSym; top: 1.204em; left: 0em;\">⎦<span style=\"display: inline-block; width: 0px; height: 4.027em;\"></span></span><span style=\"font-family: STIXSizeOneSym; position: absolute; top: -2.399em; left: 0em;\">⎥<span style=\"display: inline-block; width: 0px; height: 4.027em;\"></span></span><span style=\"font-family: STIXSizeOneSym; position: absolute; top: -1.498em; left: 0em;\">⎥<span style=\"display: inline-block; width: 0px; height: 4.027em;\"></span></span><span style=\"font-family: STIXSizeOneSym; position: absolute; top: -0.598em; left: 0em;\">⎥<span style=\"display: inline-block; width: 0px; height: 4.027em;\"></span></span><span style=\"font-family: STIXSizeOneSym; position: absolute; top: 0.303em; left: 0em;\">⎥<span style=\"display: inline-block; width: 0px; height: 4.027em;\"></span></span></span></span></span><span class=\"mrow\" id=\"MathJax-Span-318\" style=\"padding-left: 0.183em;\"><span class=\"mo\" id=\"MathJax-Span-319\" style=\"vertical-align: 3.006em;\"><span style=\"display: inline-block; position: relative; width: 0.423em; height: 0px;\"><span style=\"position: absolute; font-family: STIXSizeOneSym; top: -3.36em; left: 0em;\">⎡<span style=\"display: inline-block; width: 0px; height: 4.027em;\"></span></span><span style=\"position: absolute; font-family: STIXSizeOneSym; top: 1.204em; left: 0em;\">⎣<span style=\"display: inline-block; width: 0px; height: 4.027em;\"></span></span><span style=\"font-family: STIXSizeOneSym; position: absolute; top: -2.399em; left: 0em;\">⎢<span style=\"display: inline-block; width: 0px; height: 4.027em;\"></span></span><span style=\"font-family: STIXSizeOneSym; position: absolute; top: -1.498em; left: 0em;\">⎢<span style=\"display: inline-block; width: 0px; height: 4.027em;\"></span></span><span style=\"font-family: STIXSizeOneSym; position: absolute; top: -0.598em; left: 0em;\">⎢<span style=\"display: inline-block; width: 0px; height: 4.027em;\"></span></span><span style=\"font-family: STIXSizeOneSym; position: absolute; top: 0.303em; left: 0em;\">⎢<span style=\"display: inline-block; width: 0px; height: 4.027em;\"></span></span></span></span><span class=\"mtable\" id=\"MathJax-Span-320\"><span style=\"display: inline-block; position: relative; width: 0.904em; height: 0px; margin-right: 0.183em; margin-left: 0.183em;\"><span style=\"position: absolute; clip: rect(3.366em, 1000.9em, 9.132em, -999.997em); top: -6.423em; left: 0em;\"><span style=\"display: inline-block; position: relative; width: 0.904em; height: 0px;\"><span style=\"position: absolute; clip: rect(3.186em, 1000.9em, 4.387em, -999.997em); top: -6.243em; left: 50%; margin-left: -0.477em;\"><span class=\"mtd\" id=\"MathJax-Span-321\"><span class=\"mrow\" id=\"MathJax-Span-322\"><span class=\"msubsup\" id=\"MathJax-Span-323\"><span style=\"display: inline-block; position: relative; width: 0.904em; height: 0px;\"><span style=\"position: absolute; clip: rect(3.186em, 1000.54em, 4.387em, -999.997em); top: -4.021em; left: 0em;\"><span class=\"mi\" id=\"MathJax-Span-324\" style=\"font-family: STIXGeneral-Italic;\">𝛽<span style=\"display: inline-block; overflow: hidden; height: 1px; width: 0.003em;\"></span></span><span style=\"display: inline-block; width: 0px; height: 4.027em;\"></span></span><span style=\"position: absolute; top: -3.901em; left: 0.483em;\"><span class=\"mn\" id=\"MathJax-Span-325\" style=\"font-size: 70.7%; font-family: STIXGeneral-Regular;\">0</span><span style=\"display: inline-block; width: 0px; height: 4.027em;\"></span></span></span></span></span></span><span style=\"display: inline-block; width: 0px; height: 4.027em;\"></span></span><span style=\"position: absolute; clip: rect(3.186em, 1000.9em, 4.387em, -999.997em); top: -4.802em; left: 50%; margin-left: -0.477em;\"><span class=\"mtd\" id=\"MathJax-Span-326\"><span class=\"mrow\" id=\"MathJax-Span-327\"><span class=\"msubsup\" id=\"MathJax-Span-328\"><span style=\"display: inline-block; position: relative; width: 0.904em; height: 0px;\"><span style=\"position: absolute; clip: rect(3.186em, 1000.54em, 4.387em, -999.997em); top: -4.021em; left: 0em;\"><span class=\"mi\" id=\"MathJax-Span-329\" style=\"font-family: STIXGeneral-Italic;\">𝛽<span style=\"display: inline-block; overflow: hidden; height: 1px; width: 0.003em;\"></span></span><span style=\"display: inline-block; width: 0px; height: 4.027em;\"></span></span><span style=\"position: absolute; top: -3.901em; left: 0.483em;\"><span class=\"mn\" id=\"MathJax-Span-330\" style=\"font-size: 70.7%; font-family: STIXGeneral-Regular;\">1</span><span style=\"display: inline-block; width: 0px; height: 4.027em;\"></span></span></span></span></span></span><span style=\"display: inline-block; width: 0px; height: 4.027em;\"></span></span><span style=\"position: absolute; clip: rect(2.826em, 1000.3em, 4.327em, -999.997em); top: -3.12em; left: 50%; margin-left: -0.237em;\"><span class=\"mtd\" id=\"MathJax-Span-331\"><span class=\"mrow\" id=\"MathJax-Span-332\"><span class=\"mo\" id=\"MathJax-Span-333\" style=\"font-family: STIXGeneral-Regular;\">⋮</span></span></span><span style=\"display: inline-block; width: 0px; height: 4.027em;\"></span></span><span style=\"position: absolute; clip: rect(3.186em, 1000.9em, 4.387em, -999.997em); top: -1.679em; left: 50%; margin-left: -0.477em;\"><span class=\"mtd\" id=\"MathJax-Span-334\"><span class=\"mrow\" id=\"MathJax-Span-335\"><span class=\"msubsup\" id=\"MathJax-Span-336\"><span style=\"display: inline-block; position: relative; width: 0.904em; height: 0px;\"><span style=\"position: absolute; clip: rect(3.186em, 1000.54em, 4.387em, -999.997em); top: -4.021em; left: 0em;\"><span class=\"mi\" id=\"MathJax-Span-337\" style=\"font-family: STIXGeneral-Italic;\">𝛽<span style=\"display: inline-block; overflow: hidden; height: 1px; width: 0.003em;\"></span></span><span style=\"display: inline-block; width: 0px; height: 4.027em;\"></span></span><span style=\"position: absolute; top: -3.901em; left: 0.483em;\"><span class=\"mi\" id=\"MathJax-Span-338\" style=\"font-size: 70.7%; font-family: STIXGeneral-Italic;\">𝑛</span><span style=\"display: inline-block; width: 0px; height: 4.027em;\"></span></span></span></span></span></span><span style=\"display: inline-block; width: 0px; height: 4.027em;\"></span></span></span><span style=\"display: inline-block; width: 0px; height: 6.429em;\"></span></span></span></span><span class=\"mo\" id=\"MathJax-Span-339\" style=\"vertical-align: 3.006em;\"><span style=\"display: inline-block; position: relative; width: 0.423em; height: 0px;\"><span style=\"position: absolute; font-family: STIXSizeOneSym; top: -3.36em; left: 0em;\">⎤<span style=\"display: inline-block; width: 0px; height: 4.027em;\"></span></span><span style=\"position: absolute; font-family: STIXSizeOneSym; top: 1.204em; left: 0em;\">⎦<span style=\"display: inline-block; width: 0px; height: 4.027em;\"></span></span><span style=\"font-family: STIXSizeOneSym; position: absolute; top: -2.399em; left: 0em;\">⎥<span style=\"display: inline-block; width: 0px; height: 4.027em;\"></span></span><span style=\"font-family: STIXSizeOneSym; position: absolute; top: -1.498em; left: 0em;\">⎥<span style=\"display: inline-block; width: 0px; height: 4.027em;\"></span></span><span style=\"font-family: STIXSizeOneSym; position: absolute; top: -0.598em; left: 0em;\">⎥<span style=\"display: inline-block; width: 0px; height: 4.027em;\"></span></span><span style=\"font-family: STIXSizeOneSym; position: absolute; top: 0.303em; left: 0em;\">⎥<span style=\"display: inline-block; width: 0px; height: 4.027em;\"></span></span></span></span></span><span class=\"mo\" id=\"MathJax-Span-340\" style=\"font-family: STIXGeneral-Regular; padding-left: 0.243em;\">+</span><span class=\"mrow\" id=\"MathJax-Span-341\" style=\"padding-left: 0.243em;\"><span class=\"mo\" id=\"MathJax-Span-342\" style=\"vertical-align: 2.285em;\"><span style=\"display: inline-block; position: relative; width: 0.423em; height: 0px;\"><span style=\"position: absolute; font-family: STIXSizeOneSym; top: -3.36em; left: 0em;\">⎡<span style=\"display: inline-block; width: 0px; height: 4.027em;\"></span></span><span style=\"position: absolute; font-family: STIXSizeOneSym; top: -0.237em; left: 0em;\">⎣<span style=\"display: inline-block; width: 0px; height: 4.027em;\"></span></span><span style=\"font-family: STIXSizeOneSym; position: absolute; top: -2.58em; left: 0em;\">⎢<span style=\"display: inline-block; width: 0px; height: 4.027em;\"></span></span><span style=\"font-family: STIXSizeOneSym; position: absolute; top: -1.799em; left: 0em;\">⎢<span style=\"display: inline-block; width: 0px; height: 4.027em;\"></span></span><span style=\"font-family: STIXSizeOneSym; position: absolute; top: -1.018em; left: 0em;\">⎢<span style=\"display: inline-block; width: 0px; height: 4.027em;\"></span></span></span></span><span class=\"mtable\" id=\"MathJax-Span-343\"><span style=\"display: inline-block; position: relative; width: 1.084em; height: 0px; margin-right: 0.183em; margin-left: 0.183em;\"><span style=\"position: absolute; clip: rect(2.586em, 1001.08em, 6.61em, -999.997em); top: -4.682em; left: 0em;\"><span style=\"display: inline-block; position: relative; width: 1.084em; height: 0px;\"><span style=\"position: absolute; clip: rect(3.426em, 1000.9em, 4.327em, -999.997em); top: -5.523em; left: 50%; margin-left: -0.477em;\"><span class=\"mtd\" id=\"MathJax-Span-344\"><span class=\"mrow\" id=\"MathJax-Span-345\"><span class=\"msubsup\" id=\"MathJax-Span-346\"><span style=\"display: inline-block; position: relative; width: 0.904em; height: 0px;\"><span style=\"position: absolute; clip: rect(3.426em, 1000.42em, 4.207em, -999.997em); top: -4.021em; left: 0em;\"><span class=\"mi\" id=\"MathJax-Span-347\" style=\"font-family: STIXGeneral-Italic;\">𝜀</span><span style=\"display: inline-block; width: 0px; height: 4.027em;\"></span></span><span style=\"position: absolute; top: -3.901em; left: 0.483em;\"><span class=\"mn\" id=\"MathJax-Span-348\" style=\"font-size: 70.7%; font-family: STIXGeneral-Regular;\">1</span><span style=\"display: inline-block; width: 0px; height: 4.027em;\"></span></span></span></span></span></span><span style=\"display: inline-block; width: 0px; height: 4.027em;\"></span></span><span style=\"position: absolute; clip: rect(2.826em, 1000.3em, 4.327em, -999.997em); top: -3.841em; left: 50%; margin-left: -0.237em;\"><span class=\"mtd\" id=\"MathJax-Span-349\"><span class=\"mrow\" id=\"MathJax-Span-350\"><span class=\"mo\" id=\"MathJax-Span-351\" style=\"font-family: STIXGeneral-Regular;\">⋮</span></span></span><span style=\"display: inline-block; width: 0px; height: 4.027em;\"></span></span><span style=\"position: absolute; clip: rect(3.426em, 1001.08em, 4.387em, -999.997em); top: -2.399em; left: 50%; margin-left: -0.538em;\"><span class=\"mtd\" id=\"MathJax-Span-352\"><span class=\"mrow\" id=\"MathJax-Span-353\"><span class=\"msubsup\" id=\"MathJax-Span-354\"><span style=\"display: inline-block; position: relative; width: 1.084em; height: 0px;\"><span style=\"position: absolute; clip: rect(3.426em, 1000.42em, 4.207em, -999.997em); top: -4.021em; left: 0em;\"><span class=\"mi\" id=\"MathJax-Span-355\" style=\"font-family: STIXGeneral-Italic;\">𝜀</span><span style=\"display: inline-block; width: 0px; height: 4.027em;\"></span></span><span style=\"position: absolute; top: -3.901em; left: 0.483em;\"><span class=\"mi\" id=\"MathJax-Span-356\" style=\"font-size: 70.7%; font-family: STIXGeneral-Italic;\">𝑚</span><span style=\"display: inline-block; width: 0px; height: 4.027em;\"></span></span></span></span></span></span><span style=\"display: inline-block; width: 0px; height: 4.027em;\"></span></span></span><span style=\"display: inline-block; width: 0px; height: 4.688em;\"></span></span></span></span><span class=\"mo\" id=\"MathJax-Span-357\" style=\"vertical-align: 2.285em;\"><span style=\"display: inline-block; position: relative; width: 0.423em; height: 0px;\"><span style=\"position: absolute; font-family: STIXSizeOneSym; top: -3.36em; left: 0em;\">⎤<span style=\"display: inline-block; width: 0px; height: 4.027em;\"></span></span><span style=\"position: absolute; font-family: STIXSizeOneSym; top: -0.237em; left: 0em;\">⎦<span style=\"display: inline-block; width: 0px; height: 4.027em;\"></span></span><span style=\"font-family: STIXSizeOneSym; position: absolute; top: -2.58em; left: 0em;\">⎥<span style=\"display: inline-block; width: 0px; height: 4.027em;\"></span></span><span style=\"font-family: STIXSizeOneSym; position: absolute; top: -1.799em; left: 0em;\">⎥<span style=\"display: inline-block; width: 0px; height: 4.027em;\"></span></span><span style=\"font-family: STIXSizeOneSym; position: absolute; top: -1.018em; left: 0em;\">⎥<span style=\"display: inline-block; width: 0px; height: 4.027em;\"></span></span></span></span></span><span class=\"mo\" id=\"MathJax-Span-358\" style=\"font-family: STIXGeneral-Regular; padding-left: 0.183em;\">.</span></span><span style=\"display: inline-block; width: 0px; height: 5.408em;\"></span></span></span><span style=\"display: inline-block; overflow: hidden; vertical-align: -2.863em; border-left: 0px solid; width: 0px; height: 6.337em;\"></span></span></nobr><span class=\"MJX_Assistive_MathML MJX_Assistive_MathML_Block\" role=\"presentation\"><math xmlns=\"http://www.w3.org/1998/Math/MathML\" display=\"block\"><mrow><mo>[</mo><mtable rowspacing=\"4pt\" columnspacing=\"1em\"><mtr><mtd><msub><mi>Y</mi><mn>1</mn></msub></mtd></mtr><mtr><mtd><mo>⋮</mo></mtd></mtr><mtr><mtd><msub><mi>Y</mi><mi>m</mi></msub></mtd></mtr></mtable><mo>]</mo></mrow><mo>=</mo><mrow><mo>[</mo><mtable rowspacing=\"4pt\" columnspacing=\"1em\"><mtr><mtd><mn>1</mn></mtd><mtd><msub><mi>x</mi><mrow class=\"MJX-TeXAtom-ORD\"><mn>11</mn></mrow></msub></mtd><mtd><mo>⋯</mo></mtd><mtd><msub><mi>x</mi><mrow class=\"MJX-TeXAtom-ORD\"><mn>1</mn><mi>n</mi></mrow></msub></mtd></mtr><mtr><mtd><mn>1</mn></mtd><mtd><msub><mi>x</mi><mrow class=\"MJX-TeXAtom-ORD\"><mn>21</mn></mrow></msub></mtd><mtd><mo>⋯</mo></mtd><mtd><msub><mi>x</mi><mrow class=\"MJX-TeXAtom-ORD\"><mn>2</mn><mi>n</mi></mrow></msub></mtd></mtr><mtr><mtd><mo>⋮</mo></mtd><mtd><mo>⋮</mo></mtd><mtd></mtd><mtd><mo>⋮</mo></mtd></mtr><mtr><mtd><mn>1</mn></mtd><mtd><msub><mi>x</mi><mrow class=\"MJX-TeXAtom-ORD\"><mi>m</mi><mn>1</mn></mrow></msub></mtd><mtd><mo>⋯</mo></mtd><mtd><msub><mi>x</mi><mrow class=\"MJX-TeXAtom-ORD\"><mi>m</mi><mi>n</mi></mrow></msub></mtd></mtr></mtable><mo>]</mo></mrow><mrow><mo>[</mo><mtable rowspacing=\"4pt\" columnspacing=\"1em\"><mtr><mtd><msub><mi>β</mi><mn>0</mn></msub></mtd></mtr><mtr><mtd><msub><mi>β</mi><mn>1</mn></msub></mtd></mtr><mtr><mtd><mo>⋮</mo></mtd></mtr><mtr><mtd><msub><mi>β</mi><mi>n</mi></msub></mtd></mtr></mtable><mo>]</mo></mrow><mo>+</mo><mrow><mo>[</mo><mtable rowspacing=\"4pt\" columnspacing=\"1em\"><mtr><mtd><msub><mi>ε</mi><mn>1</mn></msub></mtd></mtr><mtr><mtd><mo>⋮</mo></mtd></mtr><mtr><mtd><msub><mi>ε</mi><mi>m</mi></msub></mtd></mtr></mtable><mo>]</mo></mrow><mo>.</mo></math></span></span></div><script type=\"math/tex; mode=display\" id=\"MathJax-Element-13\">\n",
    "\\begin{bmatrix} Y_1 \\\\  \\vdots \\\\ Y_m \\end{bmatrix} = \\begin{bmatrix} 1 & x_{11} & \\cdots & x_{1n} \\\\\n",
    "1 & x_{21} & \\cdots & x_{2n} \\\\\n",
    "\\vdots & \\vdots & & \\vdots \\\\\n",
    "1 & x_{m1} & \\cdots & x_{mn} \\end{bmatrix}\n",
    "\\begin{bmatrix} \\beta_0 \\\\  \\beta_1 \\\\ \\vdots \\\\  \\beta_n \\end{bmatrix}\n",
    "+ \\begin{bmatrix} \\varepsilon_1 \\\\ \\vdots \\\\ \\varepsilon_m \\end{bmatrix}.\n",
    "</script>\n",
    "Write this as\n",
    "<span class=\"MathJax_Preview\" style=\"color: inherit;\"></span><div class=\"MathJax_Display\" style=\"text-align: center;\"><span class=\"MathJax\" id=\"MathJax-Element-14-Frame\" tabindex=\"0\" style=\"text-align: center; position: relative;\" data-mathml=\"<math xmlns=&quot;http://www.w3.org/1998/Math/MathML&quot; display=&quot;block&quot;><mi>Y</mi><mo>=</mo><mi>X</mi><mi>&amp;#x03B2;</mi><mo>+</mo><mi>&amp;#x03B5;</mi><mo>.</mo></math>\" role=\"presentation\"><nobr aria-hidden=\"true\"><span class=\"math\" id=\"MathJax-Span-359\" style=\"width: 5.829em; display: inline-block;\"><span style=\"display: inline-block; position: relative; width: 5.228em; height: 0px; font-size: 111%;\"><span style=\"position: absolute; clip: rect(1.685em, 1005.17em, 2.886em, -999.997em); top: -2.52em; left: 0em;\"><span class=\"mrow\" id=\"MathJax-Span-360\"><span class=\"mi\" id=\"MathJax-Span-361\" style=\"font-family: STIXGeneral-Italic;\">𝑌<span style=\"display: inline-block; overflow: hidden; height: 1px; width: 0.183em;\"></span></span><span class=\"mo\" id=\"MathJax-Span-362\" style=\"font-family: STIXGeneral-Regular; padding-left: 0.303em;\">=</span><span class=\"mi\" id=\"MathJax-Span-363\" style=\"font-family: STIXGeneral-Italic; padding-left: 0.303em;\">𝑋<span style=\"display: inline-block; overflow: hidden; height: 1px; width: 0.003em;\"></span></span><span class=\"mi\" id=\"MathJax-Span-364\" style=\"font-family: STIXGeneral-Italic;\">𝛽<span style=\"display: inline-block; overflow: hidden; height: 1px; width: 0.003em;\"></span></span><span class=\"mo\" id=\"MathJax-Span-365\" style=\"font-family: STIXGeneral-Regular; padding-left: 0.243em;\">+</span><span class=\"mi\" id=\"MathJax-Span-366\" style=\"font-family: STIXGeneral-Italic; padding-left: 0.243em;\">𝜀</span><span class=\"mo\" id=\"MathJax-Span-367\" style=\"font-family: STIXGeneral-Regular;\">.</span></span><span style=\"display: inline-block; width: 0px; height: 2.526em;\"></span></span></span><span style=\"display: inline-block; overflow: hidden; vertical-align: -0.263em; border-left: 0px solid; width: 0px; height: 1.07em;\"></span></span></nobr><span class=\"MJX_Assistive_MathML MJX_Assistive_MathML_Block\" role=\"presentation\"><math xmlns=\"http://www.w3.org/1998/Math/MathML\" display=\"block\"><mi>Y</mi><mo>=</mo><mi>X</mi><mi>β</mi><mo>+</mo><mi>ε</mi><mo>.</mo></math></span></span></div><script type=\"math/tex; mode=display\" id=\"MathJax-Element-14\">\n",
    "Y=X\\beta+\\varepsilon.\n",
    "</script>\n",
    "Then the least-squares estimate are\n",
    "<span class=\"MathJax_Preview\" style=\"color: inherit;\"></span><div class=\"MathJax_Display\" style=\"text-align: center;\"><span class=\"MathJax\" id=\"MathJax-Element-15-Frame\" tabindex=\"0\" style=\"text-align: center; position: relative;\" data-mathml=\"<math xmlns=&quot;http://www.w3.org/1998/Math/MathML&quot; display=&quot;block&quot;><mrow class=&quot;MJX-TeXAtom-ORD&quot;><mover><mi>&amp;#x03B2;</mi><mo stretchy=&quot;false&quot;>&amp;#x005E;</mo></mover></mrow><mo>=</mo><mo stretchy=&quot;false&quot;>(</mo><msup><mi>X</mi><mi>T</mi></msup><mi>X</mi><msup><mo stretchy=&quot;false&quot;>)</mo><mrow class=&quot;MJX-TeXAtom-ORD&quot;><mo>&amp;#x2212;</mo><mn>1</mn></mrow></msup><msup><mi>X</mi><mi>T</mi></msup><mi>Y</mi><mo>.</mo></math>\" role=\"presentation\"><nobr aria-hidden=\"true\"><span class=\"math\" id=\"MathJax-Span-368\" style=\"width: 9.012em; display: inline-block;\"><span style=\"display: inline-block; position: relative; width: 8.111em; height: 0px; font-size: 111%;\"><span style=\"position: absolute; clip: rect(1.384em, 1008.05em, 2.886em, -999.997em); top: -2.52em; left: 0em;\"><span class=\"mrow\" id=\"MathJax-Span-369\"><span class=\"texatom\" id=\"MathJax-Span-370\"><span class=\"mrow\" id=\"MathJax-Span-371\"><span class=\"munderover\" id=\"MathJax-Span-372\"><span style=\"display: inline-block; position: relative; width: 0.544em; height: 0px;\"><span style=\"position: absolute; clip: rect(3.186em, 1000.54em, 4.387em, -999.997em); top: -4.021em; left: 0em;\"><span class=\"mi\" id=\"MathJax-Span-373\" style=\"font-family: STIXGeneral-Italic;\">𝛽<span style=\"display: inline-block; overflow: hidden; height: 1px; width: 0.003em;\"></span></span><span style=\"display: inline-block; width: 0px; height: 4.027em;\"></span></span><span style=\"position: absolute; top: -4.321em; left: 0.123em;\"><span style=\"height: 0em; vertical-align: 0em; width: 0.363em; display: inline-block; overflow: hidden;\"></span><span class=\"mo\" id=\"MathJax-Span-374\" style=\"font-family: STIXGeneral-Regular;\">̂&nbsp;<span style=\"height: 0em; vertical-align: 0em; margin-left: -0.237em;\"></span></span><span style=\"display: inline-block; overflow: hidden; height: 1px; width: 0em;\"></span><span style=\"display: inline-block; width: 0px; height: 4.027em;\"></span></span></span></span></span></span><span class=\"mo\" id=\"MathJax-Span-375\" style=\"font-family: STIXGeneral-Regular; padding-left: 0.303em;\">=</span><span class=\"mo\" id=\"MathJax-Span-376\" style=\"font-family: STIXGeneral-Regular; padding-left: 0.303em;\">(</span><span class=\"msubsup\" id=\"MathJax-Span-377\"><span style=\"display: inline-block; position: relative; width: 1.444em; height: 0px;\"><span style=\"position: absolute; clip: rect(3.186em, 1000.78em, 4.207em, -999.997em); top: -4.021em; left: 0em;\"><span class=\"mi\" id=\"MathJax-Span-378\" style=\"font-family: STIXGeneral-Italic;\">𝑋<span style=\"display: inline-block; overflow: hidden; height: 1px; width: 0.003em;\"></span></span><span style=\"display: inline-block; width: 0px; height: 4.027em;\"></span></span><span style=\"position: absolute; top: -4.441em; left: 0.844em;\"><span class=\"mi\" id=\"MathJax-Span-379\" style=\"font-size: 70.7%; font-family: STIXGeneral-Italic;\">𝑇<span style=\"display: inline-block; overflow: hidden; height: 1px; width: 0.063em;\"></span></span><span style=\"display: inline-block; width: 0px; height: 4.027em;\"></span></span></span></span><span class=\"mi\" id=\"MathJax-Span-380\" style=\"font-family: STIXGeneral-Italic;\">𝑋<span style=\"display: inline-block; overflow: hidden; height: 1px; width: 0.003em;\"></span></span><span class=\"msubsup\" id=\"MathJax-Span-381\"><span style=\"display: inline-block; position: relative; width: 1.264em; height: 0px;\"><span style=\"position: absolute; clip: rect(3.186em, 1000.3em, 4.387em, -999.997em); top: -4.021em; left: 0em;\"><span class=\"mo\" id=\"MathJax-Span-382\" style=\"font-family: STIXGeneral-Regular;\">)</span><span style=\"display: inline-block; width: 0px; height: 4.027em;\"></span></span><span style=\"position: absolute; top: -4.441em; left: 0.363em;\"><span class=\"texatom\" id=\"MathJax-Span-383\"><span class=\"mrow\" id=\"MathJax-Span-384\"><span class=\"mo\" id=\"MathJax-Span-385\" style=\"font-size: 70.7%; font-family: STIXGeneral-Regular;\">−</span><span class=\"mn\" id=\"MathJax-Span-386\" style=\"font-size: 70.7%; font-family: STIXGeneral-Regular;\">1</span></span></span><span style=\"display: inline-block; width: 0px; height: 4.027em;\"></span></span></span></span><span class=\"msubsup\" id=\"MathJax-Span-387\"><span style=\"display: inline-block; position: relative; width: 1.444em; height: 0px;\"><span style=\"position: absolute; clip: rect(3.186em, 1000.78em, 4.207em, -999.997em); top: -4.021em; left: 0em;\"><span class=\"mi\" id=\"MathJax-Span-388\" style=\"font-family: STIXGeneral-Italic;\">𝑋<span style=\"display: inline-block; overflow: hidden; height: 1px; width: 0.003em;\"></span></span><span style=\"display: inline-block; width: 0px; height: 4.027em;\"></span></span><span style=\"position: absolute; top: -4.441em; left: 0.844em;\"><span class=\"mi\" id=\"MathJax-Span-389\" style=\"font-size: 70.7%; font-family: STIXGeneral-Italic;\">𝑇<span style=\"display: inline-block; overflow: hidden; height: 1px; width: 0.063em;\"></span></span><span style=\"display: inline-block; width: 0px; height: 4.027em;\"></span></span></span></span><span class=\"mi\" id=\"MathJax-Span-390\" style=\"font-family: STIXGeneral-Italic;\">𝑌<span style=\"display: inline-block; overflow: hidden; height: 1px; width: 0.183em;\"></span></span><span class=\"mo\" id=\"MathJax-Span-391\" style=\"font-family: STIXGeneral-Regular;\">.</span></span><span style=\"display: inline-block; width: 0px; height: 2.526em;\"></span></span></span><span style=\"display: inline-block; overflow: hidden; vertical-align: -0.263em; border-left: 0px solid; width: 0px; height: 1.403em;\"></span></span></nobr><span class=\"MJX_Assistive_MathML MJX_Assistive_MathML_Block\" role=\"presentation\"><math xmlns=\"http://www.w3.org/1998/Math/MathML\" display=\"block\"><mrow class=\"MJX-TeXAtom-ORD\"><mover><mi>β</mi><mo stretchy=\"false\">^</mo></mover></mrow><mo>=</mo><mo stretchy=\"false\">(</mo><msup><mi>X</mi><mi>T</mi></msup><mi>X</mi><msup><mo stretchy=\"false\">)</mo><mrow class=\"MJX-TeXAtom-ORD\"><mo>−</mo><mn>1</mn></mrow></msup><msup><mi>X</mi><mi>T</mi></msup><mi>Y</mi><mo>.</mo></math></span></span></div><script type=\"math/tex; mode=display\" id=\"MathJax-Element-15\">\n",
    "\\hat\\beta =  (X^T X)^{-1} X^T Y.\n",
    "</script>\n",
    "The potentially messy part --- the only nonlinear part --- is the matrix inversion.</p>\n",
    "\n",
    "<p>If you want just <span class=\"MathJax_Preview\" style=\"color: inherit;\"></span><span class=\"MathJax\" id=\"MathJax-Element-16-Frame\" tabindex=\"0\" style=\"position: relative;\" data-mathml=\"<math xmlns=&quot;http://www.w3.org/1998/Math/MathML&quot;><msub><mrow class=&quot;MJX-TeXAtom-ORD&quot;><mover><mi>&amp;#x03B2;</mi><mo stretchy=&quot;false&quot;>&amp;#x005E;</mo></mover></mrow><mi>k</mi></msub></math>\" role=\"presentation\"><nobr aria-hidden=\"true\"><span class=\"math\" id=\"MathJax-Span-392\" style=\"width: 1.084em; display: inline-block;\"><span style=\"display: inline-block; position: relative; width: 0.964em; height: 0px; font-size: 111%;\"><span style=\"position: absolute; clip: rect(1.024em, 1000.96em, 2.586em, -999.997em); top: -2.159em; left: 0em;\"><span class=\"mrow\" id=\"MathJax-Span-393\"><span class=\"msubsup\" id=\"MathJax-Span-394\"><span style=\"display: inline-block; position: relative; width: 0.964em; height: 0px;\"><span style=\"position: absolute; clip: rect(2.886em, 1000.54em, 4.387em, -999.997em); top: -4.021em; left: 0em;\"><span class=\"texatom\" id=\"MathJax-Span-395\"><span class=\"mrow\" id=\"MathJax-Span-396\"><span class=\"munderover\" id=\"MathJax-Span-397\"><span style=\"display: inline-block; position: relative; width: 0.544em; height: 0px;\"><span style=\"position: absolute; clip: rect(3.186em, 1000.54em, 4.387em, -999.997em); top: -4.021em; left: 0em;\"><span class=\"mi\" id=\"MathJax-Span-398\" style=\"font-family: STIXGeneral-Italic;\">𝛽<span style=\"display: inline-block; overflow: hidden; height: 1px; width: 0.003em;\"></span></span><span style=\"display: inline-block; width: 0px; height: 4.027em;\"></span></span><span style=\"position: absolute; top: -4.321em; left: 0.123em;\"><span style=\"height: 0em; vertical-align: 0em; width: 0.363em; display: inline-block; overflow: hidden;\"></span><span class=\"mo\" id=\"MathJax-Span-399\" style=\"font-family: STIXGeneral-Regular;\">̂&nbsp;<span style=\"height: 0em; vertical-align: 0em; margin-left: -0.237em;\"></span></span><span style=\"display: inline-block; overflow: hidden; height: 1px; width: 0em;\"></span><span style=\"display: inline-block; width: 0px; height: 4.027em;\"></span></span></span></span></span></span><span style=\"display: inline-block; width: 0px; height: 4.027em;\"></span></span><span style=\"position: absolute; top: -3.781em; left: 0.544em;\"><span class=\"mi\" id=\"MathJax-Span-400\" style=\"font-size: 70.7%; font-family: STIXGeneral-Italic;\">𝑘</span><span style=\"display: inline-block; width: 0px; height: 4.027em;\"></span></span></span></span></span><span style=\"display: inline-block; width: 0px; height: 2.165em;\"></span></span></span><span style=\"display: inline-block; overflow: hidden; vertical-align: -0.33em; border-left: 0px solid; width: 0px; height: 1.47em;\"></span></span></nobr><span class=\"MJX_Assistive_MathML\" role=\"presentation\"><math xmlns=\"http://www.w3.org/1998/Math/MathML\"><msub><mrow class=\"MJX-TeXAtom-ORD\"><mover><mi>β</mi><mo stretchy=\"false\">^</mo></mover></mrow><mi>k</mi></msub></math></span></span><script type=\"math/tex\" id=\"MathJax-Element-16\">\\hat\\beta_k</script>, put a row vector in front of the above, with the <span class=\"MathJax_Preview\" style=\"color: inherit;\"></span><span class=\"MathJax\" id=\"MathJax-Element-17-Frame\" tabindex=\"0\" style=\"position: relative;\" data-mathml=\"<math xmlns=&quot;http://www.w3.org/1998/Math/MathML&quot;><mi>k</mi></math>\" role=\"presentation\"><nobr aria-hidden=\"true\"><span class=\"math\" id=\"MathJax-Span-401\" style=\"width: 0.604em; display: inline-block;\"><span style=\"display: inline-block; position: relative; width: 0.544em; height: 0px; font-size: 111%;\"><span style=\"position: absolute; clip: rect(1.685em, 1000.54em, 2.706em, -999.997em); top: -2.52em; left: 0em;\"><span class=\"mrow\" id=\"MathJax-Span-402\"><span class=\"mi\" id=\"MathJax-Span-403\" style=\"font-family: STIXGeneral-Italic;\">𝑘</span></span><span style=\"display: inline-block; width: 0px; height: 2.526em;\"></span></span></span><span style=\"display: inline-block; overflow: hidden; vertical-align: -0.063em; border-left: 0px solid; width: 0px; height: 0.87em;\"></span></span></nobr><span class=\"MJX_Assistive_MathML\" role=\"presentation\"><math xmlns=\"http://www.w3.org/1998/Math/MathML\"><mi>k</mi></math></span></span><script type=\"math/tex\" id=\"MathJax-Element-17\">k</script>th entry equal to <span class=\"MathJax_Preview\" style=\"color: inherit;\"></span><span class=\"MathJax\" id=\"MathJax-Element-18-Frame\" tabindex=\"0\" style=\"position: relative;\" data-mathml=\"<math xmlns=&quot;http://www.w3.org/1998/Math/MathML&quot;><mn>1</mn></math>\" role=\"presentation\"><nobr aria-hidden=\"true\"><span class=\"math\" id=\"MathJax-Span-404\" style=\"width: 0.544em; display: inline-block;\"><span style=\"display: inline-block; position: relative; width: 0.483em; height: 0px; font-size: 111%;\"><span style=\"position: absolute; clip: rect(1.685em, 1000.36em, 2.706em, -999.997em); top: -2.52em; left: 0em;\"><span class=\"mrow\" id=\"MathJax-Span-405\"><span class=\"mn\" id=\"MathJax-Span-406\" style=\"font-family: STIXGeneral-Regular;\">1</span></span><span style=\"display: inline-block; width: 0px; height: 2.526em;\"></span></span></span><span style=\"display: inline-block; overflow: hidden; vertical-align: -0.063em; border-left: 0px solid; width: 0px; height: 0.87em;\"></span></span></nobr><span class=\"MJX_Assistive_MathML\" role=\"presentation\"><math xmlns=\"http://www.w3.org/1998/Math/MathML\"><mn>1</mn></math></span></span><script type=\"math/tex\" id=\"MathJax-Element-18\">1</script> and the others <span class=\"MathJax_Preview\" style=\"color: inherit;\"></span><span class=\"MathJax\" id=\"MathJax-Element-19-Frame\" tabindex=\"0\" style=\"position: relative;\" data-mathml=\"<math xmlns=&quot;http://www.w3.org/1998/Math/MathML&quot;><mn>0</mn></math>\" role=\"presentation\"><nobr aria-hidden=\"true\"><span class=\"math\" id=\"MathJax-Span-407\" style=\"width: 0.544em; display: inline-block;\"><span style=\"display: inline-block; position: relative; width: 0.483em; height: 0px; font-size: 111%;\"><span style=\"position: absolute; clip: rect(1.685em, 1000.48em, 2.706em, -999.997em); top: -2.52em; left: 0em;\"><span class=\"mrow\" id=\"MathJax-Span-408\"><span class=\"mn\" id=\"MathJax-Span-409\" style=\"font-family: STIXGeneral-Regular;\">0</span></span><span style=\"display: inline-block; width: 0px; height: 2.526em;\"></span></span></span><span style=\"display: inline-block; overflow: hidden; vertical-align: -0.063em; border-left: 0px solid; width: 0px; height: 0.87em;\"></span></span></nobr><span class=\"MJX_Assistive_MathML\" role=\"presentation\"><math xmlns=\"http://www.w3.org/1998/Math/MathML\"><mn>0</mn></math></span></span><script type=\"math/tex\" id=\"MathJax-Element-19\">0</script>.</p>\n",
    "    </div>"
   ]
  },
  {
   "cell_type": "code",
   "execution_count": 47,
   "id": "4a295bde",
   "metadata": {
    "ExecuteTime": {
     "end_time": "2022-09-18T06:50:56.741215Z",
     "start_time": "2022-09-18T06:50:56.738636Z"
    }
   },
   "outputs": [
    {
     "name": "stdout",
     "output_type": "stream",
     "text": [
      "(50, 2) (50, 1)\n"
     ]
    }
   ],
   "source": [
    "X_ = np.hstack((np.ones((X.shape[0],1)),X))\n",
    "print(X_.shape, y.shape)"
   ]
  },
  {
   "cell_type": "code",
   "execution_count": 48,
   "id": "9afc9f80",
   "metadata": {
    "ExecuteTime": {
     "end_time": "2022-09-18T06:50:56.747384Z",
     "start_time": "2022-09-18T06:50:56.743476Z"
    }
   },
   "outputs": [
    {
     "name": "stdout",
     "output_type": "stream",
     "text": [
      "[2.04241556] [-1.38274542]\n"
     ]
    }
   ],
   "source": [
    "# Close Form Sol\n",
    "b_close, w_close = np.linalg.inv(X_.T.dot(X_)).dot(X_.T).dot(y)\n",
    "print( w_close, b_close)"
   ]
  },
  {
   "cell_type": "markdown",
   "id": "9c8a13cd",
   "metadata": {},
   "source": [
    "### Multivariate Optimization with Scipy"
   ]
  },
  {
   "cell_type": "code",
   "execution_count": 49,
   "id": "b586ca3c",
   "metadata": {
    "ExecuteTime": {
     "end_time": "2022-09-18T06:50:56.755208Z",
     "start_time": "2022-09-18T06:50:56.749788Z"
    }
   },
   "outputs": [
    {
     "name": "stdout",
     "output_type": "stream",
     "text": [
      "(20, 2) (20, 1)\n"
     ]
    }
   ],
   "source": [
    "from sklearn.preprocessing import normalize\n",
    "x1 = np.asmatrix(np.linspace(0, 100, 20))\n",
    "#x1 = np.asmatrix(2*np.linspace(50, 100, 20))\n",
    "x2 = np.asmatrix(np.linspace(50, 100, 20))\n",
    "x1 = normalize(x1)\n",
    "x2 = normalize(x2)\n",
    "X = np.concatenate([x1.T,x2.T], axis = 1) # also can use Vstack\n",
    "w = np.asmatrix([[10], [20]])\n",
    "noise = np.random.normal(0, 0.25, 20)\n",
    "noise = np.asmatrix(noise)\n",
    "Y = np.matmul(X,w) + noise.T\n",
    "print(X.shape, Y.shape)"
   ]
  },
  {
   "cell_type": "code",
   "execution_count": 50,
   "id": "48b43d3a",
   "metadata": {
    "ExecuteTime": {
     "end_time": "2022-09-18T06:50:56.759399Z",
     "start_time": "2022-09-18T06:50:56.756647Z"
    }
   },
   "outputs": [],
   "source": [
    "def loss(wp):\n",
    "    wp = np.asmatrix([[wp[0]], [wp[1]]])\n",
    "    Yhat = np.matmul(X,wp)\n",
    "    res = Y - Yhat\n",
    "    se = np.power(res, 2)\n",
    "    sse = np.sum(se)\n",
    "    return sse"
   ]
  },
  {
   "cell_type": "code",
   "execution_count": 51,
   "id": "e3a69384",
   "metadata": {
    "ExecuteTime": {
     "end_time": "2022-09-18T06:50:56.771892Z",
     "start_time": "2022-09-18T06:50:56.761076Z"
    }
   },
   "outputs": [
    {
     "data": {
      "text/plain": [
       "      fun: 0.8892632751492352\n",
       " hess_inv: array([[ 4.34960924, -4.09190717],\n",
       "       [-4.09190717,  4.34951521]])\n",
       "      jac: array([4.47034836e-08, 0.00000000e+00])\n",
       "  message: 'Optimization terminated successfully.'\n",
       "     nfev: 30\n",
       "      nit: 8\n",
       "     njev: 10\n",
       "   status: 0\n",
       "  success: True\n",
       "        x: array([ 9.82322379, 20.15362615])"
      ]
     },
     "execution_count": 51,
     "metadata": {},
     "output_type": "execute_result"
    }
   ],
   "source": [
    "from scipy import optimize\n",
    "p0 = [0,0]\n",
    "optimize.minimize(loss, p0, method='BFGS')"
   ]
  },
  {
   "cell_type": "markdown",
   "id": "ca709317",
   "metadata": {},
   "source": [
    "**Here, the original data is no intercept, how about we fitting a intercept?**"
   ]
  },
  {
   "cell_type": "code",
   "execution_count": 52,
   "id": "089771c7",
   "metadata": {
    "ExecuteTime": {
     "end_time": "2022-09-18T06:50:56.776939Z",
     "start_time": "2022-09-18T06:50:56.773880Z"
    }
   },
   "outputs": [
    {
     "name": "stdout",
     "output_type": "stream",
     "text": [
      "(20, 3) (20, 1)\n"
     ]
    }
   ],
   "source": [
    "X_multi = np.hstack((np.ones((X.shape[0],1)),X))\n",
    "print(X_multi.shape, Y.shape)"
   ]
  },
  {
   "cell_type": "code",
   "execution_count": 53,
   "id": "a7eb37fd",
   "metadata": {
    "ExecuteTime": {
     "end_time": "2022-09-18T06:50:56.784169Z",
     "start_time": "2022-09-18T06:50:56.779397Z"
    }
   },
   "outputs": [
    {
     "data": {
      "text/plain": [
       "2"
      ]
     },
     "execution_count": 53,
     "metadata": {},
     "output_type": "execute_result"
    }
   ],
   "source": [
    "np.linalg.matrix_rank(X.T.dot(X))"
   ]
  },
  {
   "cell_type": "code",
   "execution_count": 54,
   "id": "3eee3d69",
   "metadata": {
    "ExecuteTime": {
     "end_time": "2022-09-18T06:50:56.790141Z",
     "start_time": "2022-09-18T06:50:56.786728Z"
    }
   },
   "outputs": [
    {
     "data": {
      "text/plain": [
       "2"
      ]
     },
     "execution_count": 54,
     "metadata": {},
     "output_type": "execute_result"
    }
   ],
   "source": [
    "np.linalg.matrix_rank(X_multi.T.dot(X_multi))"
   ]
  },
  {
   "cell_type": "code",
   "execution_count": 55,
   "id": "fb8c1982",
   "metadata": {
    "ExecuteTime": {
     "end_time": "2022-09-18T06:50:56.795202Z",
     "start_time": "2022-09-18T06:50:56.791687Z"
    }
   },
   "outputs": [
    {
     "data": {
      "text/plain": [
       "0.11495246326707008"
      ]
     },
     "execution_count": 55,
     "metadata": {},
     "output_type": "execute_result"
    }
   ],
   "source": [
    "np.linalg.det(X.T.dot(X))"
   ]
  },
  {
   "cell_type": "code",
   "execution_count": 56,
   "id": "77be3c49",
   "metadata": {
    "ExecuteTime": {
     "end_time": "2022-09-18T06:50:56.801191Z",
     "start_time": "2022-09-18T06:50:56.797430Z"
    }
   },
   "outputs": [
    {
     "data": {
      "text/plain": [
       "0.0"
      ]
     },
     "execution_count": 56,
     "metadata": {},
     "output_type": "execute_result"
    }
   ],
   "source": [
    "np.linalg.det(X_multi.T.dot(X_multi))"
   ]
  },
  {
   "cell_type": "code",
   "execution_count": 57,
   "id": "273d5525",
   "metadata": {
    "ExecuteTime": {
     "end_time": "2022-09-18T06:50:56.806138Z",
     "start_time": "2022-09-18T06:50:56.803082Z"
    }
   },
   "outputs": [
    {
     "name": "stdout",
     "output_type": "stream",
     "text": [
      "[[ 2.05249382]\n",
      " [15.1920178 ]\n",
      " [ 6.10609305]]\n"
     ]
    }
   ],
   "source": [
    "# with intercept, actually here is non-singular matrix for X_multi\n",
    "# print(np.linalg.inv(X_multi.T.dot(X_multi)).dot(X_multi.T).dot(Y))\n",
    "print(np.linalg.pinv(X_multi.T.dot(X_multi)).dot(X_multi.T).dot(Y))\n",
    "# Moore-Penrose（Moore-Penrose pseudoinverse） \n",
    "# This need knowledge of SVD, you will learn in later lecture."
   ]
  },
  {
   "cell_type": "code",
   "execution_count": 58,
   "id": "5a8147a9",
   "metadata": {
    "ExecuteTime": {
     "end_time": "2022-09-18T06:50:56.810795Z",
     "start_time": "2022-09-18T06:50:56.807732Z"
    }
   },
   "outputs": [
    {
     "name": "stdout",
     "output_type": "stream",
     "text": [
      "[[ 9.82322387]\n",
      " [20.15362606]]\n"
     ]
    }
   ],
   "source": [
    "# Same as Scipy optimize\n",
    "print(np.linalg.pinv(X.T.dot(X)).dot(X.T).dot(Y))"
   ]
  },
  {
   "cell_type": "markdown",
   "id": "edd53c79",
   "metadata": {},
   "source": [
    "# Summary"
   ]
  },
  {
   "cell_type": "markdown",
   "id": "f15ff258",
   "metadata": {},
   "source": [
    " - Numpy Linear Algebra\n",
    " \n",
    " - Least Square Problem: Linear Regression\n",
    " \n",
    " - Optimization with Scipy\n",
    " \n",
    " \n",
    " \n",
    " \n",
    " - Other useful tips/hits I wanna share for u: \n",
    "       \n",
    "      \n",
    "If you interest, Autograd is also powerful tool for calculate gradient, do optimize, actually is the basis for Pytorch Basis. autograd is PyTorch's automatic differentiation engine that powers neural network training.\n",
    "        \n",
    "Autograd interface: *import autograd.numpy as np*\n",
    " \n",
    "if you have GPU(With CUDA support, Nvida Cards, or ROCM AMD cards in linux, you can use CUDA numpy) *import cupy as cp* can be regrad as numpy in GPU model.\n"
   ]
  },
  {
   "cell_type": "markdown",
   "id": "7567db9d",
   "metadata": {},
   "source": [
    "<center>End of this tutorial's coding part.\n",
    "\n",
    "<center>Wang Xudong 王旭东\n",
    "<center>xudongwang@link.cuhk.edu.cn\n",
    "<center>SDS, CUHK(SZ)\n",
    " <center>2022.09.20<center>"
   ]
  }
 ],
 "metadata": {
  "kernelspec": {
   "display_name": "Python 3",
   "language": "python",
   "name": "python3"
  },
  "language_info": {
   "codemirror_mode": {
    "name": "ipython",
    "version": 3
   },
   "file_extension": ".py",
   "mimetype": "text/x-python",
   "name": "python",
   "nbconvert_exporter": "python",
   "pygments_lexer": "ipython3",
   "version": "3.8.3"
  },
  "toc": {
   "base_numbering": 1,
   "nav_menu": {},
   "number_sections": true,
   "sideBar": true,
   "skip_h1_title": false,
   "title_cell": "Table of Contents",
   "title_sidebar": "Contents",
   "toc_cell": false,
   "toc_position": {
    "height": "calc(100% - 180px)",
    "left": "10px",
    "top": "150px",
    "width": "346.271px"
   },
   "toc_section_display": true,
   "toc_window_display": true
  },
  "varInspector": {
   "cols": {
    "lenName": 16,
    "lenType": 16,
    "lenVar": 40
   },
   "kernels_config": {
    "python": {
     "delete_cmd_postfix": "",
     "delete_cmd_prefix": "del ",
     "library": "var_list.py",
     "varRefreshCmd": "print(var_dic_list())"
    },
    "r": {
     "delete_cmd_postfix": ") ",
     "delete_cmd_prefix": "rm(",
     "library": "var_list.r",
     "varRefreshCmd": "cat(var_dic_list()) "
    }
   },
   "oldHeight": 122.855364,
   "position": {
    "height": "40px",
    "left": "1126.36px",
    "right": "20px",
    "top": "120px",
    "width": "250px"
   },
   "types_to_exclude": [
    "module",
    "function",
    "builtin_function_or_method",
    "instance",
    "_Feature"
   ],
   "varInspector_section_display": "none",
   "window_display": true
  }
 },
 "nbformat": 4,
 "nbformat_minor": 5
}
