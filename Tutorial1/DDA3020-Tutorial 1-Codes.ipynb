{
 "cells": [
  {
   "cell_type": "markdown",
   "id": "72eeea41",
   "metadata": {},
   "source": [
    "# DDA3020 - Tutorial 1: Numpy & Scikit-Learn"
   ]
  },
  {
   "cell_type": "markdown",
   "id": "457d8a89",
   "metadata": {
    "ExecuteTime": {
     "end_time": "2022-09-11T11:52:28.420689Z",
     "start_time": "2022-09-11T11:52:28.417538Z"
    }
   },
   "source": [
    "*Xudong Wang 王旭东*\n",
    "\n",
    "*xudongwang@link.cuhk.edu.cn*\n",
    "\n",
    "*School of Data Science*\n",
    "\n",
    "*The Chinese University of Hongkong, Shenzhen*\n",
    "\n",
    "*2022.09.13*"
   ]
  },
  {
   "cell_type": "code",
   "execution_count": 1,
   "id": "ab1985fd",
   "metadata": {
    "ExecuteTime": {
     "end_time": "2022-09-11T14:43:55.173301Z",
     "start_time": "2022-09-11T14:43:55.170643Z"
    }
   },
   "outputs": [],
   "source": [
    "import warnings; warnings.filterwarnings('ignore')"
   ]
  },
  {
   "cell_type": "markdown",
   "id": "3dd2fcc2",
   "metadata": {},
   "source": [
    "# Numpy"
   ]
  },
  {
   "cell_type": "markdown",
   "id": "0d13933b",
   "metadata": {},
   "source": [
    "Recommend NumPy version 1.1 or later.\n",
    "By convention, you'll find that most people in the SciPy/PyData world will import NumPy using ``np`` as an alias:"
   ]
  },
  {
   "cell_type": "code",
   "execution_count": 2,
   "id": "045c8af3",
   "metadata": {
    "ExecuteTime": {
     "end_time": "2022-09-11T14:43:55.178190Z",
     "start_time": "2022-09-11T14:43:55.175523Z"
    }
   },
   "outputs": [
    {
     "name": "stdout",
     "output_type": "stream",
     "text": [
      "1.18.5\n"
     ]
    }
   ],
   "source": [
    "import numpy as np \n",
    "print(np.__version__)"
   ]
  },
  {
   "cell_type": "markdown",
   "id": "2b02f68b",
   "metadata": {},
   "source": [
    "To display all the contents of the numpy namespace, you can type this:\n",
    "\n",
    "```ipython\n",
    "In [3]: np.<TAB>\n",
    "```\n",
    "\n",
    "And to display NumPy's built-in documentation, you can use this:\n",
    "\n",
    "```ipython\n",
    "In [4]: np?\n",
    "```\n",
    "\n",
    "More detailed documentation, along with tutorials and other resources, can be found at http://www.numpy.org."
   ]
  },
  {
   "cell_type": "markdown",
   "id": "48a15c9d",
   "metadata": {},
   "source": [
    "## The Basics of NumPy Arrays"
   ]
  },
  {
   "cell_type": "markdown",
   "id": "89b8be86",
   "metadata": {},
   "source": [
    "Data manipulation in Python is nearly synonymous with NumPy array manipulation: even packages like Pandas, Scipy, random are built around the NumPy array.\n",
    "This section will present several examples of using NumPy array manipulation to access data and subarrays, and to split, reshape, and join the arrays.\n",
    "While the types of operations shown here may seem a bit dry and pedantic, they comprise the building blocks of many other examples used throughout the book.\n",
    "Get to know them well!\n",
    "\n",
    "We'll cover a few categories of basic array manipulations here:\n",
    "\n",
    "- *Attributes of arrays*: Determining the size, shape, memory consumption, and data types of arrays\n",
    "- *Indexing of arrays*: Getting and setting the value of individual array elements\n",
    "- *Slicing of arrays*: Getting and setting smaller subarrays within a larger array\n",
    "- *Reshaping of arrays*: Changing the shape of a given array\n",
    "- *Joining and splitting of arrays*: Combining multiple arrays into one, and splitting one array into many"
   ]
  },
  {
   "cell_type": "markdown",
   "id": "786839b7",
   "metadata": {},
   "source": [
    "### NumPy Array Attributes"
   ]
  },
  {
   "cell_type": "markdown",
   "id": "c78de0c8",
   "metadata": {},
   "source": [
    "First let's discuss some useful array attributes.\n",
    "We'll start by defining three random arrays, a one-dimensional, two-dimensional, and three-dimensional array.\n",
    "We'll use NumPy's random number generator, which we will *seed* with a set value in order to ensure that the same random arrays are generated each time this code is run:"
   ]
  },
  {
   "cell_type": "code",
   "execution_count": 3,
   "id": "adb93c1f",
   "metadata": {
    "ExecuteTime": {
     "end_time": "2022-09-11T14:43:55.184344Z",
     "start_time": "2022-09-11T14:43:55.180861Z"
    }
   },
   "outputs": [],
   "source": [
    "import numpy as np\n",
    "np.random.seed(3020)  # seed for reproducibility\n",
    "\n",
    "x1 = np.random.randint(10, size=6)  # One-dimensional array\n",
    "x2 = np.random.randint(10, size=(3, 4))  # Two-dimensional array\n",
    "x3 = np.random.randint(10, size=(3, 4, 5))  # Three-dimensional array"
   ]
  },
  {
   "cell_type": "markdown",
   "id": "a2e2f91e",
   "metadata": {},
   "source": [
    "Each array has attributes ``ndim`` (the number of dimensions), ``shape`` (the size of each dimension), and ``size`` (the total size of the array):"
   ]
  },
  {
   "cell_type": "code",
   "execution_count": 4,
   "id": "7698c0e6",
   "metadata": {
    "ExecuteTime": {
     "end_time": "2022-09-11T14:43:55.189482Z",
     "start_time": "2022-09-11T14:43:55.186618Z"
    }
   },
   "outputs": [
    {
     "name": "stdout",
     "output_type": "stream",
     "text": [
      "x3 ndim:  3\n",
      "x3 shape: (3, 4, 5)\n",
      "x3 size:  60\n"
     ]
    }
   ],
   "source": [
    "print(\"x3 ndim: \", x3.ndim)\n",
    "print(\"x3 shape:\", x3.shape)\n",
    "print(\"x3 size: \", x3.size)"
   ]
  },
  {
   "cell_type": "markdown",
   "id": "902255e8",
   "metadata": {},
   "source": [
    "Another useful attribute is the ``dtype``, the data type of the array (which we discussed previously in [Understanding Data Types in Python](02.01-Understanding-Data-Types.ipynb)):"
   ]
  },
  {
   "cell_type": "code",
   "execution_count": 5,
   "id": "4d0d7035",
   "metadata": {
    "ExecuteTime": {
     "end_time": "2022-09-11T14:43:55.194309Z",
     "start_time": "2022-09-11T14:43:55.191677Z"
    }
   },
   "outputs": [
    {
     "name": "stdout",
     "output_type": "stream",
     "text": [
      "dtype: int64\n"
     ]
    }
   ],
   "source": [
    "print(\"dtype:\", x3.dtype)"
   ]
  },
  {
   "cell_type": "markdown",
   "id": "77e07702",
   "metadata": {},
   "source": [
    "Other attributes include ``itemsize``, which lists the size (in bytes) of each array element, and ``nbytes``, which lists the total size (in bytes) of the array:"
   ]
  },
  {
   "cell_type": "code",
   "execution_count": 6,
   "id": "24f2b6dd",
   "metadata": {
    "ExecuteTime": {
     "end_time": "2022-09-11T14:43:55.200329Z",
     "start_time": "2022-09-11T14:43:55.197587Z"
    }
   },
   "outputs": [
    {
     "name": "stdout",
     "output_type": "stream",
     "text": [
      "itemsize: 8 bytes\n",
      "nbytes: 480 bytes\n"
     ]
    }
   ],
   "source": [
    "print(\"itemsize:\", x3.itemsize, \"bytes\")\n",
    "print(\"nbytes:\", x3.nbytes, \"bytes\")"
   ]
  },
  {
   "cell_type": "markdown",
   "id": "62a0a87f",
   "metadata": {},
   "source": [
    "In general, we expect that ``nbytes`` is equal to ``itemsize`` times ``size``."
   ]
  },
  {
   "cell_type": "markdown",
   "id": "02150816",
   "metadata": {},
   "source": [
    "### Array Indexing: Accessing Single Elements"
   ]
  },
  {
   "cell_type": "markdown",
   "id": "2225d5bf",
   "metadata": {},
   "source": [
    "If you are familiar with Python's standard list indexing, indexing in NumPy will feel quite familiar.\n",
    "In a one-dimensional array, the $i^{th}$ value (counting from zero) can be accessed by specifying the desired index in square brackets, just as with Python lists:"
   ]
  },
  {
   "cell_type": "code",
   "execution_count": 7,
   "id": "62af1eb8",
   "metadata": {
    "ExecuteTime": {
     "end_time": "2022-09-11T14:43:55.211747Z",
     "start_time": "2022-09-11T14:43:55.202981Z"
    }
   },
   "outputs": [
    {
     "data": {
      "text/plain": [
       "array([2, 4, 7, 2, 1, 0])"
      ]
     },
     "execution_count": 7,
     "metadata": {},
     "output_type": "execute_result"
    }
   ],
   "source": [
    "x1"
   ]
  },
  {
   "cell_type": "code",
   "execution_count": 8,
   "id": "83ffea1a",
   "metadata": {
    "ExecuteTime": {
     "end_time": "2022-09-11T14:43:55.217460Z",
     "start_time": "2022-09-11T14:43:55.213969Z"
    }
   },
   "outputs": [
    {
     "data": {
      "text/plain": [
       "2"
      ]
     },
     "execution_count": 8,
     "metadata": {},
     "output_type": "execute_result"
    }
   ],
   "source": [
    "x1[0]"
   ]
  },
  {
   "cell_type": "code",
   "execution_count": 9,
   "id": "2f766d9e",
   "metadata": {
    "ExecuteTime": {
     "end_time": "2022-09-11T14:43:55.222582Z",
     "start_time": "2022-09-11T14:43:55.219291Z"
    }
   },
   "outputs": [
    {
     "data": {
      "text/plain": [
       "1"
      ]
     },
     "execution_count": 9,
     "metadata": {},
     "output_type": "execute_result"
    }
   ],
   "source": [
    "x1[4]"
   ]
  },
  {
   "cell_type": "markdown",
   "id": "3ba4504d",
   "metadata": {},
   "source": [
    "To index from the end of the array, you can use negative indices:"
   ]
  },
  {
   "cell_type": "code",
   "execution_count": 10,
   "id": "27784ffc",
   "metadata": {
    "ExecuteTime": {
     "end_time": "2022-09-11T14:43:55.227708Z",
     "start_time": "2022-09-11T14:43:55.224524Z"
    }
   },
   "outputs": [
    {
     "data": {
      "text/plain": [
       "0"
      ]
     },
     "execution_count": 10,
     "metadata": {},
     "output_type": "execute_result"
    }
   ],
   "source": [
    "x1[-1]"
   ]
  },
  {
   "cell_type": "code",
   "execution_count": 11,
   "id": "8ed9ddf0",
   "metadata": {
    "ExecuteTime": {
     "end_time": "2022-09-11T14:43:55.232860Z",
     "start_time": "2022-09-11T14:43:55.229636Z"
    }
   },
   "outputs": [
    {
     "data": {
      "text/plain": [
       "1"
      ]
     },
     "execution_count": 11,
     "metadata": {},
     "output_type": "execute_result"
    }
   ],
   "source": [
    "x1[-2]"
   ]
  },
  {
   "cell_type": "markdown",
   "id": "a034d4e1",
   "metadata": {},
   "source": [
    "In a multi-dimensional array, items can be accessed using a comma-separated tuple of indices:"
   ]
  },
  {
   "cell_type": "code",
   "execution_count": 12,
   "id": "d3b57dc5",
   "metadata": {
    "ExecuteTime": {
     "end_time": "2022-09-11T14:43:55.238288Z",
     "start_time": "2022-09-11T14:43:55.234824Z"
    }
   },
   "outputs": [
    {
     "data": {
      "text/plain": [
       "array([[5, 3, 2, 8],\n",
       "       [1, 4, 8, 9],\n",
       "       [4, 6, 1, 2]])"
      ]
     },
     "execution_count": 12,
     "metadata": {},
     "output_type": "execute_result"
    }
   ],
   "source": [
    "x2"
   ]
  },
  {
   "cell_type": "code",
   "execution_count": 13,
   "id": "f72b07fe",
   "metadata": {
    "ExecuteTime": {
     "end_time": "2022-09-11T14:43:55.245235Z",
     "start_time": "2022-09-11T14:43:55.242039Z"
    }
   },
   "outputs": [
    {
     "data": {
      "text/plain": [
       "5"
      ]
     },
     "execution_count": 13,
     "metadata": {},
     "output_type": "execute_result"
    }
   ],
   "source": [
    "x2[0, 0]"
   ]
  },
  {
   "cell_type": "code",
   "execution_count": 14,
   "id": "e2084b70",
   "metadata": {
    "ExecuteTime": {
     "end_time": "2022-09-11T14:43:55.251579Z",
     "start_time": "2022-09-11T14:43:55.248290Z"
    }
   },
   "outputs": [
    {
     "data": {
      "text/plain": [
       "4"
      ]
     },
     "execution_count": 14,
     "metadata": {},
     "output_type": "execute_result"
    }
   ],
   "source": [
    "x2[2, 0]"
   ]
  },
  {
   "cell_type": "code",
   "execution_count": 15,
   "id": "ff2dc2fd",
   "metadata": {
    "ExecuteTime": {
     "end_time": "2022-09-11T14:43:55.256428Z",
     "start_time": "2022-09-11T14:43:55.253335Z"
    }
   },
   "outputs": [
    {
     "data": {
      "text/plain": [
       "2"
      ]
     },
     "execution_count": 15,
     "metadata": {},
     "output_type": "execute_result"
    }
   ],
   "source": [
    "x2[2, -1]"
   ]
  },
  {
   "cell_type": "markdown",
   "id": "91ffe56e",
   "metadata": {},
   "source": [
    "Values can also be modified using any of the above index notation:"
   ]
  },
  {
   "cell_type": "code",
   "execution_count": 16,
   "id": "8cc3d730",
   "metadata": {
    "ExecuteTime": {
     "end_time": "2022-09-11T14:43:55.261415Z",
     "start_time": "2022-09-11T14:43:55.258263Z"
    }
   },
   "outputs": [
    {
     "data": {
      "text/plain": [
       "array([[12,  3,  2,  8],\n",
       "       [ 1,  4,  8,  9],\n",
       "       [ 4,  6,  1,  2]])"
      ]
     },
     "execution_count": 16,
     "metadata": {},
     "output_type": "execute_result"
    }
   ],
   "source": [
    "x2[0, 0] = 12\n",
    "x2"
   ]
  },
  {
   "cell_type": "markdown",
   "id": "ed24dd6b",
   "metadata": {},
   "source": [
    "Keep in mind that, unlike Python lists, NumPy arrays have a fixed type.\n",
    "This means, for example, that if you attempt to insert a floating-point value to an integer array, the value will be silently truncated. Don't be caught unaware by this behavior!"
   ]
  },
  {
   "cell_type": "code",
   "execution_count": 17,
   "id": "bbd7f0c0",
   "metadata": {
    "ExecuteTime": {
     "end_time": "2022-09-11T14:43:55.266238Z",
     "start_time": "2022-09-11T14:43:55.262915Z"
    }
   },
   "outputs": [
    {
     "data": {
      "text/plain": [
       "array([3, 4, 7, 2, 1, 0])"
      ]
     },
     "execution_count": 17,
     "metadata": {},
     "output_type": "execute_result"
    }
   ],
   "source": [
    "x1[0] = 3.14159  # this will be truncated!\n",
    "x1"
   ]
  },
  {
   "cell_type": "markdown",
   "id": "1089ff87",
   "metadata": {},
   "source": [
    "### Array Slicing: Accessing Subarrays"
   ]
  },
  {
   "cell_type": "markdown",
   "id": "60721451",
   "metadata": {},
   "source": [
    "Just as we can use square brackets to access individual array elements, we can also use them to access subarrays with the *slice* notation, marked by the colon (``:``) character.\n",
    "The NumPy slicing syntax follows that of the standard Python list; to access a slice of an array ``x``, use this:\n",
    "``` python\n",
    "x[start:stop:step]\n",
    "```\n",
    "If any of these are unspecified, they default to the values ``start=0``, ``stop=``*``size of dimension``*, ``step=1``.\n",
    "We'll take a look at accessing sub-arrays in one dimension and in multiple dimensions."
   ]
  },
  {
   "cell_type": "markdown",
   "id": "bf554a26",
   "metadata": {},
   "source": [
    "#### One-dimensional subarrays"
   ]
  },
  {
   "cell_type": "code",
   "execution_count": 18,
   "id": "5612663f",
   "metadata": {
    "ExecuteTime": {
     "end_time": "2022-09-11T14:43:55.271510Z",
     "start_time": "2022-09-11T14:43:55.267993Z"
    }
   },
   "outputs": [
    {
     "data": {
      "text/plain": [
       "array([0, 1, 2, 3, 4, 5, 6, 7, 8, 9])"
      ]
     },
     "execution_count": 18,
     "metadata": {},
     "output_type": "execute_result"
    }
   ],
   "source": [
    "x = np.arange(10)\n",
    "x"
   ]
  },
  {
   "cell_type": "code",
   "execution_count": 19,
   "id": "01bfb8c8",
   "metadata": {
    "ExecuteTime": {
     "end_time": "2022-09-11T14:43:55.276452Z",
     "start_time": "2022-09-11T14:43:55.273270Z"
    }
   },
   "outputs": [
    {
     "data": {
      "text/plain": [
       "array([0, 1, 2, 3, 4])"
      ]
     },
     "execution_count": 19,
     "metadata": {},
     "output_type": "execute_result"
    }
   ],
   "source": [
    "x[:5]  # first five elements"
   ]
  },
  {
   "cell_type": "code",
   "execution_count": 20,
   "id": "e20b645b",
   "metadata": {
    "ExecuteTime": {
     "end_time": "2022-09-11T14:43:55.281609Z",
     "start_time": "2022-09-11T14:43:55.278070Z"
    }
   },
   "outputs": [
    {
     "data": {
      "text/plain": [
       "array([5, 6, 7, 8, 9])"
      ]
     },
     "execution_count": 20,
     "metadata": {},
     "output_type": "execute_result"
    }
   ],
   "source": [
    "x[5:]  # elements after index 5"
   ]
  },
  {
   "cell_type": "code",
   "execution_count": 21,
   "id": "7b83e2ba",
   "metadata": {
    "ExecuteTime": {
     "end_time": "2022-09-11T14:43:55.286611Z",
     "start_time": "2022-09-11T14:43:55.283281Z"
    }
   },
   "outputs": [
    {
     "data": {
      "text/plain": [
       "array([4, 5, 6])"
      ]
     },
     "execution_count": 21,
     "metadata": {},
     "output_type": "execute_result"
    }
   ],
   "source": [
    "x[4:7]  # middle sub-array"
   ]
  },
  {
   "cell_type": "code",
   "execution_count": 22,
   "id": "efde1e81",
   "metadata": {
    "ExecuteTime": {
     "end_time": "2022-09-11T14:43:55.291769Z",
     "start_time": "2022-09-11T14:43:55.288334Z"
    }
   },
   "outputs": [
    {
     "data": {
      "text/plain": [
       "array([0, 2, 4, 6, 8])"
      ]
     },
     "execution_count": 22,
     "metadata": {},
     "output_type": "execute_result"
    }
   ],
   "source": [
    "x[::2]  # every other element"
   ]
  },
  {
   "cell_type": "code",
   "execution_count": 23,
   "id": "5ce7ed12",
   "metadata": {
    "ExecuteTime": {
     "end_time": "2022-09-11T14:43:55.296737Z",
     "start_time": "2022-09-11T14:43:55.293506Z"
    }
   },
   "outputs": [
    {
     "data": {
      "text/plain": [
       "array([1, 3, 5, 7, 9])"
      ]
     },
     "execution_count": 23,
     "metadata": {},
     "output_type": "execute_result"
    }
   ],
   "source": [
    "x[1::2]  # every other element, starting at index 1"
   ]
  },
  {
   "cell_type": "markdown",
   "id": "71d73c97",
   "metadata": {},
   "source": [
    "A potentially confusing case is when the ``step`` value is negative.\n",
    "In this case, the defaults for ``start`` and ``stop`` are swapped.\n",
    "This becomes a convenient way to reverse an array:"
   ]
  },
  {
   "cell_type": "code",
   "execution_count": 24,
   "id": "167bdadb",
   "metadata": {
    "ExecuteTime": {
     "end_time": "2022-09-11T14:43:55.301876Z",
     "start_time": "2022-09-11T14:43:55.298565Z"
    }
   },
   "outputs": [
    {
     "data": {
      "text/plain": [
       "array([9, 8, 7, 6, 5, 4, 3, 2, 1, 0])"
      ]
     },
     "execution_count": 24,
     "metadata": {},
     "output_type": "execute_result"
    }
   ],
   "source": [
    "x[::-1]  # all elements, reversed"
   ]
  },
  {
   "cell_type": "code",
   "execution_count": 25,
   "id": "8ab4f59c",
   "metadata": {
    "ExecuteTime": {
     "end_time": "2022-09-11T14:43:55.307062Z",
     "start_time": "2022-09-11T14:43:55.303851Z"
    }
   },
   "outputs": [
    {
     "data": {
      "text/plain": [
       "array([5, 3, 1])"
      ]
     },
     "execution_count": 25,
     "metadata": {},
     "output_type": "execute_result"
    }
   ],
   "source": [
    "x[5::-2]  # reversed every other from index 5"
   ]
  },
  {
   "cell_type": "markdown",
   "id": "87a5a561",
   "metadata": {},
   "source": [
    "#### Multi-dimensional subarrays\n",
    "\n",
    "Multi-dimensional slices work in the same way, with multiple slices separated by commas.\n",
    "For example:"
   ]
  },
  {
   "cell_type": "code",
   "execution_count": 26,
   "id": "5ee5a700",
   "metadata": {
    "ExecuteTime": {
     "end_time": "2022-09-11T14:43:55.311643Z",
     "start_time": "2022-09-11T14:43:55.308593Z"
    }
   },
   "outputs": [
    {
     "data": {
      "text/plain": [
       "array([[12,  3,  2,  8],\n",
       "       [ 1,  4,  8,  9],\n",
       "       [ 4,  6,  1,  2]])"
      ]
     },
     "execution_count": 26,
     "metadata": {},
     "output_type": "execute_result"
    }
   ],
   "source": [
    "x2"
   ]
  },
  {
   "cell_type": "code",
   "execution_count": 27,
   "id": "ab1577df",
   "metadata": {
    "ExecuteTime": {
     "end_time": "2022-09-11T14:43:55.316804Z",
     "start_time": "2022-09-11T14:43:55.313373Z"
    }
   },
   "outputs": [
    {
     "data": {
      "text/plain": [
       "array([[12,  3,  2],\n",
       "       [ 1,  4,  8]])"
      ]
     },
     "execution_count": 27,
     "metadata": {},
     "output_type": "execute_result"
    }
   ],
   "source": [
    "x2[:2, :3]  # two rows, three columns"
   ]
  },
  {
   "cell_type": "code",
   "execution_count": 28,
   "id": "8a38514e",
   "metadata": {
    "ExecuteTime": {
     "end_time": "2022-09-11T14:43:55.321785Z",
     "start_time": "2022-09-11T14:43:55.318380Z"
    }
   },
   "outputs": [
    {
     "data": {
      "text/plain": [
       "array([[12,  2],\n",
       "       [ 1,  8],\n",
       "       [ 4,  1]])"
      ]
     },
     "execution_count": 28,
     "metadata": {},
     "output_type": "execute_result"
    }
   ],
   "source": [
    "x2[:3, ::2]  # all rows, every other column"
   ]
  },
  {
   "cell_type": "markdown",
   "id": "081927ea",
   "metadata": {},
   "source": [
    "Finally, subarray dimensions can even be reversed together:"
   ]
  },
  {
   "cell_type": "code",
   "execution_count": 29,
   "id": "253e2015",
   "metadata": {
    "ExecuteTime": {
     "end_time": "2022-09-11T14:43:55.327014Z",
     "start_time": "2022-09-11T14:43:55.323387Z"
    }
   },
   "outputs": [
    {
     "data": {
      "text/plain": [
       "array([[ 2,  1,  6,  4],\n",
       "       [ 9,  8,  4,  1],\n",
       "       [ 8,  2,  3, 12]])"
      ]
     },
     "execution_count": 29,
     "metadata": {},
     "output_type": "execute_result"
    }
   ],
   "source": [
    "x2[::-1, ::-1]"
   ]
  },
  {
   "cell_type": "markdown",
   "id": "84c63498",
   "metadata": {},
   "source": [
    "##### Accessing array rows and columns\n",
    "\n",
    "One commonly needed routine is accessing of single rows or columns of an array.\n",
    "This can be done by combining indexing and slicing, using an empty slice marked by a single colon (``:``):"
   ]
  },
  {
   "cell_type": "code",
   "execution_count": 30,
   "id": "8a46b589",
   "metadata": {
    "ExecuteTime": {
     "end_time": "2022-09-11T14:43:55.331311Z",
     "start_time": "2022-09-11T14:43:55.328737Z"
    }
   },
   "outputs": [
    {
     "name": "stdout",
     "output_type": "stream",
     "text": [
      "[12  1  4]\n"
     ]
    }
   ],
   "source": [
    "print(x2[:, 0])  # first column of x2"
   ]
  },
  {
   "cell_type": "code",
   "execution_count": 31,
   "id": "deea5f5c",
   "metadata": {
    "ExecuteTime": {
     "end_time": "2022-09-11T14:43:55.335672Z",
     "start_time": "2022-09-11T14:43:55.332971Z"
    }
   },
   "outputs": [
    {
     "name": "stdout",
     "output_type": "stream",
     "text": [
      "[12  3  2  8]\n"
     ]
    }
   ],
   "source": [
    "print(x2[0, :])  # first row of x2"
   ]
  },
  {
   "cell_type": "markdown",
   "id": "2eec2767",
   "metadata": {},
   "source": [
    "In the case of row access, the empty slice can be omitted for a more compact syntax:"
   ]
  },
  {
   "cell_type": "code",
   "execution_count": 32,
   "id": "8b2ec1c7",
   "metadata": {
    "ExecuteTime": {
     "end_time": "2022-09-11T14:43:55.340231Z",
     "start_time": "2022-09-11T14:43:55.337539Z"
    }
   },
   "outputs": [
    {
     "name": "stdout",
     "output_type": "stream",
     "text": [
      "[12  3  2  8]\n"
     ]
    }
   ],
   "source": [
    "print(x2[0])  # equivalent to x2[0, :]"
   ]
  },
  {
   "cell_type": "markdown",
   "id": "723e3af7",
   "metadata": {},
   "source": [
    "#### Subarrays as no-copy views\n",
    "\n",
    "One important–and extremely useful–thing to know about array slices is that they return *views* rather than *copies* of the array data.\n",
    "This is one area in which NumPy array slicing differs from Python list slicing: in lists, slices will be copies.\n",
    "Consider our two-dimensional array from before:"
   ]
  },
  {
   "cell_type": "code",
   "execution_count": 33,
   "id": "8f1836e0",
   "metadata": {
    "ExecuteTime": {
     "end_time": "2022-09-11T14:43:55.349399Z",
     "start_time": "2022-09-11T14:43:55.346953Z"
    }
   },
   "outputs": [
    {
     "name": "stdout",
     "output_type": "stream",
     "text": [
      "[[12  3  2  8]\n",
      " [ 1  4  8  9]\n",
      " [ 4  6  1  2]]\n"
     ]
    }
   ],
   "source": [
    "print(x2)"
   ]
  },
  {
   "cell_type": "markdown",
   "id": "1391c27e",
   "metadata": {},
   "source": [
    "Let's extract a $2 \\times 2$ subarray from this:"
   ]
  },
  {
   "cell_type": "code",
   "execution_count": 34,
   "id": "70bb076c",
   "metadata": {
    "ExecuteTime": {
     "end_time": "2022-09-11T14:43:55.355287Z",
     "start_time": "2022-09-11T14:43:55.352901Z"
    }
   },
   "outputs": [
    {
     "name": "stdout",
     "output_type": "stream",
     "text": [
      "[[12  3]\n",
      " [ 1  4]]\n"
     ]
    }
   ],
   "source": [
    "x2_sub = x2[:2, :2]\n",
    "print(x2_sub)"
   ]
  },
  {
   "cell_type": "markdown",
   "id": "aec0d195",
   "metadata": {},
   "source": [
    "Now if we modify this subarray, we'll see that the original array is changed! Observe:"
   ]
  },
  {
   "cell_type": "code",
   "execution_count": 35,
   "id": "60bb7a46",
   "metadata": {
    "ExecuteTime": {
     "end_time": "2022-09-11T14:43:55.359091Z",
     "start_time": "2022-09-11T14:43:55.356638Z"
    }
   },
   "outputs": [
    {
     "name": "stdout",
     "output_type": "stream",
     "text": [
      "[[99  3]\n",
      " [ 1  4]]\n"
     ]
    }
   ],
   "source": [
    "x2_sub[0, 0] = 99\n",
    "print(x2_sub)"
   ]
  },
  {
   "cell_type": "code",
   "execution_count": 36,
   "id": "3180f7cf",
   "metadata": {
    "ExecuteTime": {
     "end_time": "2022-09-11T14:43:55.363045Z",
     "start_time": "2022-09-11T14:43:55.360842Z"
    }
   },
   "outputs": [
    {
     "name": "stdout",
     "output_type": "stream",
     "text": [
      "[[99  3  2  8]\n",
      " [ 1  4  8  9]\n",
      " [ 4  6  1  2]]\n"
     ]
    }
   ],
   "source": [
    "print(x2)"
   ]
  },
  {
   "cell_type": "markdown",
   "id": "d519d6f7",
   "metadata": {},
   "source": [
    "This default behavior is actually quite useful: it means that when we work with large datasets, we can access and process pieces of these datasets without the need to copy the underlying data buffer."
   ]
  },
  {
   "cell_type": "markdown",
   "id": "765de577",
   "metadata": {},
   "source": [
    "#### Creating copies of arrays\n",
    "\n",
    "Despite the nice features of array views, it is sometimes useful to instead explicitly copy the data within an array or a subarray. This can be most easily done with the ``copy()`` method:"
   ]
  },
  {
   "cell_type": "code",
   "execution_count": 37,
   "id": "e6a924e3",
   "metadata": {
    "ExecuteTime": {
     "end_time": "2022-09-11T14:43:55.367083Z",
     "start_time": "2022-09-11T14:43:55.364581Z"
    }
   },
   "outputs": [
    {
     "name": "stdout",
     "output_type": "stream",
     "text": [
      "[[99  3]\n",
      " [ 1  4]]\n"
     ]
    }
   ],
   "source": [
    "x2_sub_copy = x2[:2, :2].copy()\n",
    "print(x2_sub_copy)"
   ]
  },
  {
   "cell_type": "markdown",
   "id": "a2f7e9f4",
   "metadata": {},
   "source": [
    "If we now modify this subarray, the original array is not touched:"
   ]
  },
  {
   "cell_type": "code",
   "execution_count": 38,
   "id": "824e8b38",
   "metadata": {
    "ExecuteTime": {
     "end_time": "2022-09-11T14:43:55.371202Z",
     "start_time": "2022-09-11T14:43:55.368521Z"
    }
   },
   "outputs": [
    {
     "name": "stdout",
     "output_type": "stream",
     "text": [
      "[[42  3]\n",
      " [ 1  4]]\n"
     ]
    }
   ],
   "source": [
    "x2_sub_copy[0, 0] = 42\n",
    "print(x2_sub_copy)"
   ]
  },
  {
   "cell_type": "code",
   "execution_count": 39,
   "id": "f4ebb3b7",
   "metadata": {
    "ExecuteTime": {
     "end_time": "2022-09-11T14:43:55.375324Z",
     "start_time": "2022-09-11T14:43:55.372662Z"
    }
   },
   "outputs": [
    {
     "name": "stdout",
     "output_type": "stream",
     "text": [
      "[[99  3  2  8]\n",
      " [ 1  4  8  9]\n",
      " [ 4  6  1  2]]\n"
     ]
    }
   ],
   "source": [
    "print(x2)"
   ]
  },
  {
   "cell_type": "markdown",
   "id": "e9f38bb2",
   "metadata": {},
   "source": [
    "### Reshaping of Arrays\n",
    "\n",
    "Another useful type of operation is reshaping of arrays.\n",
    "The most flexible way of doing this is with the ``reshape`` method.\n",
    "For example, if you want to put the numbers 1 through 9 in a $3 \\times 3$ grid, you can do the following:"
   ]
  },
  {
   "cell_type": "code",
   "execution_count": 40,
   "id": "582ef808",
   "metadata": {
    "ExecuteTime": {
     "end_time": "2022-09-11T14:43:55.379761Z",
     "start_time": "2022-09-11T14:43:55.377110Z"
    }
   },
   "outputs": [
    {
     "name": "stdout",
     "output_type": "stream",
     "text": [
      "[[1 2 3]\n",
      " [4 5 6]\n",
      " [7 8 9]]\n"
     ]
    }
   ],
   "source": [
    "grid = np.arange(1, 10).reshape((3, 3))\n",
    "print(grid)"
   ]
  },
  {
   "cell_type": "markdown",
   "id": "90c36b56",
   "metadata": {},
   "source": [
    "Note that for this to work, the size of the initial array must match the size of the reshaped array. \n",
    "Where possible, the ``reshape`` method will use a no-copy view of the initial array, but with non-contiguous memory buffers this is not always the case.\n",
    "\n",
    "Another common reshaping pattern is the conversion of a one-dimensional array into a two-dimensional row or column matrix.\n",
    "This can be done with the ``reshape`` method, or more easily done by making use of the ``newaxis`` keyword within a slice operation:"
   ]
  },
  {
   "cell_type": "code",
   "execution_count": 41,
   "id": "29bf3a83",
   "metadata": {
    "ExecuteTime": {
     "end_time": "2022-09-11T14:43:55.386226Z",
     "start_time": "2022-09-11T14:43:55.382158Z"
    }
   },
   "outputs": [
    {
     "data": {
      "text/plain": [
       "array([[1, 2, 3]])"
      ]
     },
     "execution_count": 41,
     "metadata": {},
     "output_type": "execute_result"
    }
   ],
   "source": [
    "x = np.array([1, 2, 3])\n",
    "\n",
    "# row vector via reshape\n",
    "x.reshape((1, 3))"
   ]
  },
  {
   "cell_type": "code",
   "execution_count": 42,
   "id": "8ff659bc",
   "metadata": {
    "ExecuteTime": {
     "end_time": "2022-09-11T14:43:55.391752Z",
     "start_time": "2022-09-11T14:43:55.388490Z"
    }
   },
   "outputs": [
    {
     "data": {
      "text/plain": [
       "array([[1, 2, 3]])"
      ]
     },
     "execution_count": 42,
     "metadata": {},
     "output_type": "execute_result"
    }
   ],
   "source": [
    "# row vector via newaxis\n",
    "x[np.newaxis, :]"
   ]
  },
  {
   "cell_type": "code",
   "execution_count": 43,
   "id": "cc83302f",
   "metadata": {
    "ExecuteTime": {
     "end_time": "2022-09-11T14:43:55.396977Z",
     "start_time": "2022-09-11T14:43:55.393622Z"
    }
   },
   "outputs": [
    {
     "data": {
      "text/plain": [
       "array([[1],\n",
       "       [2],\n",
       "       [3]])"
      ]
     },
     "execution_count": 43,
     "metadata": {},
     "output_type": "execute_result"
    }
   ],
   "source": [
    "# column vector via reshape\n",
    "x.reshape((3, 1))"
   ]
  },
  {
   "cell_type": "code",
   "execution_count": 44,
   "id": "e650d2ea",
   "metadata": {
    "ExecuteTime": {
     "end_time": "2022-09-11T14:43:55.402079Z",
     "start_time": "2022-09-11T14:43:55.398788Z"
    }
   },
   "outputs": [
    {
     "data": {
      "text/plain": [
       "array([[1],\n",
       "       [2],\n",
       "       [3]])"
      ]
     },
     "execution_count": 44,
     "metadata": {},
     "output_type": "execute_result"
    }
   ],
   "source": [
    "# column vector via newaxis\n",
    "x[:, np.newaxis]"
   ]
  },
  {
   "cell_type": "markdown",
   "id": "3dca8f38",
   "metadata": {},
   "source": [
    "We will see this type of transformation often throughout the remainder of the book."
   ]
  },
  {
   "cell_type": "markdown",
   "id": "cc9e6f5a",
   "metadata": {},
   "source": [
    "### Array Concatenation and Splitting\n",
    "\n",
    "All of the preceding routines worked on single arrays. It's also possible to combine multiple arrays into one, and to conversely split a single array into multiple arrays. We'll take a look at those operations here."
   ]
  },
  {
   "cell_type": "markdown",
   "id": "ed1bc309",
   "metadata": {},
   "source": [
    "#### Concatenation of arrays\n",
    "\n",
    "Concatenation, or joining of two arrays in NumPy, is primarily accomplished using the routines ``np.concatenate``, ``np.vstack``, and ``np.hstack``.\n",
    "``np.concatenate`` takes a tuple or list of arrays as its first argument, as we can see here:"
   ]
  },
  {
   "cell_type": "code",
   "execution_count": 45,
   "id": "5c6a780e",
   "metadata": {
    "ExecuteTime": {
     "end_time": "2022-09-11T14:43:55.408345Z",
     "start_time": "2022-09-11T14:43:55.404140Z"
    }
   },
   "outputs": [
    {
     "data": {
      "text/plain": [
       "array([1, 2, 3, 3, 2, 1])"
      ]
     },
     "execution_count": 45,
     "metadata": {},
     "output_type": "execute_result"
    }
   ],
   "source": [
    "x = np.array([1, 2, 3])\n",
    "y = np.array([3, 2, 1])\n",
    "np.concatenate([x, y])"
   ]
  },
  {
   "cell_type": "markdown",
   "id": "caad1f29",
   "metadata": {},
   "source": [
    "You can also concatenate more than two arrays at once:"
   ]
  },
  {
   "cell_type": "code",
   "execution_count": 46,
   "id": "ead5fecc",
   "metadata": {
    "ExecuteTime": {
     "end_time": "2022-09-11T14:43:55.413052Z",
     "start_time": "2022-09-11T14:43:55.410122Z"
    }
   },
   "outputs": [
    {
     "name": "stdout",
     "output_type": "stream",
     "text": [
      "[ 1  2  3  3  2  1 99 99 99]\n"
     ]
    }
   ],
   "source": [
    "z = [99, 99, 99]\n",
    "print(np.concatenate([x, y, z]))"
   ]
  },
  {
   "cell_type": "markdown",
   "id": "5266ec6c",
   "metadata": {},
   "source": [
    "It can also be used for two-dimensional arrays:"
   ]
  },
  {
   "cell_type": "code",
   "execution_count": 47,
   "id": "76f81333",
   "metadata": {
    "ExecuteTime": {
     "end_time": "2022-09-11T14:43:55.417140Z",
     "start_time": "2022-09-11T14:43:55.414789Z"
    }
   },
   "outputs": [],
   "source": [
    "grid = np.array([[1, 2, 3],\n",
    "                 [4, 5, 6]])"
   ]
  },
  {
   "cell_type": "code",
   "execution_count": 48,
   "id": "bc0787f0",
   "metadata": {
    "ExecuteTime": {
     "end_time": "2022-09-11T14:43:55.422357Z",
     "start_time": "2022-09-11T14:43:55.418933Z"
    }
   },
   "outputs": [
    {
     "data": {
      "text/plain": [
       "array([[1, 2, 3],\n",
       "       [4, 5, 6],\n",
       "       [1, 2, 3],\n",
       "       [4, 5, 6]])"
      ]
     },
     "execution_count": 48,
     "metadata": {},
     "output_type": "execute_result"
    }
   ],
   "source": [
    "# concatenate along the first axis\n",
    "np.concatenate([grid, grid])"
   ]
  },
  {
   "cell_type": "code",
   "execution_count": 49,
   "id": "94af22ae",
   "metadata": {
    "ExecuteTime": {
     "end_time": "2022-09-11T14:43:55.428251Z",
     "start_time": "2022-09-11T14:43:55.423976Z"
    }
   },
   "outputs": [
    {
     "data": {
      "text/plain": [
       "array([[1, 2, 3, 1, 2, 3],\n",
       "       [4, 5, 6, 4, 5, 6]])"
      ]
     },
     "execution_count": 49,
     "metadata": {},
     "output_type": "execute_result"
    }
   ],
   "source": [
    "# concatenate along the second axis (zero-indexed)\n",
    "np.concatenate([grid, grid], axis=1)"
   ]
  },
  {
   "cell_type": "markdown",
   "id": "ea55890c",
   "metadata": {},
   "source": [
    "For working with arrays of mixed dimensions, it can be clearer to use the ``np.vstack`` (vertical stack) and ``np.hstack`` (horizontal stack) functions:"
   ]
  },
  {
   "cell_type": "code",
   "execution_count": 50,
   "id": "d43b67ee",
   "metadata": {
    "ExecuteTime": {
     "end_time": "2022-09-11T14:43:55.434895Z",
     "start_time": "2022-09-11T14:43:55.429701Z"
    }
   },
   "outputs": [
    {
     "data": {
      "text/plain": [
       "array([[1, 2, 3],\n",
       "       [9, 8, 7],\n",
       "       [6, 5, 4]])"
      ]
     },
     "execution_count": 50,
     "metadata": {},
     "output_type": "execute_result"
    }
   ],
   "source": [
    "x = np.array([1, 2, 3])\n",
    "grid = np.array([[9, 8, 7],\n",
    "                 [6, 5, 4]])\n",
    "\n",
    "# vertically stack the arrays\n",
    "np.vstack([x, grid])"
   ]
  },
  {
   "cell_type": "code",
   "execution_count": 51,
   "id": "69fdecaf",
   "metadata": {
    "ExecuteTime": {
     "end_time": "2022-09-11T14:43:55.440424Z",
     "start_time": "2022-09-11T14:43:55.436692Z"
    }
   },
   "outputs": [
    {
     "data": {
      "text/plain": [
       "array([[ 9,  8,  7, 99],\n",
       "       [ 6,  5,  4, 99]])"
      ]
     },
     "execution_count": 51,
     "metadata": {},
     "output_type": "execute_result"
    }
   ],
   "source": [
    "# horizontally stack the arrays\n",
    "y = np.array([[99],\n",
    "              [99]])\n",
    "np.hstack([grid, y])"
   ]
  },
  {
   "cell_type": "markdown",
   "id": "954d553c",
   "metadata": {},
   "source": [
    "Similary, ``np.dstack`` will stack arrays along the third axis."
   ]
  },
  {
   "cell_type": "markdown",
   "id": "190db702",
   "metadata": {},
   "source": [
    "#### Splitting of arrays\n",
    "\n",
    "The opposite of concatenation is splitting, which is implemented by the functions ``np.split``, ``np.hsplit``, and ``np.vsplit``.  For each of these, we can pass a list of indices giving the split points:"
   ]
  },
  {
   "cell_type": "code",
   "execution_count": 52,
   "id": "31f83daa",
   "metadata": {
    "ExecuteTime": {
     "end_time": "2022-09-11T14:43:55.445485Z",
     "start_time": "2022-09-11T14:43:55.442199Z"
    }
   },
   "outputs": [
    {
     "name": "stdout",
     "output_type": "stream",
     "text": [
      "[1 2 3] [99 99] [3 2 1]\n"
     ]
    }
   ],
   "source": [
    "x = [1, 2, 3, 99, 99, 3, 2, 1]\n",
    "x1, x2, x3 = np.split(x, [3, 5])\n",
    "print(x1, x2, x3)"
   ]
  },
  {
   "cell_type": "markdown",
   "id": "a17cea3f",
   "metadata": {},
   "source": [
    "Notice that *N* split-points, leads to *N + 1* subarrays.\n",
    "The related functions ``np.hsplit`` and ``np.vsplit`` are similar:"
   ]
  },
  {
   "cell_type": "code",
   "execution_count": 53,
   "id": "cfc577fe",
   "metadata": {
    "ExecuteTime": {
     "end_time": "2022-09-11T14:43:55.450868Z",
     "start_time": "2022-09-11T14:43:55.447449Z"
    }
   },
   "outputs": [
    {
     "data": {
      "text/plain": [
       "array([[ 0,  1,  2,  3],\n",
       "       [ 4,  5,  6,  7],\n",
       "       [ 8,  9, 10, 11],\n",
       "       [12, 13, 14, 15]])"
      ]
     },
     "execution_count": 53,
     "metadata": {},
     "output_type": "execute_result"
    }
   ],
   "source": [
    "grid = np.arange(16).reshape((4, 4))\n",
    "grid"
   ]
  },
  {
   "cell_type": "code",
   "execution_count": 54,
   "id": "942c8c00",
   "metadata": {
    "ExecuteTime": {
     "end_time": "2022-09-11T14:43:55.455528Z",
     "start_time": "2022-09-11T14:43:55.452460Z"
    }
   },
   "outputs": [
    {
     "name": "stdout",
     "output_type": "stream",
     "text": [
      "[[0 1 2 3]\n",
      " [4 5 6 7]]\n",
      "[[ 8  9 10 11]\n",
      " [12 13 14 15]]\n"
     ]
    }
   ],
   "source": [
    "upper, lower = np.vsplit(grid, [2])\n",
    "print(upper)\n",
    "print(lower)"
   ]
  },
  {
   "cell_type": "code",
   "execution_count": 55,
   "id": "55085c38",
   "metadata": {
    "ExecuteTime": {
     "end_time": "2022-09-11T14:43:55.460021Z",
     "start_time": "2022-09-11T14:43:55.457089Z"
    }
   },
   "outputs": [
    {
     "name": "stdout",
     "output_type": "stream",
     "text": [
      "[[ 0  1]\n",
      " [ 4  5]\n",
      " [ 8  9]\n",
      " [12 13]]\n",
      "[[ 2  3]\n",
      " [ 6  7]\n",
      " [10 11]\n",
      " [14 15]]\n"
     ]
    }
   ],
   "source": [
    "left, right = np.hsplit(grid, [2])\n",
    "print(left)\n",
    "print(right)"
   ]
  },
  {
   "cell_type": "markdown",
   "id": "99a5388f",
   "metadata": {},
   "source": [
    "Similarly, ``np.dsplit`` will split arrays along the third axis."
   ]
  },
  {
   "cell_type": "markdown",
   "id": "3feb7fb7",
   "metadata": {},
   "source": [
    "# Introducing Scikit-Learn"
   ]
  },
  {
   "cell_type": "markdown",
   "id": "bcea6838",
   "metadata": {},
   "source": [
    "There are several Python libraries which provide solid implementations of a range of machine learning algorithms.\n",
    "One of the best known is [Scikit-Learn](http://scikit-learn.org), a package that provides efficient versions of a large number of common algorithms.\n",
    "Scikit-Learn is characterized by a clean, uniform, and streamlined API, as well as by very useful and complete online documentation.\n",
    "A benefit of this uniformity is that once you understand the basic use and syntax of Scikit-Learn for one type of model, switching to a new model or algorithm is very straightforward.\n",
    "\n",
    "This section provides an overview of the Scikit-Learn API; a solid understanding of these API elements will form the foundation for understanding the deeper practical discussion of machine learning algorithms and approaches in the following chapters.\n",
    "\n",
    "We will start by covering *data representation* in Scikit-Learn, followed by covering the *Estimator* API, and finally go through a more interesting example of using these tools for exploring a set of images of hand-written digits."
   ]
  },
  {
   "cell_type": "markdown",
   "id": "50112e93",
   "metadata": {},
   "source": [
    "## Data Representation in Scikit-Learn"
   ]
  },
  {
   "cell_type": "markdown",
   "id": "89ceb38e",
   "metadata": {},
   "source": [
    "Machine learning is about creating models from data: for that reason, we'll start by discussing how data can be represented in order to be understood by the computer.\n",
    "The best way to think about data within Scikit-Learn is in terms of tables of data."
   ]
  },
  {
   "cell_type": "markdown",
   "id": "0b06f211",
   "metadata": {},
   "source": [
    "#### Data as table\n",
    "\n",
    "A basic table is a two-dimensional grid of data, in which the rows represent individual elements of the dataset, and the columns represent quantities related to each of these elements.\n",
    "For example, consider the [Iris dataset](https://en.wikipedia.org/wiki/Iris_flower_data_set), famously analyzed by Ronald Fisher in 1936.\n",
    "We can download this dataset in the form of a Pandas ``DataFrame`` using the [seaborn](http://seaborn.pydata.org/) library (Based on Matplotlib):"
   ]
  },
  {
   "cell_type": "code",
   "execution_count": 56,
   "id": "79654ee8",
   "metadata": {
    "ExecuteTime": {
     "end_time": "2022-09-11T14:43:56.448884Z",
     "start_time": "2022-09-11T14:43:55.462017Z"
    }
   },
   "outputs": [
    {
     "data": {
      "text/html": [
       "<div>\n",
       "<style scoped>\n",
       "    .dataframe tbody tr th:only-of-type {\n",
       "        vertical-align: middle;\n",
       "    }\n",
       "\n",
       "    .dataframe tbody tr th {\n",
       "        vertical-align: top;\n",
       "    }\n",
       "\n",
       "    .dataframe thead th {\n",
       "        text-align: right;\n",
       "    }\n",
       "</style>\n",
       "<table border=\"1\" class=\"dataframe\">\n",
       "  <thead>\n",
       "    <tr style=\"text-align: right;\">\n",
       "      <th></th>\n",
       "      <th>sepal_length</th>\n",
       "      <th>sepal_width</th>\n",
       "      <th>petal_length</th>\n",
       "      <th>petal_width</th>\n",
       "      <th>species</th>\n",
       "    </tr>\n",
       "  </thead>\n",
       "  <tbody>\n",
       "    <tr>\n",
       "      <th>0</th>\n",
       "      <td>5.1</td>\n",
       "      <td>3.5</td>\n",
       "      <td>1.4</td>\n",
       "      <td>0.2</td>\n",
       "      <td>setosa</td>\n",
       "    </tr>\n",
       "    <tr>\n",
       "      <th>1</th>\n",
       "      <td>4.9</td>\n",
       "      <td>3.0</td>\n",
       "      <td>1.4</td>\n",
       "      <td>0.2</td>\n",
       "      <td>setosa</td>\n",
       "    </tr>\n",
       "    <tr>\n",
       "      <th>2</th>\n",
       "      <td>4.7</td>\n",
       "      <td>3.2</td>\n",
       "      <td>1.3</td>\n",
       "      <td>0.2</td>\n",
       "      <td>setosa</td>\n",
       "    </tr>\n",
       "    <tr>\n",
       "      <th>3</th>\n",
       "      <td>4.6</td>\n",
       "      <td>3.1</td>\n",
       "      <td>1.5</td>\n",
       "      <td>0.2</td>\n",
       "      <td>setosa</td>\n",
       "    </tr>\n",
       "    <tr>\n",
       "      <th>4</th>\n",
       "      <td>5.0</td>\n",
       "      <td>3.6</td>\n",
       "      <td>1.4</td>\n",
       "      <td>0.2</td>\n",
       "      <td>setosa</td>\n",
       "    </tr>\n",
       "  </tbody>\n",
       "</table>\n",
       "</div>"
      ],
      "text/plain": [
       "   sepal_length  sepal_width  petal_length  petal_width species\n",
       "0           5.1          3.5           1.4          0.2  setosa\n",
       "1           4.9          3.0           1.4          0.2  setosa\n",
       "2           4.7          3.2           1.3          0.2  setosa\n",
       "3           4.6          3.1           1.5          0.2  setosa\n",
       "4           5.0          3.6           1.4          0.2  setosa"
      ]
     },
     "execution_count": 56,
     "metadata": {},
     "output_type": "execute_result"
    }
   ],
   "source": [
    "import seaborn as sns\n",
    "iris = sns.load_dataset('iris')\n",
    "iris.head()"
   ]
  },
  {
   "cell_type": "markdown",
   "id": "6e638ce0",
   "metadata": {},
   "source": [
    "Here each row of the data refers to a single observed flower, and the number of rows is the total number of flowers in the dataset.\n",
    "In general, we will refer to the rows of the matrix as *samples*, and the number of rows as ``n_samples``.\n",
    "\n",
    "Likewise, each column of the data refers to a particular quantitative piece of information that describes each sample.\n",
    "In general, we will refer to the columns of the matrix as *features*, and the number of columns as ``n_features``."
   ]
  },
  {
   "cell_type": "markdown",
   "id": "7fa4a53d",
   "metadata": {},
   "source": [
    "#### Features matrix\n",
    "\n",
    "This table layout makes clear that the information can be thought of as a two-dimensional numerical array or matrix, which we will call the *features matrix*.\n",
    "By convention, this features matrix is often stored in a variable named ``X``.\n",
    "The features matrix is assumed to be two-dimensional, with shape ``[n_samples, n_features]``, and is most often contained in a NumPy array or a Pandas ``DataFrame``, though some Scikit-Learn models also accept SciPy sparse matrices.\n",
    "\n",
    "The samples (i.e., rows) always refer to the individual objects described by the dataset.\n",
    "For example, the sample might be a flower, a person, a document, an image, a sound file, a video, an astronomical object, or anything else you can describe with a set of quantitative measurements.\n",
    "\n",
    "The features (i.e., columns) always refer to the distinct observations that describe each sample in a quantitative manner.\n",
    "Features are generally real-valued, but may be Boolean or discrete-valued in some cases."
   ]
  },
  {
   "cell_type": "markdown",
   "id": "8c2bd330",
   "metadata": {},
   "source": [
    "#### Target array\n",
    "\n",
    "In addition to the feature matrix ``X``, we also generally work with a *label* or *target* array, which by convention we will usually call ``y``.\n",
    "The target array is usually one dimensional, with length ``n_samples``, and is generally contained in a NumPy array or Pandas ``Series``.\n",
    "The target array may have continuous numerical values, or discrete classes/labels.\n",
    "While some Scikit-Learn estimators do handle multiple target values in the form of a two-dimensional, ``[n_samples, n_targets]`` target array, we will primarily be working with the common case of a one-dimensional target array.\n",
    "\n",
    "Often one point of confusion is how the target array differs from the other features columns. The distinguishing feature of the target array is that it is usually the quantity we want to *predict from the data*: in statistical terms, it is the dependent variable.\n",
    "For example, in the preceding data we may wish to construct a model that can predict the species of flower based on the other measurements; in this case, the ``species`` column would be considered the target array.\n",
    "\n",
    "With this target array in mind, we can use Seaborn(Based on Matplotlib) to conveniently visualize the data:"
   ]
  },
  {
   "cell_type": "code",
   "execution_count": 57,
   "id": "1af26069",
   "metadata": {
    "ExecuteTime": {
     "end_time": "2022-09-11T14:44:02.279168Z",
     "start_time": "2022-09-11T14:43:56.450989Z"
    }
   },
   "outputs": [
    {
     "data": {
      "image/png": "[encoded data removed]",
      "text/plain": [
       "<Figure size 518.85x432 with 20 Axes>"
      ]
     },
     "metadata": {},
     "output_type": "display_data"
    }
   ],
   "source": [
    "%matplotlib inline\n",
    "import seaborn as sns; sns.set()\n",
    "sns.pairplot(iris, hue='species', size=1.5);"
   ]
  },
  {
   "cell_type": "markdown",
   "id": "d70d1678",
   "metadata": {},
   "source": [
    "For use in Scikit-Learn, we will extract the features matrix and target array from the ``DataFrame``, which we can do using some of the Pandas ``DataFrame`` operations."
   ]
  },
  {
   "cell_type": "code",
   "execution_count": 58,
   "id": "bbc86d58",
   "metadata": {
    "ExecuteTime": {
     "end_time": "2022-09-11T14:44:02.284826Z",
     "start_time": "2022-09-11T14:44:02.281003Z"
    }
   },
   "outputs": [
    {
     "data": {
      "text/plain": [
       "(150, 4)"
      ]
     },
     "execution_count": 58,
     "metadata": {},
     "output_type": "execute_result"
    }
   ],
   "source": [
    "X_iris = iris.drop('species', axis=1)\n",
    "X_iris.shape"
   ]
  },
  {
   "cell_type": "code",
   "execution_count": 59,
   "id": "f0c1a94e",
   "metadata": {
    "ExecuteTime": {
     "end_time": "2022-09-11T14:44:02.289280Z",
     "start_time": "2022-09-11T14:44:02.286524Z"
    }
   },
   "outputs": [
    {
     "data": {
      "text/plain": [
       "(150,)"
      ]
     },
     "execution_count": 59,
     "metadata": {},
     "output_type": "execute_result"
    }
   ],
   "source": [
    "y_iris = iris['species']\n",
    "y_iris.shape"
   ]
  },
  {
   "cell_type": "markdown",
   "id": "7ba61dfd",
   "metadata": {},
   "source": [
    "To summarize, the expected layout of features and target values is visualized in the following diagram:"
   ]
  },
  {
   "cell_type": "markdown",
   "id": "36a8f41c",
   "metadata": {},
   "source": [
    "![](figures/samples-features.png)\n"
   ]
  },
  {
   "cell_type": "markdown",
   "id": "f01235e6",
   "metadata": {},
   "source": [
    "With this data properly formatted, we can move on to consider the *estimator* API of Scikit-Learn:"
   ]
  },
  {
   "cell_type": "markdown",
   "id": "48c7f70a",
   "metadata": {},
   "source": [
    "## Scikit-Learn's Estimator API"
   ]
  },
  {
   "cell_type": "markdown",
   "id": "2b8a0e7d",
   "metadata": {},
   "source": [
    "The Scikit-Learn API is designed with the following guiding principles in mind, as outlined in the [Scikit-Learn API paper](http://arxiv.org/abs/1309.0238):\n",
    "\n",
    "- *Consistency*: All objects share a common interface drawn from a limited set of methods, with consistent documentation.\n",
    "\n",
    "- *Inspection*: All specified parameter values are exposed as public attributes.\n",
    "\n",
    "- *Limited object hierarchy*: Only algorithms are represented by Python classes; datasets are represented\n",
    "  in standard formats (NumPy arrays, Pandas ``DataFrame``s, SciPy sparse matrices) and parameter\n",
    "  names use standard Python strings.\n",
    "\n",
    "- *Composition*: Many machine learning tasks can be expressed as sequences of more fundamental algorithms,\n",
    "  and Scikit-Learn makes use of this wherever possible.\n",
    "\n",
    "- *Sensible defaults*: When models require user-specified parameters, the library defines an appropriate default value.\n",
    "\n",
    "In practice, these principles make Scikit-Learn very easy to use, once the basic principles are understood.\n",
    "Every machine learning algorithm in Scikit-Learn is implemented via the Estimator API, which provides a consistent interface for a wide range of machine learning applications."
   ]
  },
  {
   "cell_type": "markdown",
   "id": "9d793c44",
   "metadata": {},
   "source": [
    "### Basics of the API\n",
    "\n",
    "Most commonly, the steps in using the Scikit-Learn estimator API are as follows\n",
    "(we will step through a handful of detailed examples in the sections that follow).\n",
    "\n",
    "1. Choose a class of model by importing the appropriate estimator class from Scikit-Learn.\n",
    "2. Choose model hyperparameters by instantiating this class with desired values.\n",
    "3. Arrange data into a features matrix and target vector following the discussion above.\n",
    "4. Fit the model to your data by calling the ``fit()`` method of the model instance.\n",
    "5. Apply the Model to new data:\n",
    "   - For supervised learning, often we predict labels for unknown data using the ``predict()`` method.\n",
    "   - For unsupervised learning, we often transform or infer properties of the data using the ``transform()`` or ``predict()`` method.\n",
    "\n",
    "We will now step through two simple examples of applying supervised and unsupervised learning methods."
   ]
  },
  {
   "cell_type": "markdown",
   "id": "9f8cf039",
   "metadata": {},
   "source": [
    "### Supervised learning example: Simple linear regression\n",
    "\n",
    "As an example of this process, let's consider a simple linear regression—that is, the common case of fitting a line to $(x, y)$ data.\n",
    "We will use the following simple data for our regression example:"
   ]
  },
  {
   "cell_type": "code",
   "execution_count": 60,
   "id": "6c928d3c",
   "metadata": {
    "ExecuteTime": {
     "end_time": "2022-09-11T14:44:02.509513Z",
     "start_time": "2022-09-11T14:44:02.290635Z"
    }
   },
   "outputs": [
    {
     "data": {
      "image/png": "[encoded data removed]",
      "text/plain": [
       "<Figure size 576x396 with 1 Axes>"
      ]
     },
     "metadata": {},
     "output_type": "display_data"
    }
   ],
   "source": [
    "import numpy as np\n",
    "\n",
    "import matplotlib.pyplot as plt\n",
    "plt.style.use('seaborn')\n",
    "\n",
    "rng = np.random.RandomState(3020) # get a random seeds generator\n",
    "x = 10 * rng.rand(50)\n",
    "y = 2 * x - 1 + rng.randn(50)\n",
    "plt.scatter(x, y);"
   ]
  },
  {
   "cell_type": "markdown",
   "id": "9d4bd118",
   "metadata": {},
   "source": [
    "With this data in place, we can use the recipe outlined earlier. Let's walk through the process: "
   ]
  },
  {
   "cell_type": "markdown",
   "id": "772a52d5",
   "metadata": {},
   "source": [
    "#### 1. Choose a class of model\n",
    "\n",
    "In Scikit-Learn, every class of model is represented by a Python class.\n",
    "So, for example, if we would like to compute a simple linear regression model, we can import the linear regression class:"
   ]
  },
  {
   "cell_type": "code",
   "execution_count": 61,
   "id": "282cc63c",
   "metadata": {
    "ExecuteTime": {
     "end_time": "2022-09-11T14:44:02.660002Z",
     "start_time": "2022-09-11T14:44:02.511239Z"
    }
   },
   "outputs": [],
   "source": [
    "from sklearn.linear_model import LinearRegression"
   ]
  },
  {
   "cell_type": "markdown",
   "id": "5858592e",
   "metadata": {},
   "source": [
    "Note that other more general linear regression models exist as well; you can read more about them in the [``sklearn.linear_model`` module documentation](http://Scikit-Learn.org/stable/modules/linear_model.html)."
   ]
  },
  {
   "cell_type": "markdown",
   "id": "df017425",
   "metadata": {},
   "source": [
    "#### 2. Choose model hyperparameters\n",
    "\n",
    "An important point is that *a class of model is not the same as an instance of a model*.\n",
    "\n",
    "Once we have decided on our model class, there are still some options open to us.\n",
    "Depending on the model class we are working with, we might need to answer one or more questions like the following:\n",
    "\n",
    "- Would we like to fit for the offset (i.e., *y*-intercept)?\n",
    "- Would we like the model to be normalized?\n",
    "- Would we like to preprocess our features to add model flexibility?\n",
    "- What degree of regularization would we like to use in our model?\n",
    "- How many model components would we like to use?\n",
    "\n",
    "These are examples of the important choices that must be made *once the model class is selected*.\n",
    "These choices are often represented as *hyperparameters*, or parameters that must be set before the model is fit to data.\n",
    "In Scikit-Learn, hyperparameters are chosen by passing values at model instantiation.\n",
    "We will explore how you can quantitatively motivate the choice of hyperparameters in [Hyperparameters and Model Validation](05.03-Hyperparameters-and-Model-Validation.ipynb).\n",
    "\n",
    "For our linear regression example, we can instantiate the ``LinearRegression`` class and specify that we would like to fit the intercept using the ``fit_intercept`` hyperparameter:"
   ]
  },
  {
   "cell_type": "code",
   "execution_count": 62,
   "id": "4b59140c",
   "metadata": {
    "ExecuteTime": {
     "end_time": "2022-09-11T14:44:02.667348Z",
     "start_time": "2022-09-11T14:44:02.661386Z"
    }
   },
   "outputs": [
    {
     "name": "stdout",
     "output_type": "stream",
     "text": [
      "LinearRegression()\n"
     ]
    }
   ],
   "source": [
    "model = LinearRegression(fit_intercept=True)\n",
    "print(model) # LinearRegression(copy_X=True, fit_intercept=True, n_jobs=1, normalize=False)\n",
    "?model"
   ]
  },
  {
   "cell_type": "markdown",
   "id": "55bffc21",
   "metadata": {},
   "source": [
    "Keep in mind that when the model is instantiated, the only action is the storing of these hyperparameter values.\n",
    "In particular, we have not yet applied the model to any data: the Scikit-Learn API makes very clear the distinction between *choice of model* and *application of model to data*."
   ]
  },
  {
   "cell_type": "markdown",
   "id": "c9ec534c",
   "metadata": {},
   "source": [
    "#### 3. Arrange data into a features matrix and target vector\n",
    "\n",
    "Previously we detailed the Scikit-Learn data representation, which requires a two-dimensional features matrix and a one-dimensional target array.\n",
    "Here our target variable ``y`` is already in the correct form (a length-``n_samples`` array), but we need to massage the data ``x`` to make it a matrix of size ``[n_samples, n_features]``.\n",
    "In this case, this amounts to a simple reshaping of the one-dimensional array:"
   ]
  },
  {
   "cell_type": "code",
   "execution_count": 63,
   "id": "6ed9e8bc",
   "metadata": {
    "ExecuteTime": {
     "end_time": "2022-09-11T14:44:02.672941Z",
     "start_time": "2022-09-11T14:44:02.669952Z"
    }
   },
   "outputs": [
    {
     "data": {
      "text/plain": [
       "(50, 1)"
      ]
     },
     "execution_count": 63,
     "metadata": {},
     "output_type": "execute_result"
    }
   ],
   "source": [
    "X = x[:, np.newaxis] # Recap the numpy usage. We can also use X = x.reshape(-1,1)\n",
    "X.shape"
   ]
  },
  {
   "cell_type": "markdown",
   "id": "74bdf912",
   "metadata": {},
   "source": [
    "#### 4. Fit the model to your data\n",
    "\n",
    "Now it is time to apply our model to data.\n",
    "This can be done with the ``fit()`` method of the model:"
   ]
  },
  {
   "cell_type": "code",
   "execution_count": 64,
   "id": "fea279ef",
   "metadata": {
    "ExecuteTime": {
     "end_time": "2022-09-11T14:44:02.678335Z",
     "start_time": "2022-09-11T14:44:02.674695Z"
    }
   },
   "outputs": [
    {
     "data": {
      "text/plain": [
       "LinearRegression()"
      ]
     },
     "execution_count": 64,
     "metadata": {},
     "output_type": "execute_result"
    }
   ],
   "source": [
    "model.fit(X, y) # LinearRegression(copy_X=True, fit_intercept=True, n_jobs=1, normalize=False)"
   ]
  },
  {
   "cell_type": "markdown",
   "id": "3d16988b",
   "metadata": {},
   "source": [
    "This ``fit()`` command causes a number of model-dependent internal computations to take place, and the results of these computations are stored in model-specific attributes that the user can explore.\n",
    "In Scikit-Learn, by convention all model parameters that were learned during the ``fit()`` process have trailing underscores; for example in this linear model, we have the following:"
   ]
  },
  {
   "cell_type": "code",
   "execution_count": 65,
   "id": "0df479a2",
   "metadata": {
    "ExecuteTime": {
     "end_time": "2022-09-11T14:44:02.683453Z",
     "start_time": "2022-09-11T14:44:02.679956Z"
    }
   },
   "outputs": [
    {
     "data": {
      "text/plain": [
       "array([2.04241556])"
      ]
     },
     "execution_count": 65,
     "metadata": {},
     "output_type": "execute_result"
    }
   ],
   "source": [
    "model.coef_"
   ]
  },
  {
   "cell_type": "code",
   "execution_count": 66,
   "id": "2d14900d",
   "metadata": {
    "ExecuteTime": {
     "end_time": "2022-09-11T14:44:02.688739Z",
     "start_time": "2022-09-11T14:44:02.685356Z"
    }
   },
   "outputs": [
    {
     "data": {
      "text/plain": [
       "-1.38274542422465"
      ]
     },
     "execution_count": 66,
     "metadata": {},
     "output_type": "execute_result"
    }
   ],
   "source": [
    "model.intercept_"
   ]
  },
  {
   "cell_type": "markdown",
   "id": "c99bb2d8",
   "metadata": {},
   "source": [
    "These two parameters represent the slope and intercept of the simple linear fit to the data.\n",
    "Comparing to the data definition, we see that they are close to the input slope of 2 and intercept of -1.\n",
    "\n",
    "One question that frequently comes up regards the uncertainty in such internal model parameters.\n",
    "In general, Scikit-Learn does not provide tools to draw conclusions from internal model parameters themselves: interpreting model parameters is much more a *statistical modeling* question than a *machine learning* question.\n",
    "Machine learning rather focuses on what the model *predicts*.\n",
    "If you would like to dive into the meaning of fit parameters within the model, other tools are available, including the [Statsmodels Python package](http://statsmodels.sourceforge.net/)."
   ]
  },
  {
   "cell_type": "markdown",
   "id": "ce7a627a",
   "metadata": {},
   "source": [
    "#### 5. Predict labels for unknown data\n",
    "\n",
    "Once the model is trained, the main task of supervised machine learning is to evaluate it based on what it says about new data that was not part of the training set.\n",
    "In Scikit-Learn, this can be done using the ``predict()`` method.\n",
    "For the sake of this example, our \"new data\" will be a grid of *x* values, and we will ask what *y* values the model predicts:"
   ]
  },
  {
   "cell_type": "code",
   "execution_count": 67,
   "id": "c5d4c30e",
   "metadata": {
    "ExecuteTime": {
     "end_time": "2022-09-11T14:44:02.692968Z",
     "start_time": "2022-09-11T14:44:02.690492Z"
    }
   },
   "outputs": [],
   "source": [
    "xfit = np.linspace(-1, 11)  # default num = 50"
   ]
  },
  {
   "cell_type": "markdown",
   "id": "7dad5e1b",
   "metadata": {},
   "source": [
    "As before, we need to coerce these *x* values into a ``[n_samples, n_features]`` features matrix, after which we can feed it to the model:"
   ]
  },
  {
   "cell_type": "code",
   "execution_count": 68,
   "id": "2d7ea058",
   "metadata": {
    "ExecuteTime": {
     "end_time": "2022-09-11T14:44:02.697254Z",
     "start_time": "2022-09-11T14:44:02.694630Z"
    }
   },
   "outputs": [],
   "source": [
    "Xfit = xfit[:, np.newaxis]\n",
    "yfit = model.predict(Xfit)"
   ]
  },
  {
   "cell_type": "markdown",
   "id": "3b222fa8",
   "metadata": {},
   "source": [
    "Finally, let's visualize the results by plotting first the raw data, and then this model fit:"
   ]
  },
  {
   "cell_type": "code",
   "execution_count": 69,
   "id": "84508f72",
   "metadata": {
    "ExecuteTime": {
     "end_time": "2022-09-11T14:44:03.249680Z",
     "start_time": "2022-09-11T14:44:02.699117Z"
    }
   },
   "outputs": [
    {
     "data": {
      "image/png": "[encoded data removed]",
      "text/plain": [
       "<Figure size 576x396 with 1 Axes>"
      ]
     },
     "metadata": {},
     "output_type": "display_data"
    }
   ],
   "source": [
    "plt.figure() \n",
    "plt.scatter(x, y,label = 'Training Data')\n",
    "plt.scatter(xfit, yfit, c = 'red',marker='*',label = 'Predicted Data');\n",
    "plt.plot(xfit, yfit, c = 'red', label = 'Fitted Line');\n",
    "plt.title(r\"Linear Regression: $y = 2 * x - 1 + \\epsilon$\");\n",
    "plt.legend(loc = 'best')\n",
    "plt.show() "
   ]
  },
  {
   "cell_type": "markdown",
   "id": "d2ac1b2f",
   "metadata": {},
   "source": [
    "### Supervised learning example: Iris classification\n",
    "\n",
    "Let's take a look at another example of this process, using the Iris dataset we discussed earlier.\n",
    "Our question will be this: given a model trained on a portion of the Iris data, how well can we predict the remaining labels?\n",
    "\n",
    "For this task, we will use an extremely simple generative model known as Gaussian naive Bayes, which proceeds by assuming each class is drawn from an axis-aligned Gaussian distribution for more details).\n",
    "Because it is so fast and has no hyperparameters to choose, Gaussian naive Bayes is often a good model to use as a baseline classification, before exploring whether improvements can be found through more sophisticated models.\n",
    "\n",
    "We would like to evaluate the model on data it has not seen before, and so we will split the data into a *training set* and a *testing set*.\n",
    "This could be done by hand, but it is more convenient to use the ``train_test_split`` utility function:"
   ]
  },
  {
   "cell_type": "code",
   "execution_count": 70,
   "id": "2c5ec8c0",
   "metadata": {
    "ExecuteTime": {
     "end_time": "2022-09-11T14:44:03.291455Z",
     "start_time": "2022-09-11T14:44:03.251049Z"
    }
   },
   "outputs": [],
   "source": [
    "# Load the iris datasets from sklearn\n",
    "from sklearn.datasets import load_iris\n",
    "X_iris, y_iris = load_iris()['data'], load_iris()['target']"
   ]
  },
  {
   "cell_type": "code",
   "execution_count": 71,
   "id": "d4d78950",
   "metadata": {
    "ExecuteTime": {
     "end_time": "2022-09-11T14:44:03.296297Z",
     "start_time": "2022-09-11T14:44:03.293094Z"
    }
   },
   "outputs": [],
   "source": [
    "from sklearn.model_selection import train_test_split\n",
    "# from sklearn.cross_validation import train_test_split\n",
    "Xtrain, Xtest, ytrain, ytest = train_test_split(X_iris, y_iris,\n",
    "                                                random_state=3020)"
   ]
  },
  {
   "cell_type": "markdown",
   "id": "e1bb5b05",
   "metadata": {},
   "source": [
    "With the data arranged, we can follow our recipe to predict the labels:"
   ]
  },
  {
   "cell_type": "code",
   "execution_count": 72,
   "id": "dc3b9552",
   "metadata": {
    "ExecuteTime": {
     "end_time": "2022-09-11T14:44:03.303359Z",
     "start_time": "2022-09-11T14:44:03.298114Z"
    }
   },
   "outputs": [],
   "source": [
    "from sklearn.naive_bayes import GaussianNB # 1. choose model class\n",
    "model = GaussianNB()                       # 2. instantiate model\n",
    "model.fit(Xtrain, ytrain)                  # 3. fit model to data\n",
    "y_model = model.predict(Xtest)             # 4. predict on new data"
   ]
  },
  {
   "cell_type": "markdown",
   "id": "dcbed79d",
   "metadata": {},
   "source": [
    "Finally, we can use the ``accuracy_score`` utility to see the fraction of predicted labels that match their true value:"
   ]
  },
  {
   "cell_type": "code",
   "execution_count": 73,
   "id": "1247594c",
   "metadata": {
    "ExecuteTime": {
     "end_time": "2022-09-11T14:44:03.309248Z",
     "start_time": "2022-09-11T14:44:03.305178Z"
    }
   },
   "outputs": [
    {
     "data": {
      "text/plain": [
       "0.9736842105263158"
      ]
     },
     "execution_count": 73,
     "metadata": {},
     "output_type": "execute_result"
    }
   ],
   "source": [
    "from sklearn.metrics import accuracy_score\n",
    "accuracy_score(ytest, y_model)"
   ]
  },
  {
   "cell_type": "markdown",
   "id": "6ce0d5ed",
   "metadata": {},
   "source": [
    "With an accuracy topping 97%, we see that even this very naive classification algorithm is effective for this particular dataset!"
   ]
  },
  {
   "cell_type": "markdown",
   "id": "057321ca",
   "metadata": {},
   "source": [
    "### Unsupervised learning example: Iris dimensionality\n",
    "\n",
    "As an example of an unsupervised learning problem, let's take a look at reducing the dimensionality of the Iris data so as to more easily visualize it.\n",
    "Recall that the Iris data is four dimensional: there are four features recorded for each sample.\n",
    "\n",
    "The task of dimensionality reduction is to ask whether there is a suitable lower-dimensional representation that retains the essential features of the data.\n",
    "Often dimensionality reduction is used as an aid to visualizing data: after all, it is much easier to plot data in two dimensions than in four dimensions or higher!\n",
    "\n",
    "Here we will use principal component analysis (PCA, we will learn it at future DDA3020 lectures, Here just a use demo for Unsupervised learning), which is a fast linear dimensionality reduction technique.\n",
    "We will ask the model to return two components—that is, a two-dimensional representation of the data.\n",
    "\n",
    "Following the sequence of steps outlined earlier, we have:"
   ]
  },
  {
   "cell_type": "code",
   "execution_count": 74,
   "id": "f390b63e",
   "metadata": {
    "ExecuteTime": {
     "end_time": "2022-09-11T14:44:03.328035Z",
     "start_time": "2022-09-11T14:44:03.310758Z"
    }
   },
   "outputs": [],
   "source": [
    "from sklearn.decomposition import PCA  # 1. Choose the model class\n",
    "model = PCA(n_components=2)            # 2. Instantiate the model with hyperparameters\n",
    "model.fit(X_iris)                      # 3. Fit to data. Notice y is not specified! Cuz is Unsupervised learning.\n",
    "X_2D = model.transform(X_iris)         # 4. Transform the data to two dimensions"
   ]
  },
  {
   "cell_type": "markdown",
   "id": "9232a196",
   "metadata": {},
   "source": [
    "Now let's plot the results. A quick way to do this is to insert the results into the original Iris ``DataFrame``, and use Seaborn's ``lmplot`` to show the results:"
   ]
  },
  {
   "cell_type": "code",
   "execution_count": 75,
   "id": "03343a44",
   "metadata": {
    "ExecuteTime": {
     "end_time": "2022-09-11T14:44:03.838465Z",
     "start_time": "2022-09-11T14:44:03.329859Z"
    }
   },
   "outputs": [
    {
     "data": {
      "text/plain": [
       "<Figure size 576x396 with 0 Axes>"
      ]
     },
     "metadata": {},
     "output_type": "display_data"
    },
    {
     "data": {
      "image/png": "[encoded data removed]",
      "text/plain": [
       "<Figure size 439.125x360 with 1 Axes>"
      ]
     },
     "metadata": {},
     "output_type": "display_data"
    }
   ],
   "source": [
    "plt.figure()\n",
    "iris['PCA1'] = X_2D[:, 0]\n",
    "iris['PCA2'] = X_2D[:, 1]\n",
    "sns.lmplot(\"PCA1\", \"PCA2\", hue='species', data=iris, fit_reg=False);\n",
    "plt.show() "
   ]
  },
  {
   "cell_type": "markdown",
   "id": "12897e80",
   "metadata": {},
   "source": [
    "We see that in the two-dimensional representation, the species are fairly well separated, even though the PCA algorithm had no knowledge of the species labels!\n",
    "This indicates to us that a relatively straightforward classification will probably be effective on the dataset, as we saw before. For PCA method, we will learn it at the end of this semester's DDA3020 course."
   ]
  },
  {
   "cell_type": "markdown",
   "id": "0a73598e",
   "metadata": {},
   "source": [
    "# Summary"
   ]
  },
  {
   "cell_type": "markdown",
   "id": "03d01e9a",
   "metadata": {},
   "source": [
    "In this tutorial we have covered the essential features of Numpy ndarray, the Scikit-Learn data representation, and the estimator API.\n",
    "Regardless of the type of estimator, the same import/instantiate/fit/predict pattern holds.\n",
    "Armed with this information about the estimator API, you can explore the Scikit-Learn documentation and begin trying out various machine learning models on your data."
   ]
  },
  {
   "cell_type": "markdown",
   "id": "7567db9d",
   "metadata": {},
   "source": [
    "<center>End of this tutorial's coding part.\n",
    "\n",
    "<center>Wang Xudong 王旭东\n",
    "<center>xudongwang@link.cuhk.edu.cn\n",
    "<center>SDS, CUHK(SZ)\n",
    " <center>2022.09.13<center>"
   ]
  }
 ],
 "metadata": {
  "kernelspec": {
   "display_name": "Python 3.8.3 ('base')",
   "language": "python",
   "name": "python3"
  },
  "language_info": {
   "codemirror_mode": {
    "name": "ipython",
    "version": 3
   },
   "file_extension": ".py",
   "mimetype": "text/x-python",
   "name": "python",
   "nbconvert_exporter": "python",
   "pygments_lexer": "ipython3",
   "version": "3.8.3"
  },
  "toc": {
   "base_numbering": 1,
   "nav_menu": {},
   "number_sections": true,
   "sideBar": true,
   "skip_h1_title": false,
   "title_cell": "Table of Contents",
   "title_sidebar": "Contents",
   "toc_cell": false,
   "toc_position": {
    "height": "calc(100% - 180px)",
    "left": "10px",
    "top": "150px",
    "width": "349.091px"
   },
   "toc_section_display": true,
   "toc_window_display": true
  },
  "varInspector": {
   "cols": {
    "lenName": 16,
    "lenType": 16,
    "lenVar": 40
   },
   "kernels_config": {
    "python": {
     "delete_cmd_postfix": "",
     "delete_cmd_prefix": "del ",
     "library": "var_list.py",
     "varRefreshCmd": "print(var_dic_list())"
    },
    "r": {
     "delete_cmd_postfix": ") ",
     "delete_cmd_prefix": "rm(",
     "library": "var_list.r",
     "varRefreshCmd": "cat(var_dic_list()) "
    }
   },
   "oldHeight": 122.84136400000001,
   "position": {
    "height": "40px",
    "left": "1475.45px",
    "right": "20px",
    "top": "120px",
    "width": "250px"
   },
   "types_to_exclude": [
    "module",
    "function",
    "builtin_function_or_method",
    "instance",
    "_Feature"
   ],
   "varInspector_section_display": "none",
   "window_display": true
  },
  "vscode": {
   "interpreter": {
    "hash": "7b34b089ce0dfc9935940e0a22050b2949fa617f7a2b73925623c261bed16aeb"
   }
  }
 },
 "nbformat": 4,
 "nbformat_minor": 5
}
